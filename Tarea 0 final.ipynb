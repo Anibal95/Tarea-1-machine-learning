{
 "cells": [
  {
   "cell_type": "markdown",
   "metadata": {},
   "source": [
    ">#                            Tarea 0   Máquinas de aprendizaje\n",
    ">\n",
    ">\n",
    "> Integrantes: \n",
    ">              - Anibal Palomo         rol: 201373575-4\n",
    ">              - Cristian Aguilar      rol: 201304741-6"
   ]
  },
  {
   "cell_type": "markdown",
   "metadata": {},
   "source": [
    ">#  2. Job Salary Prediction\n",
    ">\n",
    ">En esta sección se ha decido trabajar solo con una porción de los datos pues existen algunas funciones que recorren el dataframe linealmente como word_extractor o new_words, lo que genera costos computacionales demasiado altos, esto hace que el conjunto de validación reduzca su tamaño proporcionalmente, se ha seleccionado que corresponda al 10% de los datos de entrada.\n",
    ">\n",
    "> a) Carge los datos *csv* de entrenamiento y cree un conjunto de validación con los últimos 10 mil datos en un dataframe de *pandas*. Describa los datos, apóyese de gráficos ¿Cuántos datos hay en cada conjunto?  "
   ]
  },
  {
   "cell_type": "code",
   "execution_count": 1,
   "metadata": {
    "scrolled": true
   },
   "outputs": [
    {
     "data": {
      "text/html": [
       "<div>\n",
       "<style scoped>\n",
       "    .dataframe tbody tr th:only-of-type {\n",
       "        vertical-align: middle;\n",
       "    }\n",
       "\n",
       "    .dataframe tbody tr th {\n",
       "        vertical-align: top;\n",
       "    }\n",
       "\n",
       "    .dataframe thead th {\n",
       "        text-align: right;\n",
       "    }\n",
       "</style>\n",
       "<table border=\"1\" class=\"dataframe\">\n",
       "  <thead>\n",
       "    <tr style=\"text-align: right;\">\n",
       "      <th></th>\n",
       "      <th>Id</th>\n",
       "      <th>Title</th>\n",
       "      <th>FullDescription</th>\n",
       "      <th>LocationRaw</th>\n",
       "      <th>LocationNormalized</th>\n",
       "      <th>ContractType</th>\n",
       "      <th>ContractTime</th>\n",
       "      <th>Company</th>\n",
       "      <th>Category</th>\n",
       "      <th>SalaryRaw</th>\n",
       "      <th>SalaryNormalized</th>\n",
       "      <th>SourceName</th>\n",
       "    </tr>\n",
       "  </thead>\n",
       "  <tbody>\n",
       "    <tr>\n",
       "      <th>0</th>\n",
       "      <td>12612628</td>\n",
       "      <td>Engineering Systems Analyst</td>\n",
       "      <td>Engineering Systems Analyst Dorking Surrey Sal...</td>\n",
       "      <td>Dorking, Surrey, Surrey</td>\n",
       "      <td>Dorking</td>\n",
       "      <td>NaN</td>\n",
       "      <td>permanent</td>\n",
       "      <td>Gregory Martin International</td>\n",
       "      <td>Engineering Jobs</td>\n",
       "      <td>20000 - 30000/annum 20-30K</td>\n",
       "      <td>25000</td>\n",
       "      <td>cv-library.co.uk</td>\n",
       "    </tr>\n",
       "    <tr>\n",
       "      <th>1</th>\n",
       "      <td>12612830</td>\n",
       "      <td>Stress Engineer Glasgow</td>\n",
       "      <td>Stress Engineer Glasgow Salary **** to **** We...</td>\n",
       "      <td>Glasgow, Scotland, Scotland</td>\n",
       "      <td>Glasgow</td>\n",
       "      <td>NaN</td>\n",
       "      <td>permanent</td>\n",
       "      <td>Gregory Martin International</td>\n",
       "      <td>Engineering Jobs</td>\n",
       "      <td>25000 - 35000/annum 25-35K</td>\n",
       "      <td>30000</td>\n",
       "      <td>cv-library.co.uk</td>\n",
       "    </tr>\n",
       "    <tr>\n",
       "      <th>2</th>\n",
       "      <td>12612844</td>\n",
       "      <td>Modelling and simulation analyst</td>\n",
       "      <td>Mathematical Modeller / Simulation Analyst / O...</td>\n",
       "      <td>Hampshire, South East, South East</td>\n",
       "      <td>Hampshire</td>\n",
       "      <td>NaN</td>\n",
       "      <td>permanent</td>\n",
       "      <td>Gregory Martin International</td>\n",
       "      <td>Engineering Jobs</td>\n",
       "      <td>20000 - 40000/annum 20-40K</td>\n",
       "      <td>30000</td>\n",
       "      <td>cv-library.co.uk</td>\n",
       "    </tr>\n",
       "    <tr>\n",
       "      <th>3</th>\n",
       "      <td>12613049</td>\n",
       "      <td>Engineering Systems Analyst / Mathematical Mod...</td>\n",
       "      <td>Engineering Systems Analyst / Mathematical Mod...</td>\n",
       "      <td>Surrey, South East, South East</td>\n",
       "      <td>Surrey</td>\n",
       "      <td>NaN</td>\n",
       "      <td>permanent</td>\n",
       "      <td>Gregory Martin International</td>\n",
       "      <td>Engineering Jobs</td>\n",
       "      <td>25000 - 30000/annum 25K-30K negotiable</td>\n",
       "      <td>27500</td>\n",
       "      <td>cv-library.co.uk</td>\n",
       "    </tr>\n",
       "    <tr>\n",
       "      <th>4</th>\n",
       "      <td>12613647</td>\n",
       "      <td>Pioneer, Miser Engineering Systems Analyst</td>\n",
       "      <td>Pioneer, Miser  Engineering Systems Analyst Do...</td>\n",
       "      <td>Surrey, South East, South East</td>\n",
       "      <td>Surrey</td>\n",
       "      <td>NaN</td>\n",
       "      <td>permanent</td>\n",
       "      <td>Gregory Martin International</td>\n",
       "      <td>Engineering Jobs</td>\n",
       "      <td>20000 - 30000/annum 20-30K</td>\n",
       "      <td>25000</td>\n",
       "      <td>cv-library.co.uk</td>\n",
       "    </tr>\n",
       "  </tbody>\n",
       "</table>\n",
       "</div>"
      ],
      "text/plain": [
       "         Id                                              Title  \\\n",
       "0  12612628                        Engineering Systems Analyst   \n",
       "1  12612830                            Stress Engineer Glasgow   \n",
       "2  12612844                   Modelling and simulation analyst   \n",
       "3  12613049  Engineering Systems Analyst / Mathematical Mod...   \n",
       "4  12613647         Pioneer, Miser Engineering Systems Analyst   \n",
       "\n",
       "                                     FullDescription  \\\n",
       "0  Engineering Systems Analyst Dorking Surrey Sal...   \n",
       "1  Stress Engineer Glasgow Salary **** to **** We...   \n",
       "2  Mathematical Modeller / Simulation Analyst / O...   \n",
       "3  Engineering Systems Analyst / Mathematical Mod...   \n",
       "4  Pioneer, Miser  Engineering Systems Analyst Do...   \n",
       "\n",
       "                         LocationRaw LocationNormalized ContractType  \\\n",
       "0            Dorking, Surrey, Surrey            Dorking          NaN   \n",
       "1        Glasgow, Scotland, Scotland            Glasgow          NaN   \n",
       "2  Hampshire, South East, South East          Hampshire          NaN   \n",
       "3     Surrey, South East, South East             Surrey          NaN   \n",
       "4     Surrey, South East, South East             Surrey          NaN   \n",
       "\n",
       "  ContractTime                       Company          Category  \\\n",
       "0    permanent  Gregory Martin International  Engineering Jobs   \n",
       "1    permanent  Gregory Martin International  Engineering Jobs   \n",
       "2    permanent  Gregory Martin International  Engineering Jobs   \n",
       "3    permanent  Gregory Martin International  Engineering Jobs   \n",
       "4    permanent  Gregory Martin International  Engineering Jobs   \n",
       "\n",
       "                                SalaryRaw  SalaryNormalized        SourceName  \n",
       "0              20000 - 30000/annum 20-30K             25000  cv-library.co.uk  \n",
       "1              25000 - 35000/annum 25-35K             30000  cv-library.co.uk  \n",
       "2              20000 - 40000/annum 20-40K             30000  cv-library.co.uk  \n",
       "3  25000 - 30000/annum 25K-30K negotiable             27500  cv-library.co.uk  \n",
       "4              20000 - 30000/annum 20-30K             25000  cv-library.co.uk  "
      ]
     },
     "execution_count": 1,
     "metadata": {},
     "output_type": "execute_result"
    }
   ],
   "source": [
    "import pandas as pd\n",
    "df = pd.read_csv(\"Train_rev1.csv\")\n",
    "df = df[:40000]\n",
    "df_train = df.iloc[:-4000]\n",
    "df_val = df.iloc[-4000:]\n",
    "...#load other sets\n",
    "df_train.head()"
   ]
  },
  {
   "cell_type": "markdown",
   "metadata": {},
   "source": [
    "Las las columnas del dataset se describen como el \"cargo\", \"descripción\", \"una localidad\", \"localidad normalizada\", \"el tipo de contrato\", \"tiempo del contrato\", \"compañia del aviso\", \"salario mostrado\", \"salario normalizado\" y la \"fuente de los datos\"."
   ]
  },
  {
   "cell_type": "markdown",
   "metadata": {},
   "source": [
    "A continuación se muestran las cantidades de datos para cada conjunto data frame"
   ]
  },
  {
   "cell_type": "code",
   "execution_count": 2,
   "metadata": {},
   "outputs": [
    {
     "data": {
      "text/plain": [
       "((40000, 12), (36000, 12), (4000, 12))"
      ]
     },
     "execution_count": 2,
     "metadata": {},
     "output_type": "execute_result"
    }
   ],
   "source": [
    "df.shape,  df_train.shape, df_val.shape"
   ]
  },
  {
   "cell_type": "markdown",
   "metadata": {},
   "source": [
    "A continuación se presentan la forma en que se distribuyen las variables discretas mediante gráficos y datos descriptivos de las variables."
   ]
  },
  {
   "cell_type": "code",
   "execution_count": 4,
   "metadata": {},
   "outputs": [
    {
     "data": {
      "text/plain": [
       "(array([3.4067e+04, 5.7780e+03, 1.3400e+02, 2.1000e+01]),\n",
       " array([     0.,  50000., 100000., 150000., 200000.]),\n",
       " <a list of 4 Patch objects>)"
      ]
     },
     "execution_count": 4,
     "metadata": {},
     "output_type": "execute_result"
    },
    {
     "data": {
      "image/png": "[encoded data removed]",
      "text/plain": [
       "<Figure size 432x288 with 1 Axes>"
      ]
     },
     "metadata": {},
     "output_type": "display_data"
    }
   ],
   "source": [
    "import matplotlib.pyplot as plt\n",
    "data2 = df['SalaryNormalized']\n",
    "maximo = df['SalaryNormalized'].max()\n",
    "plt.hist(data2, 4, (0,maximo) )"
   ]
  },
  {
   "cell_type": "markdown",
   "metadata": {},
   "source": [
    "El histograma para la distribución de salarios normalizados muestra que la mayor parte de los salarios estan entre 0 y 50.000, y aunque existen valores sobre los 150.000, son tan pocos en comparación que no se aprecian en el gráfico."
   ]
  },
  {
   "cell_type": "code",
   "execution_count": 5,
   "metadata": {},
   "outputs": [
    {
     "data": {
      "text/plain": [
       "<matplotlib.axes._subplots.AxesSubplot at 0xf95677f4e0>"
      ]
     },
     "execution_count": 5,
     "metadata": {},
     "output_type": "execute_result"
    },
    {
     "data": {
      "image/png": "[encoded data removed]",
      "text/plain": [
       "<Figure size 432x288 with 1 Axes>"
      ]
     },
     "metadata": {},
     "output_type": "display_data"
    }
   ],
   "source": [
    "import seaborn as sns\n",
    "%matplotlib inline\n",
    "sns.countplot(x= \"ContractType\",data=df)"
   ]
  },
  {
   "cell_type": "code",
   "execution_count": 6,
   "metadata": {},
   "outputs": [
    {
     "data": {
      "text/plain": [
       "<matplotlib.axes._subplots.AxesSubplot at 0xf955b2d3c8>"
      ]
     },
     "execution_count": 6,
     "metadata": {},
     "output_type": "execute_result"
    },
    {
     "data": {
      "image/png": "[encoded data removed]",
      "text/plain": [
       "<Figure size 432x288 with 1 Axes>"
      ]
     },
     "metadata": {},
     "output_type": "display_data"
    }
   ],
   "source": [
    "import seaborn as sns\n",
    "%matplotlib inline\n",
    "sns.countplot(x= \"ContractTime\",data=df)"
   ]
  },
  {
   "cell_type": "markdown",
   "metadata": {},
   "source": [
    "Se observa que existe una mayor probabilidad que los contratos sean permanetes y tipos full-time."
   ]
  },
  {
   "cell_type": "code",
   "execution_count": 7,
   "metadata": {},
   "outputs": [
    {
     "data": {
      "text/plain": [
       "Text(0.5,1,'Categorías de trabajos solicitados')"
      ]
     },
     "execution_count": 7,
     "metadata": {},
     "output_type": "execute_result"
    },
    {
     "data": {
      "image/png": "[encoded data removed]",
      "text/plain": [
       "<Figure size 432x288 with 1 Axes>"
      ]
     },
     "metadata": {},
     "output_type": "display_data"
    }
   ],
   "source": [
    "import matplotlib.pyplot as plt\n",
    "import numpy as np\n",
    "\n",
    "plt.ion()  # Ponemos el modo interactivo\n",
    "\n",
    "visitas = df['Category'].value_counts()[:12]\n",
    "visitas = np.append(visitas,(df['Category'].value_counts()[12:]).sum())\n",
    "paises = df['Category'].value_counts().keys()[:12]\n",
    "paises = np.append(paises,\"Otros\")\n",
    "plt.pie(visitas, labels = paises, )\n",
    "plt.title(\"Categorías de trabajos solicitados\")\n"
   ]
  },
  {
   "cell_type": "markdown",
   "metadata": {},
   "source": [
    "Se observa que una gran parte de los trabajos estan concentrados en Informatica e Ingenería"
   ]
  },
  {
   "cell_type": "markdown",
   "metadata": {},
   "source": [
    "El resto de las variables discretas como \"LocationNormalized\" tienen demasiados valores posibles por lo que un histograma no entregaría demasiada información  y resultaría engorroso, mientras que otras variables no normalizadas como \"FullDescription\" o \"Title\" llegaría incluso a ser improbable que se repitan los valores."
   ]
  },
  {
   "cell_type": "code",
   "execution_count": 8,
   "metadata": {},
   "outputs": [
    {
     "data": {
      "text/plain": [
       "(6950, 1613, 29378, 39748, 7633)"
      ]
     },
     "execution_count": 8,
     "metadata": {},
     "output_type": "execute_result"
    }
   ],
   "source": [
    "len(df['LocationRaw'].value_counts()),len(df['LocationNormalized'].value_counts()), len(df['Title'].value_counts()), len(df['FullDescription'].value_counts()), len(df['Company'].value_counts()) "
   ]
  },
  {
   "cell_type": "markdown",
   "metadata": {},
   "source": [
    "Cantidad de: \"Localidades\", \"localidades normalizadas\", \"títulos\",  \"Descripciones\", \"Compañias\" distintas."
   ]
  },
  {
   "cell_type": "markdown",
   "metadata": {},
   "source": [
    "> b) Extraiga los datos de cada conjunto con los que trabajará, el input XX, los textos, y el output yy, los salarios.\n",
    "    \n",
    "> Se extraen los textos y los salarios correspondientes al entrenamiento y al conjunto de validación."
   ]
  },
  {
   "cell_type": "code",
   "execution_count": 9,
   "metadata": {},
   "outputs": [],
   "source": [
    "text_train = df_train.FullDescription\n",
    "text_val = df_val.FullDescription\n",
    "salary_train = df_train.SalaryNormalized\n",
    "salary_val = df_val.SalaryNormalized"
   ]
  },
  {
   "cell_type": "markdown",
   "metadata": {},
   "source": [
    ">Se utiliza la función word_extractor2 para pasar el texto de \"full description\" a un vocabulario éstandar, se seleccionó este extractor ya que genera un vocabulario que normaliza palabras similares lo que ayuda a relacionar entradas parecidas, a continuación se genera un vector características features_train."
   ]
  },
  {
   "cell_type": "code",
   "execution_count": 10,
   "metadata": {},
   "outputs": [],
   "source": [
    "import re, time\n",
    "from nltk.corpus import stopwords\n",
    "from nltk import WordNetLemmatizer, word_tokenize\n",
    "from nltk.stem.porter import PorterStemmer\n",
    "\n",
    "def word_extractor2(text):\n",
    "    wordstemmer = PorterStemmer()\n",
    "    commonwords = stopwords.words('english')\n",
    "    text = re.sub(r'([a-z])\\1+', r'\\1\\1',text)#substitute multiple letter by two\n",
    "    words = \"\"\n",
    "    wordtokens = [ wordstemmer.stem(word.lower())for word in word_tokenize(text) ]\n",
    "    for word in wordtokens:\n",
    "        if word not in commonwords:\n",
    "            words+=\" \"+word\n",
    "    return words\n",
    "\n",
    "#Se normalizan los textos usando word_extractor2\n",
    "a = list()\n",
    "for text in text_train:\n",
    "    a.append(word_extractor2(text))\n",
    "auxdf = pd.DataFrame()\n",
    "auxdf['text'] = a\n",
    "\n",
    "texts_train = auxdf['text']\n",
    "\n",
    "b = list()\n",
    "for text in text_val:\n",
    "    b.append(word_extractor2(text))\n",
    "auxdf2 = pd.DataFrame()\n",
    "auxdf2['text'] = b\n",
    "\n",
    "texts_val = auxdf2['text']"
   ]
  },
  {
   "cell_type": "markdown",
   "metadata": {},
   "source": [
    " > Se uso CounterVectorizer para contar la cantidad de veces que se repite cada palabra en el vocabulario de las palabras usadas."
   ]
  },
  {
   "cell_type": "code",
   "execution_count": 11,
   "metadata": {},
   "outputs": [
    {
     "data": {
      "text/plain": [
       "(<36000x53388 sparse matrix of type '<class 'numpy.int64'>'\n",
       " \twith 3695478 stored elements in Compressed Sparse Row format>,\n",
       " <4000x53388 sparse matrix of type '<class 'numpy.int64'>'\n",
       " \twith 429210 stored elements in Compressed Sparse Row format>)"
      ]
     },
     "execution_count": 11,
     "metadata": {},
     "output_type": "execute_result"
    }
   ],
   "source": [
    "import numpy as np\n",
    "from sklearn.feature_extraction.text import CountVectorizer\n",
    "\n",
    "#Se transforman los textos normalizados a vectores usando CountVectorizer\n",
    "vectorizer_train = CountVectorizer(ngram_range=(1, 1), binary='False')\n",
    "vectorizer_train.fit(np.asarray(texts_train))\n",
    "\n",
    "X_train = vectorizer_train.transform(texts_train)\n",
    "X_val = vectorizer_train.transform(texts_val)\n",
    "\n",
    "#Se pasan las salidas Y a arreglo\n",
    "Y_train = np.asarray(salary_train)\n",
    "Y_val = np.asarray(salary_val)\n",
    "\n",
    "X_train, X_val"
   ]
  },
  {
   "cell_type": "markdown",
   "metadata": {},
   "source": [
    "Tambien podemos observar la cabecera del vocabulario generado por los textos ya normalizados."
   ]
  },
  {
   "cell_type": "code",
   "execution_count": 12,
   "metadata": {},
   "outputs": [
    {
     "data": {
      "text/plain": [
       "[('work', 29042),\n",
       " ('thi', 27093),\n",
       " ('experi', 27056),\n",
       " ('role', 21616),\n",
       " ('team', 20774),\n",
       " ('requir', 20020),\n",
       " ('manag', 19460),\n",
       " ('pleas', 18820),\n",
       " ('client', 18799),\n",
       " ('skill', 18421)]"
      ]
     },
     "execution_count": 12,
     "metadata": {},
     "output_type": "execute_result"
    }
   ],
   "source": [
    "vocab = vectorizer_train.get_feature_names()\n",
    "dist = list(np.array(X_train.sum(axis=0)).reshape(-1,))\n",
    "lista = list(zip(vocab, dist))\n",
    "lista.sort(key=lambda x: x[1],reverse=True)\n",
    "lista_ordenada = lista\n",
    "lista_ordenada[:10]"
   ]
  },
  {
   "cell_type": "markdown",
   "metadata": {},
   "source": [
    "> d) Intente resolver el problema enfrentándolo como regresión con el modelo de regresión lineal ordinaria en *sklearn*. ¿Qué es lo que hace *fit_intercept=True*? Evalúe la función objetivo (F.O.) utilizada y la métrica de la competencia (*mean absolute error*) en ambos conjuntos generados en el punto a). Comente lo observado."
   ]
  },
  {
   "cell_type": "markdown",
   "metadata": {},
   "source": [
    "> Se usa un modelo de regresión lineal ajustándolo a los datos de entrenamiento, donde X_train a sido previamente vectorizado ajustandose a un vocabulario común, lo que tambien se aplica a los datos de evaluación X_val.\n",
    "\n",
    "> La variable fit_intercep le dice al modelo si es que quiere que los datos se ajusten considerando el intercepto, es decir, en términos de regresión lineal si se deben ajustar a alpha, con épsilon el ruido y beta una característica.\n",
    "\n",
    "$$Y = {\\beta}X + {\\alpha} + {\\epsilon}$$"
   ]
  },
  {
   "cell_type": "code",
   "execution_count": 13,
   "metadata": {},
   "outputs": [],
   "source": [
    "from sklearn.linear_model import LinearRegression as LR\n",
    "model = LR(fit_intercept=True, normalize=False)\n",
    "model.fit(X_train, Y_train)\n",
    "... #measure F.O.\n",
    "from sklearn.metrics import mean_absolute_error #measure MAE\n"
   ]
  },
  {
   "cell_type": "code",
   "execution_count": 14,
   "metadata": {},
   "outputs": [
    {
     "name": "stdout",
     "output_type": "stream",
     "text": [
      "Accuracy under training:  0.9749711626937408\n",
      "Accuracy under validation:  -11.865878019546555\n"
     ]
    }
   ],
   "source": [
    "print(\"Accuracy under training: \",model.score(X_train,Y_train))\n",
    "print(\"Accuracy under validation: \",model.score(X_val,Y_val))"
   ]
  },
  {
   "cell_type": "code",
   "execution_count": 15,
   "metadata": {},
   "outputs": [
    {
     "name": "stdout",
     "output_type": "stream",
     "text": [
      "MAE on train:  1204.1345019564142\n",
      "MAE on validation:  39569.04640388329\n"
     ]
    }
   ],
   "source": [
    "print(\"MAE on train: \",mean_absolute_error(Y_train, model.predict(X_train)))\n",
    "print(\"MAE on validation: \",mean_absolute_error(Y_val, model.predict(X_val)))"
   ]
  },
  {
   "cell_type": "markdown",
   "metadata": {},
   "source": [
    "> Los valores obtenidos para los datos de entrenamiento son buenos (menores a 3400) por que el modelo esta ajustado a esos datos, por lo que la predicción es similar a la salida real, no obstante para nuevos datos X_val la diferencia es mucho mayor por lo que este modelo se considera sobre ajustado a los datos."
   ]
  },
  {
   "cell_type": "markdown",
   "metadata": {},
   "source": [
    "> e) Intente mejorar sus resultados en base a la métrica de la competencia (MAE) sobre el conjunto de validación. Comente sobre lo realizado.  "
   ]
  },
  {
   "cell_type": "markdown",
   "metadata": {},
   "source": [
    "> Se crea una función que genera un nuevo texto considerando solo la información relevante que esta representada en las demás columnas, por lo que se descarta la columna FullDescription, así el nuevo texto se representará como :\n",
    "   \n",
    "  > ( \"Location\" \"Company\" \"Category\" \"ContractType\" \"ContractTyme\" \"Title\")"
   ]
  },
  {
   "cell_type": "code",
   "execution_count": 16,
   "metadata": {},
   "outputs": [],
   "source": [
    "def new_words(df_train):\n",
    "    feature_train = pd.DataFrame()    \n",
    "    feature_train[\"LocationNormalized\"] = df_train[\"LocationNormalized\"]\n",
    "    feature_train[\"Company\"] = df_train[\"Company\"]\n",
    "    feature_train[\"Category\"] = df_train[\"Category\"]\n",
    "    feature_train[\"ContractType\"] = df_train[\"ContractType\"]\n",
    "    feature_train[\"ContractTime\"] = df_train[\"ContractTime\"]\n",
    "    feature_train[\"Title\"] = df_train[\"Title\"]\n",
    "    a = list()\n",
    "    \n",
    "    for row in feature_train.values:        \n",
    "        location  = str(row[0])\n",
    "        company = str(row[1])\n",
    "        category = str(row[2])\n",
    "        contracttype = str(row[3])\n",
    "        contracttime = str(row[4]) \n",
    "        title = str(row[5])\n",
    "        texto = location+\" \"+company+\" \"+category+\" \"+contracttype+\" \"+contracttime+\" \"+title    \n",
    "        a.append(texto)\n",
    "\n",
    "    feature_train['NewText'] = a  \n",
    "    return feature_train['NewText']"
   ]
  },
  {
   "cell_type": "markdown",
   "metadata": {},
   "source": [
    "> La función entrega un vector de textos para entrenamiento y validación, con el primero se utiliza CountVectorizer para crear un vector en base al diccionario de palabras que resulta mucho menor ya que no considera palabras que no aportaban al aprendizaje contenidas en la columna \"FullDescription\"."
   ]
  },
  {
   "cell_type": "code",
   "execution_count": 17,
   "metadata": {},
   "outputs": [
    {
     "data": {
      "text/plain": [
       "(<36000x12251 sparse matrix of type '<class 'numpy.int64'>'\n",
       " \twith 392896 stored elements in Compressed Sparse Row format>,\n",
       " <4000x12251 sparse matrix of type '<class 'numpy.int64'>'\n",
       " \twith 44170 stored elements in Compressed Sparse Row format>)"
      ]
     },
     "execution_count": 17,
     "metadata": {},
     "output_type": "execute_result"
    }
   ],
   "source": [
    "texts_train2 = new_words(df_train)\n",
    "texts_val2 = new_words(df_val)\n",
    "\n",
    "vectorizer_train2 = CountVectorizer(ngram_range=(1, 1), binary='False')\n",
    "vectorizer_train2.fit(np.asarray(texts_train2))\n",
    "\n",
    "X_train2 = vectorizer_train2.transform(texts_train2)\n",
    "X_val2 = vectorizer_train2.transform(texts_val2)\n",
    "\n",
    "#Se pasan las salidas Y a arreglo\n",
    "Y_train2 = np.asarray(salary_train)\n",
    "Y_val2 = np.asarray(salary_val)\n",
    "\n",
    "X_train2, X_val2"
   ]
  },
  {
   "cell_type": "markdown",
   "metadata": {},
   "source": [
    "> Se observa que el número de dimensiones de los vectores se reducen en comparación al modelo anterior y el valor entregado es más relevante para el learner."
   ]
  },
  {
   "cell_type": "code",
   "execution_count": 18,
   "metadata": {},
   "outputs": [
    {
     "data": {
      "text/plain": [
       "LinearRegression(copy_X=True, fit_intercept=True, n_jobs=1, normalize=False)"
      ]
     },
     "execution_count": 18,
     "metadata": {},
     "output_type": "execute_result"
    }
   ],
   "source": [
    "model2 = LR(fit_intercept=True, normalize=False)\n",
    "model2.fit(X_train2, Y_train2)"
   ]
  },
  {
   "cell_type": "code",
   "execution_count": 19,
   "metadata": {},
   "outputs": [
    {
     "name": "stdout",
     "output_type": "stream",
     "text": [
      "MAE on train:  5380.662238656434\n",
      "MAE on validation:  9790.683770948193\n"
     ]
    }
   ],
   "source": [
    "print(\"MAE on train: \",mean_absolute_error(Y_train2, model2.predict(X_train2)))\n",
    "print(\"MAE on validation: \",mean_absolute_error(Y_val2, model2.predict(X_val2)))"
   ]
  },
  {
   "cell_type": "markdown",
   "metadata": {},
   "source": [
    "> Los valores obtenidos para el MAE son mucho menores en comparación en ambos casos, por lo que se reduce el sobreajuste anterior al considerar características relevantes."
   ]
  },
  {
   "cell_type": "markdown",
   "metadata": {},
   "source": [
    "> #  Conclusiones de esta sección\n",
    ">\n",
    "> Para la regresión lineal estamos utilizando muchas características para poder predecir un valor exacto Y donde cada una tiene una relevación que se asocia al valor final obtenido. Uno de los trabajos más importantes que se deben realizar para mejorar las respuestas del learner, es la correcta selección de las variables y esto implica poder reconocer aquellas que aportan contenido y pueden generar una reacción en la variable de salida, y aquellas que no se relacionas y son redundantes, por lo que se deben quitar yaque se podría \"mal enseñar\" al learner ajustandolo a contenido que no se relaciona con la salida."
   ]
  },
  {
   "cell_type": "markdown",
   "metadata": {},
   "source": [
    "----------------------------------------------------------------------------------------------------------------------------"
   ]
  },
  {
   "cell_type": "markdown",
   "metadata": {},
   "source": [
    "## 3. Linear Regression by hand"
   ]
  },
  {
   "cell_type": "markdown",
   "metadata": {},
   "source": [
    "> a) Escriba una función que calcule la función de pérdida, error cuadrático medio (MSE - *mean squared error*), para un dato o para un conjunto de datos."
   ]
  },
  {
   "cell_type": "markdown",
   "metadata": {},
   "source": [
    "Para simplificar los calculos se utilizará la versión matricial de las variables:\n",
    "\n",
    "Para quitar la sumatoria, el problema se puede escribir de manera matricial definiendo las siguientes matrices:\n",
    "* Las respuestas deseadas se organizan como filas de una matriz $Y$ de dimensiones n x 1.\n",
    "* Las incognitas $\\beta_0,\\beta_1,\\beta_2$ se organizan en un vector $\\vec{\\beta}$ de dimension d+1.\n",
    "* Los ejemplos de entrada se organizan como una matriz $X$ de dimensiones n x d+1.\n",
    "\n",
    "Entonces la regresión lineal se puede escribir de la siguiente manera:\n",
    "\n",
    "$$\n",
    "    \\hat{Y} = X*\\vec{\\beta}\n",
    "$$\n",
    "\n",
    "Y la ecuación de perdida se puede escribir como:\n",
    "\n",
    "$$\n",
    "    Loss = \\frac{1}{N}||Y-\\hat{Y}||^2\n",
    "$$\n",
    "\n",
    "Donde N es la cantidad de outputs (cantidad de valores en Y)."
   ]
  },
  {
   "cell_type": "code",
   "execution_count": 88,
   "metadata": {},
   "outputs": [],
   "source": [
    "import numpy as np\n",
    "\n",
    "def reg(input_values,betas): \n",
    "    return np.dot(input_values,betas)\n",
    "\n",
    "def MSE(input_values,output,betas,uno = False):\n",
    "    predicted_values = reg(input_values,betas)\n",
    "    if (uno):\n",
    "        N = 1\n",
    "    else:\n",
    "        N = len(output)\n",
    "    return(1/N)*np.linalg.norm(output - predicted_values)**2"
   ]
  },
  {
   "cell_type": "markdown",
   "metadata": {},
   "source": [
    "> b) Escriba una función que calcule el gradiente (derivada) de la función de pérdida anterior, para un dato o para un conjunto de datos. *Escriba explícitamente la derivada (gradiente)*."
   ]
  },
  {
   "cell_type": "markdown",
   "metadata": {},
   "source": [
    "En forma matricial:\n",
    "\n",
    "Utilizando las formas matriciales de la parte a), el gradiente será:\n",
    "\n",
    "$$\n",
    "    \\nabla_{\\vec{\\beta}}Loss =\\frac{1}{N} \\nabla_{\\vec{\\beta}}||Y-\\hat{Y}||^2   \n",
    "$$\n",
    "\n",
    "$$\n",
    "    \\nabla_{\\vec{\\beta}}||Y-\\hat{Y}||^2 = 2X^T(X\\vec{\\beta} - Y)     \n",
    "$$\n",
    "\n",
    "Reemplazando:\n",
    "\n",
    "$$\n",
    "    \\nabla_{\\vec{\\beta}}Loss = \\frac{1}{N} 2X^T(X\\vec{\\beta} - Y)\n",
    "$$"
   ]
  },
  {
   "cell_type": "code",
   "execution_count": 2,
   "metadata": {},
   "outputs": [],
   "source": [
    "def MSEgradient(X,Y,beta,uno = False): #X dim n x d+1, Y dim n x 1, beta es un vector, es decir dim d+1 x 1. \n",
    "    if (uno):\n",
    "        N = 1\n",
    "    else:\n",
    "        N = len(Y)\n",
    "    return (2/N)*np.dot(np.transpose(X),(np.dot(X,beta) - Y))"
   ]
  },
  {
   "cell_type": "markdown",
   "metadata": {},
   "source": [
    "> c) Escriba una función que calcule los parámetros de una regresión lineal simple de manera analítica (es decir el mínimo global). "
   ]
  },
  {
   "cell_type": "markdown",
   "metadata": {},
   "source": [
    "Igualando a 0 la funcion del gradiente de la función de pérdida obtenida en b):\n",
    "\n",
    "$$\n",
    "    \\nabla_{\\vec{\\beta}}Loss = \\frac{1}{N} 2X^T(X\\vec{\\beta} - Y) = 0\n",
    "$$\n",
    "\n",
    "Se obtiene el siguiente valor de $\\beta$:\n",
    "$$\n",
    "    \\vec{\\beta} = (X^TX)^{-1}X^{T}Y \n",
    "$$\n"
   ]
  },
  {
   "cell_type": "code",
   "execution_count": 3,
   "metadata": {},
   "outputs": [],
   "source": [
    "def calcular_betas(X,Y):\n",
    "    return(np.dot(np.dot(np.linalg.inv(np.dot(np.transpose(X),X)),np.transpose(X)),Y))"
   ]
  },
  {
   "cell_type": "markdown",
   "metadata": {},
   "source": [
    "> d) Ahora escriba un programa que permita entrenar una regresión lineal a través del algoritmo SGD mostrado en la ecuación del algoritmo SGD, es decir, que de manera iterativa, vaya tomando un dato a la vez, y actualizando el parámetro $\\beta$ a través del gradiente descendiente de la función de pérdida de la regresión lineal ordinaria, de la pregunta b)."
   ]
  },
  {
   "cell_type": "markdown",
   "metadata": {},
   "source": [
    "Reemplazando el valor del gradiente de la función de perdida en la ecuación del algoritmo SGD:\n",
    "\n",
    "$$ \\vec{\\beta}^{(t+1)} \\leftarrow \\vec{\\beta}^{(t)} - \\eta \\frac{1}{N} 2X^T(X\\vec{\\beta} - Y) $$"
   ]
  },
  {
   "cell_type": "code",
   "execution_count": 89,
   "metadata": {},
   "outputs": [],
   "source": [
    "import random as rd\n",
    "\n",
    "def SGD(X,Y,initial_betas,learning_rate, iteraciones = 1): #se actualiza beta despues de revisar el dataset completo\n",
    "    betas = initial_betas    \n",
    "    MSEs = []\n",
    "    for i in range(iteraciones):\n",
    "        betas -= learning_rate*MSEgradient(X,Y,betas)\n",
    "        MSEs.append(MSE(X,Y,betas))\n",
    "    return MSEs\n",
    "\n",
    "def SGDvector(X,Y,initial_betas,learning_rate, iteraciones = 1): #se actualiza beta en cada dato del dataset\n",
    "    betas = initial_betas    \n",
    "    MSEs = []\n",
    "    for i in range(iteraciones):\n",
    "        for x,y in list(zip(X,Y)):\n",
    "            betas -= learning_rate*MSEgradient(x,y,betas,uno = True)\n",
    "            MSEs.append(MSE(x,y,betas,uno = True))\n",
    "    return MSEs"
   ]
  },
  {
   "cell_type": "markdown",
   "metadata": {},
   "source": [
    "Se probaron dos formas de SGD, uno que actualiza los betas por cada dato del dataset (SGDvector) y uno que actualiza los betas despues de ver el dataset completo (SGD)."
   ]
  },
  {
   "cell_type": "markdown",
   "metadata": {},
   "source": [
    "> e) Demuestre que sus programas funcionan en un problema de regresión simple. Para esto utilice el dataset **Boston Housing** , disponible a través de la librería __[*sklearn*](http://scikit-learn.org)__, el cual corresponde a el precio de diferentes casas en Boston además de distintas características relevantes respecto al lugar, como por ejemplo el crimen en la ciudad, el número de habitaciones, que tan vieja es, distancia a lugares relevantes, entre otros. Éstas características deben combinarse linealmente para estimar el precio de la casa.\n",
    "<div class=\"alert alert-block alert-info\">Es una buena práctica el normalizar los datos antes de trabajar con el modelo</div>"
   ]
  },
  {
   "cell_type": "markdown",
   "metadata": {},
   "source": [
    "Primero se describirá el dataset:"
   ]
  },
  {
   "cell_type": "code",
   "execution_count": 5,
   "metadata": {},
   "outputs": [
    {
     "name": "stdout",
     "output_type": "stream",
     "text": [
      "Boston House Prices dataset\n",
      "===========================\n",
      "\n",
      "Notes\n",
      "------\n",
      "Data Set Characteristics:  \n",
      "\n",
      "    :Number of Instances: 506 \n",
      "\n",
      "    :Number of Attributes: 13 numeric/categorical predictive\n",
      "    \n",
      "    :Median Value (attribute 14) is usually the target\n",
      "\n",
      "    :Attribute Information (in order):\n",
      "        - CRIM     per capita crime rate by town\n",
      "        - ZN       proportion of residential land zoned for lots over 25,000 sq.ft.\n",
      "        - INDUS    proportion of non-retail business acres per town\n",
      "        - CHAS     Charles River dummy variable (= 1 if tract bounds river; 0 otherwise)\n",
      "        - NOX      nitric oxides concentration (parts per 10 million)\n",
      "        - RM       average number of rooms per dwelling\n",
      "        - AGE      proportion of owner-occupied units built prior to 1940\n",
      "        - DIS      weighted distances to five Boston employment centres\n",
      "        - RAD      index of accessibility to radial highways\n",
      "        - TAX      full-value property-tax rate per $10,000\n",
      "        - PTRATIO  pupil-teacher ratio by town\n",
      "        - B        1000(Bk - 0.63)^2 where Bk is the proportion of blacks by town\n",
      "        - LSTAT    % lower status of the population\n",
      "        - MEDV     Median value of owner-occupied homes in $1000's\n",
      "\n",
      "    :Missing Attribute Values: None\n",
      "\n",
      "    :Creator: Harrison, D. and Rubinfeld, D.L.\n",
      "\n",
      "This is a copy of UCI ML housing dataset.\n",
      "http://archive.ics.uci.edu/ml/datasets/Housing\n",
      "\n",
      "\n",
      "This dataset was taken from the StatLib library which is maintained at Carnegie Mellon University.\n",
      "\n",
      "The Boston house-price data of Harrison, D. and Rubinfeld, D.L. 'Hedonic\n",
      "prices and the demand for clean air', J. Environ. Economics & Management,\n",
      "vol.5, 81-102, 1978.   Used in Belsley, Kuh & Welsch, 'Regression diagnostics\n",
      "...', Wiley, 1980.   N.B. Various transformations are used in the table on\n",
      "pages 244-261 of the latter.\n",
      "\n",
      "The Boston house-price data has been used in many machine learning papers that address regression\n",
      "problems.   \n",
      "     \n",
      "**References**\n",
      "\n",
      "   - Belsley, Kuh & Welsch, 'Regression diagnostics: Identifying Influential Data and Sources of Collinearity', Wiley, 1980. 244-261.\n",
      "   - Quinlan,R. (1993). Combining Instance-Based and Model-Based Learning. In Proceedings on the Tenth International Conference of Machine Learning, 236-243, University of Massachusetts, Amherst. Morgan Kaufmann.\n",
      "   - many more! (see http://archive.ics.uci.edu/ml/datasets/Housing)\n",
      "\n"
     ]
    }
   ],
   "source": [
    "from sklearn.datasets import load_boston\n",
    "import sklearn as skl\n",
    "\n",
    "#Descripcion del dataset:\n",
    "boston = load_boston()\n",
    "print(boston.DESCR)"
   ]
  },
  {
   "cell_type": "markdown",
   "metadata": {},
   "source": [
    "Entonces una instancia corresponde a los primeros 13 atributos como el vector $\\vec{x}$, mientras que el atributo 14 (MEDV) corresponde a $y$, el atributo CHAS solo toma valores de 0 o 1. "
   ]
  },
  {
   "cell_type": "code",
   "execution_count": 113,
   "metadata": {},
   "outputs": [
    {
     "data": {
      "text/plain": [
       "[80, 40, 55, 42, 1, 64, 20, 32, 41, 43, 48, 67, 16]"
      ]
     },
     "execution_count": 113,
     "metadata": {},
     "output_type": "execute_result"
    }
   ],
   "source": [
    "import random\n",
    "X_train,y_train = load_boston(return_X_y=True)\n",
    "scaler = skl.preprocessing.StandardScaler().fit(X_train)\n",
    "X_train = scaler.transform(X_train)\n",
    "initial_betas = random.sample(range(1, 100), 13) #13 betas iniciales con valores de rango entre 1 y 100\n",
    "initial_betas "
   ]
  },
  {
   "cell_type": "markdown",
   "metadata": {},
   "source": [
    "La funcion load_boston con el parámetro return_X_y = True, toma los vectores $\\vec{x}$ y valores $y$ (explicados anteriormente) del dataset y los guarda en las variables X_train, y_train. \n",
    "\n",
    "La función para normalizar los datos es StandardScaler y luego transform, esto transforma los datos de manera que su distribución tenga una media de 0 y una desviación estándar de 1, es decir como una distribución normal, esto con el fin de mejorar el aprendizaje de la maquina.\n",
    "\n",
    "Los betas iniciales utilizados deben ser un vector del mismo tamaño que $\\vec{x}$ y se eligen generalmente al azar, en este caso son trece enteros entre 1 y 100."
   ]
  },
  {
   "cell_type": "markdown",
   "metadata": {},
   "source": [
    "> Para evaluar los resultados, construya un gráfico correspondiente a la función de pérdida utilizada en el entrenamiento *versus* número de iteraciones (**realice 1000 iteraciones**), utilizando sólo el conjunto de entrenamiento (el objetivo de esta sección es familiarizarse con el algoritmo). Además de reportar el tiempo de entrenamiento mediante el algoritmo implementado en c) y d)."
   ]
  },
  {
   "cell_type": "code",
   "execution_count": 118,
   "metadata": {},
   "outputs": [
    {
     "data": {
      "application/vnd.jupyter.widget-view+json": {
       "model_id": "f79903d197924667b72e30d1346ae634",
       "version_major": 2,
       "version_minor": 0
      },
      "text/html": [
       "<p>Failed to display Jupyter Widget of type <code>interactive</code>.</p>\n",
       "<p>\n",
       "  If you're reading this message in the Jupyter Notebook or JupyterLab Notebook, it may mean\n",
       "  that the widgets JavaScript is still loading. If this message persists, it\n",
       "  likely means that the widgets JavaScript library is either not installed or\n",
       "  not enabled. See the <a href=\"https://ipywidgets.readthedocs.io/en/stable/user_install.html\">Jupyter\n",
       "  Widgets Documentation</a> for setup instructions.\n",
       "</p>\n",
       "<p>\n",
       "  If you're reading this message in another frontend (for example, a static\n",
       "  rendering on GitHub or <a href=\"https://nbviewer.jupyter.org/\">NBViewer</a>),\n",
       "  it may mean that your frontend doesn't currently support widgets.\n",
       "</p>\n"
      ],
      "text/plain": [
       "interactive(children=(FloatSlider(value=0.01, description='training_rate', max=0.1, step=0.005), Output()), _dom_classes=('widget-interact',))"
      ]
     },
     "metadata": {},
     "output_type": "display_data"
    },
    {
     "data": {
      "text/plain": [
       "<function __main__.aux>"
      ]
     },
     "execution_count": 118,
     "metadata": {},
     "output_type": "execute_result"
    }
   ],
   "source": [
    "import matplotlib.pyplot as plt\n",
    "from ipywidgets import interact, interactive, fixed, interact_manual\n",
    "import ipywidgets as widgets\n",
    "\n",
    "def aux(training_rate):\n",
    "    errores = SGDvector(X_train,y_train,initial_betas,training_rate,2)\n",
    "    plt.plot(errores)\n",
    "    plt.xlabel(\"Iteraciones\")\n",
    "    plt.ylabel(\"MSE\")\n",
    "    plt.title(\"Entrenamiento\")\n",
    "    plt.show()\n",
    "    return\n",
    "\n",
    "#Widget 1\n",
    "interact(aux,training_rate = widgets.FloatSlider(min = 0.0, max = 0.1, step = 0.005,value = 0.01))"
   ]
  },
  {
   "cell_type": "code",
   "execution_count": 117,
   "metadata": {},
   "outputs": [
    {
     "data": {
      "application/vnd.jupyter.widget-view+json": {
       "model_id": "55526d16744048719a356ca1fb2e470a",
       "version_major": 2,
       "version_minor": 0
      },
      "text/html": [
       "<p>Failed to display Jupyter Widget of type <code>interactive</code>.</p>\n",
       "<p>\n",
       "  If you're reading this message in the Jupyter Notebook or JupyterLab Notebook, it may mean\n",
       "  that the widgets JavaScript is still loading. If this message persists, it\n",
       "  likely means that the widgets JavaScript library is either not installed or\n",
       "  not enabled. See the <a href=\"https://ipywidgets.readthedocs.io/en/stable/user_install.html\">Jupyter\n",
       "  Widgets Documentation</a> for setup instructions.\n",
       "</p>\n",
       "<p>\n",
       "  If you're reading this message in another frontend (for example, a static\n",
       "  rendering on GitHub or <a href=\"https://nbviewer.jupyter.org/\">NBViewer</a>),\n",
       "  it may mean that your frontend doesn't currently support widgets.\n",
       "</p>\n"
      ],
      "text/plain": [
       "interactive(children=(FloatSlider(value=0.01, description='training_rate', max=1.0, step=0.01), Output()), _dom_classes=('widget-interact',))"
      ]
     },
     "metadata": {},
     "output_type": "display_data"
    },
    {
     "data": {
      "text/plain": [
       "<function __main__.aux2>"
      ]
     },
     "execution_count": 117,
     "metadata": {},
     "output_type": "execute_result"
    }
   ],
   "source": [
    "def aux2(training_rate):\n",
    "    errores2 = SGD(X_train,y_train,initial_betas,training_rate,1000)\n",
    "    plt.plot(errores2)\n",
    "    plt.xlabel(\"Iteraciones\")\n",
    "    plt.ylabel(\"MSE\")\n",
    "    plt.title(\"Entrenamiento\")\n",
    "    plt.show()\n",
    "    print(errores2[len(errores2)-1])\n",
    "    return\n",
    "\n",
    "#Widget 2\n",
    "interact(aux2,training_rate = widgets.FloatSlider(min = 0.0, max = 1, step = 0.01,value = 0.01))"
   ]
  },
  {
   "cell_type": "markdown",
   "metadata": {},
   "source": [
    "Se itero 2 veces sobre el dataset completo con SGDvector, es decir 1012 iteraciones actualizando beta en cada instancia (widget 1), tambien se itero 1000 veces sobre el dataset completo actualizando beta en cada iteración (widget 2)."
   ]
  },
  {
   "cell_type": "code",
   "execution_count": 106,
   "metadata": {},
   "outputs": [
    {
     "name": "stdout",
     "output_type": "stream",
     "text": [
      "Tiempo de ejecución SGD:  0.036710336282339995\n",
      "Tiempo de ejecución usando el método teórico:  0.0015190281746981782\n"
     ]
    }
   ],
   "source": [
    "#Tiempos:\n",
    "\n",
    "import timeit\n",
    "\n",
    "#SGD\n",
    "start = timeit.default_timer()\n",
    "errores = SGDvector(X_train,y_train,initial_betas,0.035,2)\n",
    "stop = timeit.default_timer()\n",
    "print('Tiempo de ejecución SGD: ', stop - start) \n",
    "\n",
    "#Inversa\n",
    "start = timeit.default_timer()\n",
    "\n",
    "bet = calcular_betas(X_train,y_train)\n",
    "stop = timeit.default_timer()\n",
    "print('Tiempo de ejecución usando el método teórico: ', stop - start) "
   ]
  },
  {
   "cell_type": "markdown",
   "metadata": {},
   "source": [
    "El tiempo de ejecución de SGDvector es mayor probablemente debido al número de iteraciones para reducir el MSE (probablemente es necesario mayor cantidad de iteraciones para llegar al mínimo global) mientras que usando el método teórico basta con hacer algunas operaciones con matrices para llegar al mínimo, aunque el método teórico pareciera ser mejor en cuanto a eficiencia, no hay que olvidar el hecho de que la regresión lineal utilizada tiene un óptimo derivable analíticamente, por lo tanto el método teórico tiene restricciones que el método SGD no posee, sin considerar que al obtener el mínimo analíticamente aparece una matriz inversa, la operación de obtener la inversa es costosa, por lo que puede que para este caso de un dataset pequeño (506 instancias) la opción de obtener el mínimo teóricamente es viable."
   ]
  },
  {
   "cell_type": "markdown",
   "metadata": {},
   "source": [
    "> f) Varié la tasa de aprendizaje $\\eta \\in [0,1]$ del algoritmo SGD del punto d), compare los resultados entre sí y con la solución óptima encontrada en c). Comente."
   ]
  },
  {
   "cell_type": "code",
   "execution_count": 115,
   "metadata": {},
   "outputs": [
    {
     "name": "stdout",
     "output_type": "stream",
     "text": [
      "MSE método teórico: 529.6251400575699\n",
      "MSE método SGD: 529.6251400575699\n",
      "Diferencia teo vs SGD:0.0\n"
     ]
    }
   ],
   "source": [
    "MSEteo = MSE(X_train,y_train,calcular_betas(X_train,y_train))\n",
    "MSEsgd = SGD(X_train,y_train,initial_betas,0.16,1000)\n",
    "print(\"MSE método teórico: \" + str(MSEteo)) #error del método teórico\n",
    "print(\"MSE método SGD: \" + str(MSEsgd[len(MSEsgd) - 1]))\n",
    "print(\"Diferencia teo vs SGD:\" + str(MSEteo - MSEsgd[len(MSEsgd) - 1]))"
   ]
  },
  {
   "cell_type": "markdown",
   "metadata": {},
   "source": [
    "Al comparar el error obtenido con ambos métodos se obtiene que el error usando SGD es casi igual al método teórico, esto ocurre probablemente debido a que se escogió correctamente el learning_rate para el cálculo además de un número de iteraciones adecuado, además hay que mencionar que no se comparó usando SGDvector debido a que el mínimo teórico se obtuvo viendo el problema como matrices, no como vectores. \n",
    "\n",
    "Con el widget 1 se puede ver como la máquina va \"aprendiendo\", es decir la cantidad de error se mantiene más cercana a 0 a medida que se aumenta $\\eta$, pero solo hasta cierto rango (aprox 0.01 da los menores errores en general). \n",
    "\n",
    "Usando el widget 2 se puede apreciar como el valor $\\eta$ afecta el comportamiento de la convergencia del algoritmo SGD, cuando este toma valores pequeños (0 a 0.16 aprox), el MSE converge al error obtenido a través de la forma analítica, pero cuando se sale de ese rango el MSE no converge y aumenta de manera desmesurada."
   ]
  }
 ],
 "metadata": {
  "kernelspec": {
   "display_name": "Python 3",
   "language": "python",
   "name": "python3"
  },
  "language_info": {
   "codemirror_mode": {
    "name": "ipython",
    "version": 3
   },
   "file_extension": ".py",
   "mimetype": "text/x-python",
   "name": "python",
   "nbconvert_exporter": "python",
   "pygments_lexer": "ipython3",
   "version": "3.6.4"
  }
 },
 "nbformat": 4,
 "nbformat_minor": 2
}
