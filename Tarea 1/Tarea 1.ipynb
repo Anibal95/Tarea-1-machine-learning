{
 "cells": [
  {
   "cell_type": "markdown",
   "metadata": {},
   "source": [
    "# 2. Análisis de audios como datos brutos"
   ]
  },
  {
   "cell_type": "code",
   "execution_count": 1,
   "metadata": {},
   "outputs": [],
   "source": [
    "from scipy.io import wavfile\n",
    "def clean_filename(fname, string):\n",
    "    file_name = fname.split('/')[1]\n",
    "    if file_name[:2] == '__':\n",
    "        file_name = string + file_name\n",
    "    return file_name\n",
    "SAMPLE_RATE = 44100\n",
    "def load_wav_file(name, path):\n",
    "    s, b = wavfile.read(path + name)\n",
    "    assert s == SAMPLE_RATE\n",
    "    return b"
   ]
  },
  {
   "cell_type": "markdown",
   "metadata": {},
   "source": [
    "> a) Construya un dataframe con los datos a analizar. Describa el dataset y determine cuántos registros hay\n",
    "por clase."
   ]
  },
  {
   "cell_type": "code",
   "execution_count": 2,
   "metadata": {},
   "outputs": [],
   "source": [
    "import pandas as pd\n",
    "import numpy as np\n",
    "df = pd.read_csv('./heartbeat-sounds/set_a.csv')"
   ]
  },
  {
   "cell_type": "markdown",
   "metadata": {},
   "source": [
    ">A continuación se describe el dataframe en a partir de su dimensión y la cabecera de los datos, las 4 columnas son \"dataset\" en este caso tiene el valor \"a\" para todos, \"fname\" el nombre del archivo de audio, \"label\" correspondiente a las clases del audio, y \"sublabel\" que para el dataset b contiene información sobre el tipo de ruido ambiente como ruido normal o con murmullos."
   ]
  },
  {
   "cell_type": "code",
   "execution_count": 3,
   "metadata": {},
   "outputs": [
    {
     "data": {
      "text/plain": [
       "(176, 4)"
      ]
     },
     "execution_count": 3,
     "metadata": {},
     "output_type": "execute_result"
    }
   ],
   "source": [
    "df.shape"
   ]
  },
  {
   "cell_type": "code",
   "execution_count": 4,
   "metadata": {},
   "outputs": [
    {
     "data": {
      "text/html": [
       "<div>\n",
       "<style scoped>\n",
       "    .dataframe tbody tr th:only-of-type {\n",
       "        vertical-align: middle;\n",
       "    }\n",
       "\n",
       "    .dataframe tbody tr th {\n",
       "        vertical-align: top;\n",
       "    }\n",
       "\n",
       "    .dataframe thead th {\n",
       "        text-align: right;\n",
       "    }\n",
       "</style>\n",
       "<table border=\"1\" class=\"dataframe\">\n",
       "  <thead>\n",
       "    <tr style=\"text-align: right;\">\n",
       "      <th></th>\n",
       "      <th>dataset</th>\n",
       "      <th>fname</th>\n",
       "      <th>label</th>\n",
       "      <th>sublabel</th>\n",
       "    </tr>\n",
       "  </thead>\n",
       "  <tbody>\n",
       "    <tr>\n",
       "      <th>0</th>\n",
       "      <td>a</td>\n",
       "      <td>set_a/artifact__201012172012.wav</td>\n",
       "      <td>artifact</td>\n",
       "      <td>NaN</td>\n",
       "    </tr>\n",
       "    <tr>\n",
       "      <th>1</th>\n",
       "      <td>a</td>\n",
       "      <td>set_a/artifact__201105040918.wav</td>\n",
       "      <td>artifact</td>\n",
       "      <td>NaN</td>\n",
       "    </tr>\n",
       "    <tr>\n",
       "      <th>2</th>\n",
       "      <td>a</td>\n",
       "      <td>set_a/artifact__201105041959.wav</td>\n",
       "      <td>artifact</td>\n",
       "      <td>NaN</td>\n",
       "    </tr>\n",
       "    <tr>\n",
       "      <th>3</th>\n",
       "      <td>a</td>\n",
       "      <td>set_a/artifact__201105051017.wav</td>\n",
       "      <td>artifact</td>\n",
       "      <td>NaN</td>\n",
       "    </tr>\n",
       "    <tr>\n",
       "      <th>4</th>\n",
       "      <td>a</td>\n",
       "      <td>set_a/artifact__201105060108.wav</td>\n",
       "      <td>artifact</td>\n",
       "      <td>NaN</td>\n",
       "    </tr>\n",
       "  </tbody>\n",
       "</table>\n",
       "</div>"
      ],
      "text/plain": [
       "  dataset                             fname     label  sublabel\n",
       "0       a  set_a/artifact__201012172012.wav  artifact       NaN\n",
       "1       a  set_a/artifact__201105040918.wav  artifact       NaN\n",
       "2       a  set_a/artifact__201105041959.wav  artifact       NaN\n",
       "3       a  set_a/artifact__201105051017.wav  artifact       NaN\n",
       "4       a  set_a/artifact__201105060108.wav  artifact       NaN"
      ]
     },
     "execution_count": 4,
     "metadata": {},
     "output_type": "execute_result"
    }
   ],
   "source": [
    "df.head()"
   ]
  },
  {
   "cell_type": "markdown",
   "metadata": {},
   "source": [
    "> A contincuación se muestra la cantidad de registros para cada clase de la columna label."
   ]
  },
  {
   "cell_type": "code",
   "execution_count": 5,
   "metadata": {},
   "outputs": [
    {
     "data": {
      "text/plain": [
       "artifact    40\n",
       "murmur      34\n",
       "normal      31\n",
       "extrahls    19\n",
       "Name: label, dtype: int64"
      ]
     },
     "execution_count": 5,
     "metadata": {},
     "output_type": "execute_result"
    }
   ],
   "source": [
    "df['label'].value_counts()"
   ]
  },
  {
   "cell_type": "markdown",
   "metadata": {},
   "source": [
    ">b) Lea los archivos .wav y transformelos en secuencias de tiempo. Realice un padding de ceros al final de cada secuencia para que todas queden representadas con la misma cantidad de elementos, explique la importancia de realizar este paso."
   ]
  },
  {
   "cell_type": "code",
   "execution_count": 6,
   "metadata": {
    "scrolled": true
   },
   "outputs": [],
   "source": [
    "def padd_zeros(array,length):\n",
    "    aux = np.zeros(length)\n",
    "    aux[:array.shape[0]] = array\n",
    "    return aux\n",
    "new_df =pd.DataFrame({'file_name' : df['fname'].apply(clean_filename,string='Aunlabelledtest')})\n",
    "\n",
    "new_df['time_series'] = new_df['file_name'].apply(load_wav_file, path='./heartbeat-sounds/set_a/')\n",
    "new_df['len_series'] = new_df['time_series'].apply(len)\n",
    "new_df['time_series']=new_df['time_series'].apply(padd_zeros,length=max(new_df['len_series']))"
   ]
  },
  {
   "cell_type": "markdown",
   "metadata": {},
   "source": [
    "> En primer lugar se aplica la función \"clean_filename\" que transforma los nombres de los archivos, dejándolos con los mismos nombres que los audios del set a, a continucación se cargan localmente con load_wav_file en la columna 'time_series', a la cúal posteriormente le aplicamos un padding de ceros utilizando el largo máximo de todos los audios.\n",
    "\n",
    "> El padding permite que todos los vectores que representan los audios tengan los mismos largo, como algunos son más cortos se añaden ceros, lo que un learner interpretará como que no hay información relevante. "
   ]
  },
  {
   "cell_type": "code",
   "execution_count": 7,
   "metadata": {},
   "outputs": [
    {
     "data": {
      "text/plain": [
       "0    [1.0, -3.0, -1.0, -7.0, -9.0, -2.0, -6.0, -5.0...\n",
       "1    [-2.0, 3.0, -4.0, 4.0, -3.0, 2.0, -1.0, 0.0, 0...\n",
       "2    [6.0, -4.0, -9.0, -1.0, -4.0, 1.0, -5.0, 2.0, ...\n",
       "3    [-85.0, -198.0, -214.0, -173.0, -177.0, -206.0...\n",
       "4    [53.0, -35.0, 47.0, 170.0, 340.0, 436.0, 535.0...\n",
       "Name: time_series, dtype: object"
      ]
     },
     "execution_count": 7,
     "metadata": {},
     "output_type": "execute_result"
    }
   ],
   "source": [
    "new_df['time_series'].head()"
   ]
  },
  {
   "cell_type": "code",
   "execution_count": 8,
   "metadata": {},
   "outputs": [
    {
     "data": {
      "text/plain": [
       "396900"
      ]
     },
     "execution_count": 8,
     "metadata": {},
     "output_type": "execute_result"
    }
   ],
   "source": [
    "max(new_df['len_series'])"
   ]
  },
  {
   "cell_type": "markdown",
   "metadata": {},
   "source": [
    "> c) Manipule los datos y cambie las etiquetas de los audios por otras asignadas por un doctor experto [[4]](#refs), el cual afirma que estos cambios son requeridos. Vuelva a determinar cuántos registros hay por clase. Nótese que ahora son 3 clases ¿Explique la problemática de tener etiquetas mal asignadas en los datos? ¿Un solo dato puede afectar esto?"
   ]
  },
  {
   "cell_type": "code",
   "execution_count": 9,
   "metadata": {},
   "outputs": [],
   "source": [
    "file_info = pd.read_csv('./heartbeat-sounds/set_a.csv')\n",
    "new_info = pd.DataFrame({'file_name' : file_info['fname'].apply(clean_filename, string='Aunlabelledtest'),\n",
    "                         'target' : file_info['label'].fillna('unclassified')})   \n",
    "new_info['time_series'] = new_info['file_name'].apply(load_wav_file, path='heartbeat-sounds/set_a/')    \n",
    "new_info['len_series'] = new_info['time_series'].apply(len)  "
   ]
  },
  {
   "cell_type": "code",
   "execution_count": 10,
   "metadata": {},
   "outputs": [
    {
     "data": {
      "text/plain": [
       "unclassified    52\n",
       "artifact        40\n",
       "murmur          34\n",
       "normal          31\n",
       "extrahls        19\n",
       "Name: target, dtype: int64"
      ]
     },
     "execution_count": 10,
     "metadata": {},
     "output_type": "execute_result"
    }
   ],
   "source": [
    "new_info['target'].value_counts()"
   ]
  },
  {
   "cell_type": "markdown",
   "metadata": {},
   "source": [
    "> Utilizando el criterio del doctor se generan nuevas clasificaciones para los datos, originalmente se agrega la clasificación \"unclassified\" para filas  con NA, lo que muestra que no estabamos considerando a la clase mayoritaria, a continuación el experto traduce el dataset a 3 clasificaciones normal/extrahls = 2, artifact = 0, murmur = 1, y considera que algunas de las clasificacion es extrahls pueden catalogadas dentro de la normalidad y se producen errores por la forma que se grabaron los sonidos."
   ]
  },
  {
   "cell_type": "code",
   "execution_count": 11,
   "metadata": {},
   "outputs": [],
   "source": [
    "new_labels = np.zeros((176,), dtype=\"int\")\n",
    "new_labels[:40] = 0\n",
    "new_labels[18] = 0\n",
    "new_labels[23] = 0\n",
    "new_labels[40:59] = 1\n",
    "for x in [40, 55]:\n",
    "    new_labels[x] = 2\n",
    "new_labels[59:93] = 2\n",
    "for x in [62,63,65,68]:\n",
    "    new_labels[x] = 1\n",
    "new_labels[93:124] = 1\n",
    "for x in [101, 107, 115, 116, 122]:\n",
    "    new_labels[x] = 2\n",
    "new_labels[124:]= [0,2,2,1,\n",
    "                   1,1,1,1,\n",
    "                   0,1,0,1,\n",
    "                   1,1,2,1,\n",
    "                   0,1,1,1,\n",
    "                   1,1,2,0,\n",
    "                   0,0,0,0,\n",
    "                   0,0,1,0,\n",
    "                   0,0,0,0,\n",
    "                   0,1,0,2,\n",
    "                   1,2,2,2,\n",
    "                   2,2,2,2,\n",
    "                   2,2,2,2]"
   ]
  },
  {
   "cell_type": "code",
   "execution_count": 12,
   "metadata": {},
   "outputs": [
    {
     "data": {
      "text/plain": [
       "normal/extrahls    65\n",
       "artifact           58\n",
       "murmur             53\n",
       "Name: target, dtype: int64"
      ]
     },
     "execution_count": 12,
     "metadata": {},
     "output_type": "execute_result"
    }
   ],
   "source": [
    "labels = ['artifact','normal/extrahls', 'murmur']\n",
    "new_df['target'] = [labels[i] for i in new_labels]\n",
    "new_df['target'].value_counts()"
   ]
  },
  {
   "cell_type": "markdown",
   "metadata": {},
   "source": [
    "> Al existir etiquetas mal asignadas, la máquina que use esta información para su entrenamiento tenderá a clasificar erroneamente nuevas entradas con características similares, de hecho tan solo una etiqueta mal clasificada podría mover la \"frontera\" entre 2 clases distintas, generando una clasificación erronea para entradas nuevas."
   ]
  },
  {
   "cell_type": "markdown",
   "metadata": {},
   "source": [
    "> d) Codifique las distintas clases a valores numéricos para que puedan ser trabajados por los algoritmos clasificadores.\n",
    "\n",
    "> Se codifican de la siguiente forma:  normal/extrahls = 2, artifact = 0, murmur = 1"
   ]
  },
  {
   "cell_type": "code",
   "execution_count": 13,
   "metadata": {},
   "outputs": [
    {
     "data": {
      "text/plain": [
       "2    65\n",
       "0    58\n",
       "1    53\n",
       "Name: target, dtype: int64"
      ]
     },
     "execution_count": 13,
     "metadata": {},
     "output_type": "execute_result"
    }
   ],
   "source": [
    "new_df[\"target\"] = new_df[\"target\"].astype('category')\n",
    "cat_columns = new_df.select_dtypes(['category']).columns\n",
    "new_df[cat_columns] = new_df[cat_columns].apply(lambda x: x.cat.codes)\n",
    "new_df['target'].value_counts()"
   ]
  },
  {
   "cell_type": "markdown",
   "metadata": {},
   "source": [
    "> e) Desordene los datos, evitando ası́ el orden en el que vienen la gran mayorı́a de las etiquetas. Cree la matriz que conforma a los datos en sus dimensiones sin preprocesar, es decir, cada ejemplo es una secuencia de amplitudes en el tiempo. ¿Las dimensiones de ésta indica que puede generar problemas? ¿De qué tipo?"
   ]
  },
  {
   "cell_type": "code",
   "execution_count": 14,
   "metadata": {},
   "outputs": [
    {
     "data": {
      "text/plain": [
       "(176, 396900)"
      ]
     },
     "execution_count": 14,
     "metadata": {},
     "output_type": "execute_result"
    }
   ],
   "source": [
    "new_df = new_df.sample(frac=1,random_state=44)\n",
    "X = np.stack(new_df['time_series'].values, axis=0)\n",
    "y = new_df.target.values\n",
    "X.shape"
   ]
  },
  {
   "cell_type": "markdown",
   "metadata": {},
   "source": [
    "> Con respecto al número de dimensiones se observá que son demasiadas, este número esta restringido al audio de mayor largo, por lo que la mayoría de los datos contendrán ceros en las dimensiones finales. Esto genera los problemas relacionados con la alta dimensionalidad, pudiendo separar erroneamente 2 elementos que son cercanos y provocando el sobreajuste a los datos de entrenamiento."
   ]
  },
  {
   "cell_type": "markdown",
   "metadata": {},
   "source": [
    "> f) Para pre-procesar la secuencia en el tiempo realice una transformada de fourier discreta [5] para pasar los datos desde el dominio de tiempos al dominio de frecuencias presentes en la señal de sonido. Visualice el cambio de representación."
   ]
  },
  {
   "cell_type": "code",
   "execution_count": 15,
   "metadata": {},
   "outputs": [],
   "source": [
    "X_fourier = np.abs(np.fft.fft(X))"
   ]
  },
  {
   "cell_type": "code",
   "execution_count": 16,
   "metadata": {},
   "outputs": [
    {
     "data": {
      "text/plain": [
       "(array([ -85., -198., -214., ..., -110.,  -74.,  -76.]),\n",
       " array([ 178117.        ,  547530.62464519, 1089559.92330764, ...,\n",
       "         233192.12529808, 1089559.92330764,  547530.62464519]),\n",
       " (176, 396900))"
      ]
     },
     "execution_count": 16,
     "metadata": {},
     "output_type": "execute_result"
    }
   ],
   "source": [
    "X[0], X_fourier[0], X_fourier.shape"
   ]
  },
  {
   "cell_type": "markdown",
   "metadata": {},
   "source": [
    "> Se observa que la representació de los vectores ha cambiado, donde cada valor del vector X fue transformado a un valor positivo y de alto orden de magnitud, inclusive los valores ceros se han cambiado por su equivalencia en términos de frecuencia. Tambien observamos que se conserva el número de dimensiones pues la transformada convierte los datos pero no reduce dimensiones."
   ]
  },
  {
   "cell_type": "markdown",
   "metadata": {},
   "source": [
    "> g) Para seguir con el pre-procesamiento realice un muestreo representativo de los datos a través de una técnica de muestreo especializada en secuencias ¿En qué beneficia este paso? ¿Cómo podrı́a determinar si el muestro es representativo?"
   ]
  },
  {
   "cell_type": "code",
   "execution_count": 17,
   "metadata": {},
   "outputs": [
    {
     "data": {
      "text/plain": [
       "(176, 100000)"
      ]
     },
     "execution_count": 17,
     "metadata": {},
     "output_type": "execute_result"
    }
   ],
   "source": [
    "from scipy import signal\n",
    "X_resampled = []\n",
    "for i in range(X_fourier.shape[0]):\n",
    "    sequence = X_fourier[i,:].copy()\n",
    "    resampled_sequence = signal.resample(sequence, 100000)\n",
    "    X_resampled.append(resampled_sequence)\n",
    "X_resampled = np.array(X_resampled)\n",
    "X_resampled.shape\n"
   ]
  },
  {
   "cell_type": "markdown",
   "metadata": {},
   "source": [
    "> EL realizar un muestreo representativo ayuda a reducir el número de dimensiones considerando solo aquellas dimensiones o características que entregan información sobre el vector, esto resulta muy útil considerando que muchos vectores tienen una gran cantidad de dimensiones en ceros (transformados a frecuenia) y que no aportan información e incluso provocarían problemas relacionados con la maldición de la dimensionalidad.\n",
    ">\n",
    "> Para determinar si el muestreo es representativo se podría entrenar un learner con el número de dimensiones originales y obtner una salida Y, luego tomar el vector de dimensiones reducidas, añadirles ceros al final y entregar esta entrada al mismo learner, los resultados deben ser muy similares a los de la salida Y."
   ]
  },
  {
   "cell_type": "markdown",
   "metadata": {},
   "source": [
    "> h) Debido a que no hay conjunto de pruebas, y que es necesario para evaluar la calidad final del modelo, genérelo a través de la técnica hold-out"
   ]
  },
  {
   "cell_type": "code",
   "execution_count": 18,
   "metadata": {},
   "outputs": [],
   "source": [
    "from sklearn.model_selection import train_test_split\n",
    "X_train, X_test, y_train, y_test = train_test_split(X_resampled, y, test_size=0.25, random_state=42)"
   ]
  },
  {
   "cell_type": "markdown",
   "metadata": {},
   "source": [
    "> Esta técnica consiste en una en separar los datos de forma aleatoria para el entrenamiento en este caso particular se separa un cuarto del dataset para esto."
   ]
  },
  {
   "cell_type": "markdown",
   "metadata": {},
   "source": [
    "> i) Realice un proceso de estándarizar los datos para ser trabajados adecuadamente. Recuerde que solo se debe ajustar (calcular media y desviación estándar) con el conjunto de entrenamiento."
   ]
  },
  {
   "cell_type": "code",
   "execution_count": 19,
   "metadata": {},
   "outputs": [],
   "source": [
    "from sklearn.preprocessing import StandardScaler\n",
    "std = StandardScaler(with_mean=True, with_std=True)\n",
    "std.fit(X_train)\n",
    "X_train = std.transform(X_train)\n",
    "X_test = std.transform(X_test)"
   ]
  },
  {
   "cell_type": "markdown",
   "metadata": {},
   "source": [
    "> Es técnica de estandarización ajusta los datos mediante la eliminación de la media y el escalado en términos de la varianza."
   ]
  },
  {
   "cell_type": "markdown",
   "metadata": {},
   "source": [
    "> j) Realice una reducción de dimensionalidad a través de la técnica **PCA**, para representar los datos en $d = 2$ dimensiones. Recuerde que solo se debe ajustar (encontrar las componentes principales) con el conjunto de entrenamiento. Visualice apropiadamente la proyección en 2 dimensiones."
   ]
  },
  {
   "cell_type": "code",
   "execution_count": 20,
   "metadata": {},
   "outputs": [],
   "source": [
    "from sklearn.decomposition import PCA\n",
    "d=2\n",
    "pca_model = PCA(n_components=d)\n",
    "pca_model.fit(X_train)\n",
    "X_pca_train = pca_model.transform(X_train)\n",
    "X_pca_test = pca_model.transform(X_test)"
   ]
  },
  {
   "cell_type": "code",
   "execution_count": 21,
   "metadata": {},
   "outputs": [
    {
     "data": {
      "text/plain": [
       "[<matplotlib.lines.Line2D at 0x602c31c208>]"
      ]
     },
     "execution_count": 21,
     "metadata": {},
     "output_type": "execute_result"
    }
   ],
   "source": [
    "from matplotlib import pyplot as plt\n",
    "s1=list()\n",
    "s2=list()\n",
    "for i in X_pca_train:\n",
    "    s1.append(i[0])\n",
    "    s2.append(i[1])    \n",
    "plt.plot(s1,s2,'o')"
   ]
  },
  {
   "cell_type": "code",
   "execution_count": 22,
   "metadata": {},
   "outputs": [
    {
     "data": {
      "text/plain": [
       "[<matplotlib.lines.Line2D at 0x602c50fd68>]"
      ]
     },
     "execution_count": 22,
     "metadata": {},
     "output_type": "execute_result"
    },
    {
     "data": {
      "image/png": "[encoded data removed]",
      "text/plain": [
       "<Figure size 432x288 with 1 Axes>"
      ]
     },
     "metadata": {},
     "output_type": "display_data"
    }
   ],
   "source": [
    "s1=list()\n",
    "s2=list()\n",
    "for i in X_pca_test:\n",
    "    s1.append(i[0])\n",
    "    s2.append(i[1])    \n",
    "plt.plot(s1,s2,'o')"
   ]
  },
  {
   "cell_type": "markdown",
   "metadata": {},
   "source": [
    "Se observa que para ambos dataset los datos encuentran en torno a los valores 0,0, es decir son sonidos que cumplen con la normalidad, sin embargo existen valores extremos que son muy distintos al resto y pueden corresponder a audios viciados o con  contenido equivocado."
   ]
  },
  {
   "cell_type": "markdown",
   "metadata": {},
   "source": [
    "> k) Entrene un modelo de Regresión Logı́stica variando el parámetro de regularización $C$ construyendo un gráfico resumen del error en función de este hiper-parámetro. Además entrene un Perceptrón, variando el hiper-parámetro de regularización $\\alpha$ en el rango inverso que para la Regresión Logı́stica ¿Por qué? Contruya el mismo gráfico resumen, en función de $C$ o $\\alpha$. Compare y comente lo observado.\n"
   ]
  },
  {
   "cell_type": "markdown",
   "metadata": {},
   "source": [
    "Entrenamos el regresor logístico con distintos valores de c lo que nos entrega distintos modelos que analizamos el error absoluto medio en base a su predicción."
   ]
  },
  {
   "cell_type": "code",
   "execution_count": 23,
   "metadata": {},
   "outputs": [],
   "source": [
    "from sklearn.linear_model import Perceptron,LogisticRegression\n",
    "from sklearn.metrics import mean_absolute_error\n",
    "\n",
    "Cs = [0.0001,0.001,0.01,0.1,1,10,100,1000,10000]\n",
    "\n",
    "predicciones = list()\n",
    "for c in Cs:\n",
    "    model = LogisticRegression(penalty='l2', C=c, max_iter=200)\n",
    "    model = model.fit(X_pca_train, y_train)    \n",
    "    #predicciones.append( mean_absolute_error(y_test, model.predict(X_pca_test) ) )    \n",
    "    predicciones.append( model.score(X_pca_test,y_test))\n"
   ]
  },
  {
   "cell_type": "markdown",
   "metadata": {},
   "source": [
    "Generamos un gráfico para observar para que valores de c el error es más bajo, se ve  que los valores más bajos del parámetro C genera mejores resultados para el conjunto de prueba."
   ]
  },
  {
   "cell_type": "code",
   "execution_count": 24,
   "metadata": {},
   "outputs": [
    {
     "data": {
      "text/plain": [
       "[<matplotlib.lines.Line2D at 0x602c57d9e8>]"
      ]
     },
     "execution_count": 24,
     "metadata": {},
     "output_type": "execute_result"
    },
    {
     "data": {
      "image/png": "[encoded data removed]",
      "text/plain": [
       "<Figure size 432x288 with 1 Axes>"
      ]
     },
     "metadata": {},
     "output_type": "display_data"
    }
   ],
   "source": [
    "colx = (\"10e-4\",\"10e-3\",\"10e-2\",\"10e-1\",\"10e0\",\"10e1\",\"10e2\",\"10e3\",\"10e4\")\n",
    "plt.plot(colx, predicciones ,'o')"
   ]
  },
  {
   "cell_type": "markdown",
   "metadata": {},
   "source": [
    "A continuación se entrena el perceptrón con valores inversos de c y se observan los resultados en un gráfico."
   ]
  },
  {
   "cell_type": "code",
   "execution_count": 25,
   "metadata": {},
   "outputs": [],
   "source": [
    "alphas = [1/c for c in Cs]\n",
    "predicciones_perc = list()\n",
    "for a in alphas:\n",
    "    model = Perceptron(penalty='l2', alpha=a, max_iter=200)\n",
    "    model = model.fit(X_pca_train, y_train)    \n",
    "    #predicciones_perc.append( mean_absolute_error(y_test, model.predict(X_pca_test) ) )  \n",
    "    predicciones_perc.append( model.score(X_pca_test,y_test))"
   ]
  },
  {
   "cell_type": "code",
   "execution_count": 26,
   "metadata": {},
   "outputs": [
    {
     "data": {
      "text/plain": [
       "[<matplotlib.lines.Line2D at 0x602c5dafd0>]"
      ]
     },
     "execution_count": 26,
     "metadata": {},
     "output_type": "execute_result"
    },
    {
     "data": {
      "image/png": "[encoded data removed]",
      "text/plain": [
       "<Figure size 432x288 with 1 Axes>"
      ]
     },
     "metadata": {},
     "output_type": "display_data"
    }
   ],
   "source": [
    "plt.plot(colx, predicciones_perc ,'o')"
   ]
  },
  {
   "cell_type": "markdown",
   "metadata": {},
   "source": [
    "Se observa que el regresor y el perceptrón generan mejores resultados (score) cuando aumenta el valor de c y disminuye el valor de alpha (aumenta c). Esto ocurre ya que ambos métodos se basan en un método discriminativo que aproxima log-odds( corresponden al logaritmo de la probabilidad que un valor pertenenzca a una clase) usando funciones lineales."
   ]
  },
  {
   "cell_type": "markdown",
   "metadata": {},
   "source": [
    "> l) Genere otra representación de los datos a través de la técnica de reducción de dimensionalidad **ICA**, con dimensionalidad $d = 2$. Recuerde que sólo se debe ajustar con el conjunto de entrenamiento, si se muestra un *warning* explique el porqué. Visualice apropiadamente la proyección en 2 dimensiones. Vuelva a realizar el item k) pero para esta nueva representación."
   ]
  },
  {
   "cell_type": "code",
   "execution_count": 27,
   "metadata": {},
   "outputs": [],
   "source": [
    "from sklearn.decomposition import FastICA\n",
    "ica_model = FastICA(n_components=2)\n",
    "ica_model.fit(X_train)\n",
    "X_ica_train = ica_model.transform(X_train)\n",
    "X_ica_test = ica_model.transform(X_test)"
   ]
  },
  {
   "cell_type": "code",
   "execution_count": 28,
   "metadata": {},
   "outputs": [
    {
     "data": {
      "text/plain": [
       "[<matplotlib.lines.Line2D at 0x602c63aeb8>]"
      ]
     },
     "execution_count": 28,
     "metadata": {},
     "output_type": "execute_result"
    },
    {
     "data": {
      "image/png": "[encoded data removed]",
      "text/plain": [
       "<Figure size 432x288 with 1 Axes>"
      ]
     },
     "metadata": {},
     "output_type": "display_data"
    }
   ],
   "source": [
    "s1=list()\n",
    "s2=list()\n",
    "for i in X_ica_train:\n",
    "    s1.append(i[0])\n",
    "    s2.append(i[1])    \n",
    "plt.plot(s1,s2,'o')"
   ]
  },
  {
   "cell_type": "code",
   "execution_count": 29,
   "metadata": {},
   "outputs": [
    {
     "data": {
      "text/plain": [
       "[<matplotlib.lines.Line2D at 0x602a149828>]"
      ]
     },
     "execution_count": 29,
     "metadata": {},
     "output_type": "execute_result"
    },
    {
     "data": {
      "image/png": "[encoded data removed]",
      "text/plain": [
       "<Figure size 432x288 with 1 Axes>"
      ]
     },
     "metadata": {},
     "output_type": "display_data"
    }
   ],
   "source": [
    "s1=list()\n",
    "s2=list()\n",
    "for i in X_ica_test:\n",
    "    s1.append(i[0])\n",
    "    s2.append(i[1])    \n",
    "plt.plot(s1,s2,'o')"
   ]
  },
  {
   "cell_type": "markdown",
   "metadata": {},
   "source": [
    "Los resultados de ICA muestran distribución de los puntos en torno al 0,0 en ambos conjuntos, no obstante los resultados estan normalizados, esto no demuestra que la reducción de dimensiones sea mejor en comparación a PCA, pero podría generar mejores resultados al entrenar los modelos."
   ]
  },
  {
   "cell_type": "code",
   "execution_count": 31,
   "metadata": {},
   "outputs": [],
   "source": [
    "predicciones2 = list()\n",
    "for c in Cs:\n",
    "    model = LogisticRegression(penalty='l2', C=c, max_iter=200)\n",
    "    model = model.fit(X_ica_train, y_train)    \n",
    "   # predicciones2.append( mean_absolute_error(y_test, model.predict(X_ica_test) ) )\n",
    "    predicciones2.append( model.score(X_ica_test,y_test))"
   ]
  },
  {
   "cell_type": "code",
   "execution_count": 32,
   "metadata": {},
   "outputs": [
    {
     "data": {
      "text/plain": [
       "[<matplotlib.lines.Line2D at 0x602cf7abe0>]"
      ]
     },
     "execution_count": 32,
     "metadata": {},
     "output_type": "execute_result"
    },
    {
     "data": {
      "image/png": "[encoded data removed]",
      "text/plain": [
       "<Figure size 432x288 with 1 Axes>"
      ]
     },
     "metadata": {},
     "output_type": "display_data"
    }
   ],
   "source": [
    "plt.plot(colx, predicciones2 ,'o')"
   ]
  },
  {
   "cell_type": "code",
   "execution_count": 33,
   "metadata": {},
   "outputs": [],
   "source": [
    "predicciones_perc2 = list()\n",
    "for a in alphas:\n",
    "    model = Perceptron(penalty='l2', alpha=a, max_iter=200)\n",
    "    model = model.fit(X_ica_train, y_train)    \n",
    "    #predicciones_perc2.append( mean_absolute_error(y_test, model.predict(X_ica_test) ) )  \n",
    "    predicciones_perc2.append( model.score(X_ica_test,y_test))"
   ]
  },
  {
   "cell_type": "code",
   "execution_count": 34,
   "metadata": {},
   "outputs": [
    {
     "data": {
      "text/plain": [
       "[<matplotlib.lines.Line2D at 0x602cfd59e8>]"
      ]
     },
     "execution_count": 34,
     "metadata": {},
     "output_type": "execute_result"
    },
    {
     "data": {
      "image/png": "[encoded data removed]",
      "text/plain": [
       "<Figure size 432x288 with 1 Axes>"
      ]
     },
     "metadata": {},
     "output_type": "display_data"
    }
   ],
   "source": [
    "plt.plot(colx, predicciones_perc2 ,'o')"
   ]
  },
  {
   "cell_type": "markdown",
   "metadata": {},
   "source": [
    "Al igual que antes los resultados entre ambos métodos son similares, generan mejores resultados para valores más grandes de c."
   ]
  },
  {
   "cell_type": "markdown",
   "metadata": {},
   "source": [
    "> m) Experimente con diferentes dimensiones $d$ para la proyección de PCA e ICA con el propósito de obtener un modelo con menor error. Construya una tabla o gráfico resumen de los errores o *accuracy*, comente."
   ]
  },
  {
   "cell_type": "code",
   "execution_count": 66,
   "metadata": {},
   "outputs": [],
   "source": [
    "def regresor_pca_ica(d, X_train, y_train, X_test, y_test):\n",
    "    pca_model = PCA(n_components=d)\n",
    "    pca_model.fit(X_train)\n",
    "    X_pca_train = pca_model.transform(X_train)\n",
    "    X_pca_test = pca_model.transform(X_test)\n",
    "\n",
    "    ica_model = FastICA(n_components=d)\n",
    "    ica_model.fit(X_train)\n",
    "    X_ica_train = ica_model.transform(X_train)\n",
    "    X_ica_test = ica_model.transform(X_test)\n",
    "    \n",
    "    Cs = [0.0001,0.001,0.01,0.1,1,10,100,1000,10000]\n",
    "    predlogic = list()\n",
    "    for c in Cs:\n",
    "        model = LogisticRegression(penalty='l2', C=c, max_iter=200)\n",
    "        model = model.fit(X_pca_train, y_train)    \n",
    "        predlogic.append( model.score(X_pca_test,y_test))\n",
    "    max1 = max(predlogic)\n",
    "    \n",
    "    predlogic = list()\n",
    "    for c in Cs:\n",
    "        model = LogisticRegression(penalty='l2', C=c, max_iter=200)\n",
    "        model = model.fit(X_ica_train, y_train)    \n",
    "        predlogic.append( model.score(X_ica_test,y_test))\n",
    "    max2 = max(predlogic)\n",
    "    \n",
    "    return (max1,max2)\n",
    "\n",
    "def perceptron_pca_ica(d, X_train, y_train, X_test, y_test):\n",
    "    pca_model = PCA(n_components=d)\n",
    "    pca_model.fit(X_train)\n",
    "    X_pca_train = pca_model.transform(X_train)\n",
    "    X_pca_test = pca_model.transform(X_test)\n",
    "\n",
    "    ica_model = FastICA(n_components=d)\n",
    "    ica_model.fit(X_train)\n",
    "    X_ica_train = ica_model.transform(X_train)\n",
    "    X_ica_test = ica_model.transform(X_test)\n",
    "    \n",
    "    Cs = [0.0001,0.001,0.01,0.1,1,10,100,1000,10000]\n",
    "    alphas = [1/c for c in Cs]\n",
    "    predlogic = list()\n",
    "    for a in alphas:\n",
    "        model = Perceptron(penalty='l2', alpha=a, max_iter=200)        \n",
    "        model = model.fit(X_pca_train, y_train)    \n",
    "        predlogic.append( model.score(X_pca_test,y_test))\n",
    "    max1 = max(predlogic)\n",
    "    \n",
    "    predlogic = list()\n",
    "    for a in alphas:\n",
    "        model = Perceptron(penalty='l2', alpha=a, max_iter=200)\n",
    "        model = model.fit(X_ica_train, y_train)    \n",
    "        predlogic.append( model.score(X_ica_test,y_test))\n",
    "    max2 = max(predlogic)\n",
    "    \n",
    "    return (max1,max2)"
   ]
  },
  {
   "cell_type": "code",
   "execution_count": 67,
   "metadata": {},
   "outputs": [],
   "source": [
    "l1 = list()\n",
    "for i in range(9):\n",
    "    l1.append(regresor_pca_ica(i+2, X_train, y_train, X_test, y_test))\n"
   ]
  },
  {
   "cell_type": "code",
   "execution_count": 68,
   "metadata": {},
   "outputs": [],
   "source": [
    "l2 = list()\n",
    "for i in range(9):\n",
    "    l2.append(perceptron_pca_ica(i+2, X_train, y_train, X_test, y_test))"
   ]
  },
  {
   "cell_type": "markdown",
   "metadata": {},
   "source": [
    "Se generan 2 tablas correspondientes al regresor logistico y perceptrón considerando hasta 10 dimensiones donde los valores para las columnas pca e ica corresponde al máximo valor obtenido en accuracy para algún valor de c y alpha."
   ]
  },
  {
   "cell_type": "code",
   "execution_count": 69,
   "metadata": {},
   "outputs": [
    {
     "data": {
      "text/html": [
       "<div>\n",
       "<style scoped>\n",
       "    .dataframe tbody tr th:only-of-type {\n",
       "        vertical-align: middle;\n",
       "    }\n",
       "\n",
       "    .dataframe tbody tr th {\n",
       "        vertical-align: top;\n",
       "    }\n",
       "\n",
       "    .dataframe thead th {\n",
       "        text-align: right;\n",
       "    }\n",
       "</style>\n",
       "<table border=\"1\" class=\"dataframe\">\n",
       "  <thead>\n",
       "    <tr style=\"text-align: right;\">\n",
       "      <th></th>\n",
       "      <th>Dimensiones</th>\n",
       "      <th>PCA</th>\n",
       "      <th>ICA</th>\n",
       "    </tr>\n",
       "  </thead>\n",
       "  <tbody>\n",
       "    <tr>\n",
       "      <th>0</th>\n",
       "      <td>2</td>\n",
       "      <td>0.555556</td>\n",
       "      <td>0.555556</td>\n",
       "    </tr>\n",
       "    <tr>\n",
       "      <th>1</th>\n",
       "      <td>3</td>\n",
       "      <td>0.583333</td>\n",
       "      <td>0.555556</td>\n",
       "    </tr>\n",
       "    <tr>\n",
       "      <th>2</th>\n",
       "      <td>4</td>\n",
       "      <td>0.722222</td>\n",
       "      <td>0.555556</td>\n",
       "    </tr>\n",
       "    <tr>\n",
       "      <th>3</th>\n",
       "      <td>5</td>\n",
       "      <td>0.777778</td>\n",
       "      <td>0.694444</td>\n",
       "    </tr>\n",
       "    <tr>\n",
       "      <th>4</th>\n",
       "      <td>6</td>\n",
       "      <td>0.805556</td>\n",
       "      <td>0.694444</td>\n",
       "    </tr>\n",
       "    <tr>\n",
       "      <th>5</th>\n",
       "      <td>7</td>\n",
       "      <td>0.805556</td>\n",
       "      <td>0.694444</td>\n",
       "    </tr>\n",
       "    <tr>\n",
       "      <th>6</th>\n",
       "      <td>8</td>\n",
       "      <td>0.777778</td>\n",
       "      <td>0.750000</td>\n",
       "    </tr>\n",
       "    <tr>\n",
       "      <th>7</th>\n",
       "      <td>9</td>\n",
       "      <td>0.777778</td>\n",
       "      <td>0.805556</td>\n",
       "    </tr>\n",
       "    <tr>\n",
       "      <th>8</th>\n",
       "      <td>10</td>\n",
       "      <td>0.750000</td>\n",
       "      <td>0.750000</td>\n",
       "    </tr>\n",
       "  </tbody>\n",
       "</table>\n",
       "</div>"
      ],
      "text/plain": [
       "   Dimensiones       PCA       ICA\n",
       "0            2  0.555556  0.555556\n",
       "1            3  0.583333  0.555556\n",
       "2            4  0.722222  0.555556\n",
       "3            5  0.777778  0.694444\n",
       "4            6  0.805556  0.694444\n",
       "5            7  0.805556  0.694444\n",
       "6            8  0.777778  0.750000\n",
       "7            9  0.777778  0.805556\n",
       "8           10  0.750000  0.750000"
      ]
     },
     "execution_count": 69,
     "metadata": {},
     "output_type": "execute_result"
    }
   ],
   "source": [
    "tabla1 = pd.DataFrame()\n",
    "tabla1['Dimensiones'] = (2,3,4,5,6,7,8,9,10)\n",
    "l1pca = list()\n",
    "l1ica = list()\n",
    "for i in l1:\n",
    "    l1pca.append(i[0])\n",
    "    l1ica.append(i[1])\n",
    "tabla1['PCA'] = l1pca\n",
    "tabla1['ICA'] = l1ica\n",
    "tabla1"
   ]
  },
  {
   "cell_type": "code",
   "execution_count": 70,
   "metadata": {},
   "outputs": [
    {
     "data": {
      "text/html": [
       "<div>\n",
       "<style scoped>\n",
       "    .dataframe tbody tr th:only-of-type {\n",
       "        vertical-align: middle;\n",
       "    }\n",
       "\n",
       "    .dataframe tbody tr th {\n",
       "        vertical-align: top;\n",
       "    }\n",
       "\n",
       "    .dataframe thead th {\n",
       "        text-align: right;\n",
       "    }\n",
       "</style>\n",
       "<table border=\"1\" class=\"dataframe\">\n",
       "  <thead>\n",
       "    <tr style=\"text-align: right;\">\n",
       "      <th></th>\n",
       "      <th>Dimensiones</th>\n",
       "      <th>PCA</th>\n",
       "      <th>ICA</th>\n",
       "    </tr>\n",
       "  </thead>\n",
       "  <tbody>\n",
       "    <tr>\n",
       "      <th>0</th>\n",
       "      <td>2</td>\n",
       "      <td>0.444444</td>\n",
       "      <td>0.444444</td>\n",
       "    </tr>\n",
       "    <tr>\n",
       "      <th>1</th>\n",
       "      <td>3</td>\n",
       "      <td>0.444444</td>\n",
       "      <td>0.444444</td>\n",
       "    </tr>\n",
       "    <tr>\n",
       "      <th>2</th>\n",
       "      <td>4</td>\n",
       "      <td>0.444444</td>\n",
       "      <td>0.444444</td>\n",
       "    </tr>\n",
       "    <tr>\n",
       "      <th>3</th>\n",
       "      <td>5</td>\n",
       "      <td>0.527778</td>\n",
       "      <td>0.472222</td>\n",
       "    </tr>\n",
       "    <tr>\n",
       "      <th>4</th>\n",
       "      <td>6</td>\n",
       "      <td>0.500000</td>\n",
       "      <td>0.472222</td>\n",
       "    </tr>\n",
       "    <tr>\n",
       "      <th>5</th>\n",
       "      <td>7</td>\n",
       "      <td>0.500000</td>\n",
       "      <td>0.472222</td>\n",
       "    </tr>\n",
       "    <tr>\n",
       "      <th>6</th>\n",
       "      <td>8</td>\n",
       "      <td>0.583333</td>\n",
       "      <td>0.555556</td>\n",
       "    </tr>\n",
       "    <tr>\n",
       "      <th>7</th>\n",
       "      <td>9</td>\n",
       "      <td>0.638889</td>\n",
       "      <td>0.555556</td>\n",
       "    </tr>\n",
       "    <tr>\n",
       "      <th>8</th>\n",
       "      <td>10</td>\n",
       "      <td>0.583333</td>\n",
       "      <td>0.694444</td>\n",
       "    </tr>\n",
       "  </tbody>\n",
       "</table>\n",
       "</div>"
      ],
      "text/plain": [
       "   Dimensiones       PCA       ICA\n",
       "0            2  0.444444  0.444444\n",
       "1            3  0.444444  0.444444\n",
       "2            4  0.444444  0.444444\n",
       "3            5  0.527778  0.472222\n",
       "4            6  0.500000  0.472222\n",
       "5            7  0.500000  0.472222\n",
       "6            8  0.583333  0.555556\n",
       "7            9  0.638889  0.555556\n",
       "8           10  0.583333  0.694444"
      ]
     },
     "execution_count": 70,
     "metadata": {},
     "output_type": "execute_result"
    }
   ],
   "source": [
    "tabla2 = pd.DataFrame()\n",
    "tabla2['Dimensiones'] = (2,3,4,5,6,7,8,9,10)\n",
    "l1pca = list()\n",
    "l1ica = list()\n",
    "for i in l2:\n",
    "    l1pca.append(i[0])\n",
    "    l1ica.append(i[1])\n",
    "tabla2['PCA'] = l1pca\n",
    "tabla2['ICA'] = l1ica\n",
    "tabla2"
   ]
  },
  {
   "cell_type": "markdown",
   "metadata": {},
   "source": [
    "Se observa que los valores para el regresor logístico son mejores que para el perceptrón, tanto para PCA como para ICA, tambien se observa que la presición aumenta al aumentar el número de dimensiones."
   ]
  },
  {
   "cell_type": "markdown",
   "metadata": {},
   "source": [
    "> n) Realice otra reducción de dimensionalidad ahora a través de la técnica **LDA**, para representar los datos en $d = 2$ dimensiones. Recuerde que sólo se debe ajustar con el conjunto de entrenamiento, si se muestra un *warning* explique el porqué. Visualice apropiadamente la proyección en 2 dimensiones."
   ]
  },
  {
   "cell_type": "markdown",
   "metadata": {},
   "source": [
    "Se presenta un warning ya que existen variables que son colineales, es decir un vector o varios son un representación de una función lineal de otro vector. "
   ]
  },
  {
   "cell_type": "code",
   "execution_count": 71,
   "metadata": {},
   "outputs": [
    {
     "name": "stderr",
     "output_type": "stream",
     "text": [
      "C:\\Users\\Kristian\\Anaconda3\\lib\\site-packages\\sklearn\\discriminant_analysis.py:388: UserWarning: Variables are collinear.\n",
      "  warnings.warn(\"Variables are collinear.\")\n"
     ]
    },
    {
     "data": {
      "text/plain": [
       "[<matplotlib.lines.Line2D at 0x602df35f28>]"
      ]
     },
     "execution_count": 71,
     "metadata": {},
     "output_type": "execute_result"
    },
    {
     "data": {
      "image/png": "[encoded data removed]",
      "text/plain": [
       "<Figure size 432x288 with 1 Axes>"
      ]
     },
     "metadata": {},
     "output_type": "display_data"
    }
   ],
   "source": [
    "from sklearn.discriminant_analysis import LinearDiscriminantAnalysis as LDA\n",
    "lda_model = LDA(n_components=2)\n",
    "lda_model.fit(X_train,y_train)\n",
    "X_lda_train = lda_model.transform(X_train)\n",
    "X_lda_test = lda_model.transform(X_test)\n",
    "s1=list()\n",
    "s2=list()\n",
    "for i in X_lda_train:\n",
    "    s1.append(i[0])\n",
    "    s2.append(i[1])    \n",
    "plt.plot(s1,s2,'o')"
   ]
  },
  {
   "cell_type": "code",
   "execution_count": 72,
   "metadata": {},
   "outputs": [
    {
     "data": {
      "text/plain": [
       "[<matplotlib.lines.Line2D at 0x602dab94a8>]"
      ]
     },
     "execution_count": 72,
     "metadata": {},
     "output_type": "execute_result"
    },
    {
     "data": {
      "image/png": "[encoded data removed]",
      "text/plain": [
       "<Figure size 432x288 with 1 Axes>"
      ]
     },
     "metadata": {},
     "output_type": "display_data"
    }
   ],
   "source": [
    "s1=list()\n",
    "s2=list()\n",
    "for i in X_lda_test:\n",
    "    s1.append(i[0])\n",
    "    s2.append(i[1])    \n",
    "plt.plot(s1,s2,'o')"
   ]
  },
  {
   "cell_type": "markdown",
   "metadata": {},
   "source": [
    "> o) Con el propósito de encontrar el mejor modelo vuelva a realizar el item k) en el nuevo espacio generado por la representación según las $d$ dimensiones de la proyección LDA. Esta nueva representación ¿mejora o empeora el desempeño? Explique.\n"
   ]
  },
  {
   "cell_type": "code",
   "execution_count": 73,
   "metadata": {},
   "outputs": [
    {
     "data": {
      "text/plain": [
       "[<matplotlib.lines.Line2D at 0x602db0fa90>]"
      ]
     },
     "execution_count": 73,
     "metadata": {},
     "output_type": "execute_result"
    },
    {
     "data": {
      "image/png": "[encoded data removed]",
      "text/plain": [
       "<Figure size 432x288 with 1 Axes>"
      ]
     },
     "metadata": {},
     "output_type": "display_data"
    }
   ],
   "source": [
    "Cs = [0.0001,0.001,0.01,0.1,1,10,100,1000,10000]\n",
    "\n",
    "predicciones = list()\n",
    "for c in Cs:\n",
    "    model = LogisticRegression(penalty='l2', C=c, max_iter=200)\n",
    "    model = model.fit(X_lda_train, y_train)        \n",
    "    predicciones.append( model.score(X_lda_test,y_test))\n",
    "plt.plot(colx, predicciones ,'o')"
   ]
  },
  {
   "cell_type": "code",
   "execution_count": 74,
   "metadata": {},
   "outputs": [
    {
     "data": {
      "text/plain": [
       "[<matplotlib.lines.Line2D at 0x602db71550>]"
      ]
     },
     "execution_count": 74,
     "metadata": {},
     "output_type": "execute_result"
    },
    {
     "data": {
      "image/png": "[encoded data removed]",
      "text/plain": [
       "<Figure size 432x288 with 1 Axes>"
      ]
     },
     "metadata": {},
     "output_type": "display_data"
    }
   ],
   "source": [
    "predicciones_perc2 = list()\n",
    "for a in alphas:\n",
    "    model = Perceptron(penalty='l2', alpha=a, max_iter=200)\n",
    "    model = model.fit(X_lda_train, y_train)        \n",
    "    predicciones_perc2.append( model.score(X_lda_test,y_test))\n",
    "plt.plot(colx, predicciones_perc2 ,'o')    "
   ]
  },
  {
   "cell_type": "markdown",
   "metadata": {},
   "source": [
    "LDA entrega mucho mejores resultados en presición  tan solo para 2 dimensiones a medida que el valor de c es más pequeño y alpha aumenta, por lo que se estima que en caso de aumentar el número de dimensiones de LDA, mejorara la accurancy."
   ]
  },
  {
   "cell_type": "markdown",
   "metadata": {},
   "source": [
    "\n",
    "> p) Intente mejorar el desempeño de los algoritmos ya entrenados. Diseñe ahora sus propias cracterı́sticas (*feature crafting*) a partir de los datos brutos (secuencia de amplitudes), puede inspirarse en otros trabajos [[6]](#refs), [[7]](#refs)  si desea."
   ]
  },
  {
   "cell_type": "code",
   "execution_count": 127,
   "metadata": {},
   "outputs": [
    {
     "data": {
      "text/plain": [
       "(176, 396900)"
      ]
     },
     "execution_count": 127,
     "metadata": {},
     "output_type": "execute_result"
    }
   ],
   "source": [
    "X_fourier.shape"
   ]
  },
  {
   "cell_type": "code",
   "execution_count": 158,
   "metadata": {},
   "outputs": [],
   "source": [
    "def max_REGRESOR_PCA(X_fourier):    \n",
    "    maximo =0\n",
    "    for a in range(int(39690/2400)):\n",
    "        a=a+1\n",
    "        X_resampled = []\n",
    "        for i in range(X_fourier.shape[0]):\n",
    "            sequence = X_fourier[i,:].copy()\n",
    "            resampled_sequence = signal.resample(sequence, a*2400)\n",
    "            X_resampled.append(resampled_sequence)\n",
    "        \n",
    "        X_resampled = np.array(X_resampled)        \n",
    "        X_train, X_test, y_train, y_test = train_test_split(X_resampled, y, test_size=0.20, random_state=42)\n",
    "        std = StandardScaler(with_mean=True, with_std=True)\n",
    "        std.fit(X_train)\n",
    "        X_train = std.transform(X_train)\n",
    "        X_test = std.transform(X_test)\n",
    "        \n",
    "        for i in range(20):        \n",
    "            d = i+10\n",
    "            pca_model = PCA(n_components=d)\n",
    "            pca_model.fit(X_train, y_train)\n",
    "            X_pca_train = pca_model.transform(X_train)\n",
    "            X_pca_test = pca_model.transform(X_test)        \n",
    "\n",
    "            Cs = [0.0001,0.001,0.01,0.1,1,10,100,1000,10000]\n",
    "            predlogic = list()\n",
    "            for c in Cs:\n",
    "                model = LogisticRegression(penalty='l2', C=c, max_iter=100)\n",
    "                model = model.fit(X_pca_train, y_train)    \n",
    "                predlogic.append( model.score(X_pca_test,y_test))        \n",
    "\n",
    "            max_local = max(predlogic)\n",
    "            \n",
    "            if max_local > maximo:             \n",
    "                maximo = max_local\n",
    "                print((a*2400),maximo, d)\n",
    "                dimensiones = d\n",
    "    \n",
    "    return (maximo,d)\n",
    "    "
   ]
  },
  {
   "cell_type": "code",
   "execution_count": 159,
   "metadata": {},
   "outputs": [
    {
     "name": "stdout",
     "output_type": "stream",
     "text": [
      "2400 0.75 10\n",
      "2400 0.8055555555555556 12\n",
      "2400 0.8333333333333334 13\n",
      "2400 0.8611111111111112 29\n"
     ]
    },
    {
     "data": {
      "text/plain": [
       "(0.8611111111111112, 29)"
      ]
     },
     "execution_count": 159,
     "metadata": {},
     "output_type": "execute_result"
    }
   ],
   "source": [
    "max_REGRESOR_PCA(X_fourier)"
   ]
  },
  {
   "cell_type": "markdown",
   "metadata": {},
   "source": [
    "Para la entrada se ulizo tanto la transformada de furier como la estandarización de los vectores, lo generá mejores resultados que al no aplicarlos, por lo  que para mejorar resultados se probó iterando distintas dimensionalidades para la función signal que transforma las características reduciendo dimensiones antes del entrenamiento, se probarón distintas combinaciónes de modelos y de reductores de dimensiones (PCA,ICA, LDA) y la combianción que generó los mejores resultados fue la reducción dimensiones inicial previa al modelo con 2400 características, a continuación se utilizó un reductor de dimensiones PCA y un regresor logístico, lo que entregó un máximo local de 0.8611 superior a los valores encontrados con anterioridad. "
   ]
  },
  {
   "cell_type": "code",
   "execution_count": null,
   "metadata": {},
   "outputs": [],
   "source": []
  }
 ],
 "metadata": {
  "kernelspec": {
   "display_name": "Python 3",
   "language": "python",
   "name": "python3"
  },
  "language_info": {
   "codemirror_mode": {
    "name": "ipython",
    "version": 3
   },
   "file_extension": ".py",
   "mimetype": "text/x-python",
   "name": "python",
   "nbconvert_exporter": "python",
   "pygments_lexer": "ipython3",
   "version": "3.6.5"
  }
 },
 "nbformat": 4,
 "nbformat_minor": 2
}
