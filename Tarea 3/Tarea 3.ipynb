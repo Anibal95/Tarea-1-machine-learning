{
 "cells": [
  {
   "cell_type": "markdown",
   "metadata": {},
   "source": [
    "<img src=\"http://www.exalumnos.usm.cl/wp-content/uploads/2015/06/Isotipo-Negro.gif\" title=\"Title text\" width=\"20%\" height=\"20%\" />\n",
    "\n",
    "\n",
    "<hr style=\"height:2px;border:none\"/>\n",
    "<h1 align='center'> INF-393 Máquinas de Aprendizaje II-2018 </h1>\n",
    "\n",
    "<H3 align='center'> Tarea 3 - Ensamblados y modelos avanzados </H3>\n",
    "<hr style=\"height:2px;border:none\"/>\n",
    "\n",
    "* Cristian Aguilar\n",
    "* Anibal Palomo\n",
    " \n",
    "**Temas**  \n",
    "* Técnicas de ensamblado: *bagging*, *boosting*, *random forest*.\n",
    "* Redes Neuronales Convolucionales vs *Feed Forward*\n",
    "* Aprendizaje no supervisado: *hidden models*\n",
    "* Aprendizaje sobre secuencias\n",
    " "
   ]
  },
  {
   "cell_type": "markdown",
   "metadata": {},
   "source": [
    "## 1. Calidad de un vino\n",
    "\n",
    "> a) Carge los dos dataset en un único dataframe de pandas, además de agregar una columna indicando si es vino tinto o blanco. Describa el dataset a trabajar.\n"
   ]
  },
  {
   "cell_type": "markdown",
   "metadata": {},
   "source": [
    "La descripción menciona que el dataset de vino es no balanceado, es decir existen muchas clases normales y pocas clases baja y alta calidad, además se menciona que no se esta seguro sobre la importancia de cada características de las 12, siendo la última la calidad del vino y las etiquetas verdaderas."
   ]
  },
  {
   "cell_type": "code",
   "execution_count": 1,
   "metadata": {},
   "outputs": [
    {
     "data": {
      "text/plain": [
       "(6497, 13)"
      ]
     },
     "execution_count": 1,
     "metadata": {},
     "output_type": "execute_result"
    }
   ],
   "source": [
    "import pandas as pd\n",
    "df_red = pd.read_csv(\"winequality-red.csv\",sep=\";\")\n",
    "df_white = pd.read_csv(\"winequality-white.csv\",sep=\";\")\n",
    "df_red['tipo'] = 1\n",
    "df_white['tipo'] = 0\n",
    "df = pd.concat([df_red,df_white], axis=0)\n",
    "df.shape"
   ]
  },
  {
   "cell_type": "code",
   "execution_count": 4,
   "metadata": {},
   "outputs": [
    {
     "data": {
      "text/plain": [
       "<bound method NDFrame.head of       fixed acidity  volatile acidity  citric acid  residual sugar  chlorides  \\\n",
       "0               7.4             0.700         0.00            1.90      0.076   \n",
       "1               7.8             0.880         0.00            2.60      0.098   \n",
       "2               7.8             0.760         0.04            2.30      0.092   \n",
       "3              11.2             0.280         0.56            1.90      0.075   \n",
       "4               7.4             0.700         0.00            1.90      0.076   \n",
       "5               7.4             0.660         0.00            1.80      0.075   \n",
       "6               7.9             0.600         0.06            1.60      0.069   \n",
       "7               7.3             0.650         0.00            1.20      0.065   \n",
       "8               7.8             0.580         0.02            2.00      0.073   \n",
       "9               7.5             0.500         0.36            6.10      0.071   \n",
       "10              6.7             0.580         0.08            1.80      0.097   \n",
       "11              7.5             0.500         0.36            6.10      0.071   \n",
       "12              5.6             0.615         0.00            1.60      0.089   \n",
       "13              7.8             0.610         0.29            1.60      0.114   \n",
       "14              8.9             0.620         0.18            3.80      0.176   \n",
       "15              8.9             0.620         0.19            3.90      0.170   \n",
       "16              8.5             0.280         0.56            1.80      0.092   \n",
       "17              8.1             0.560         0.28            1.70      0.368   \n",
       "18              7.4             0.590         0.08            4.40      0.086   \n",
       "19              7.9             0.320         0.51            1.80      0.341   \n",
       "20              8.9             0.220         0.48            1.80      0.077   \n",
       "21              7.6             0.390         0.31            2.30      0.082   \n",
       "22              7.9             0.430         0.21            1.60      0.106   \n",
       "23              8.5             0.490         0.11            2.30      0.084   \n",
       "24              6.9             0.400         0.14            2.40      0.085   \n",
       "25              6.3             0.390         0.16            1.40      0.080   \n",
       "26              7.6             0.410         0.24            1.80      0.080   \n",
       "27              7.9             0.430         0.21            1.60      0.106   \n",
       "28              7.1             0.710         0.00            1.90      0.080   \n",
       "29              7.8             0.645         0.00            2.00      0.082   \n",
       "...             ...               ...          ...             ...        ...   \n",
       "4868            5.8             0.230         0.31            4.50      0.046   \n",
       "4869            6.6             0.240         0.33           10.10      0.032   \n",
       "4870            6.1             0.320         0.28            6.60      0.021   \n",
       "4871            5.0             0.200         0.40            1.90      0.015   \n",
       "4872            6.0             0.420         0.41           12.40      0.032   \n",
       "4873            5.7             0.210         0.32            1.60      0.030   \n",
       "4874            5.6             0.200         0.36            2.50      0.048   \n",
       "4875            7.4             0.220         0.26            1.20      0.035   \n",
       "4876            6.2             0.380         0.42            2.50      0.038   \n",
       "4877            5.9             0.540         0.00            0.80      0.032   \n",
       "4878            6.2             0.530         0.02            0.90      0.035   \n",
       "4879            6.6             0.340         0.40            8.10      0.046   \n",
       "4880            6.6             0.340         0.40            8.10      0.046   \n",
       "4881            5.0             0.235         0.27           11.75      0.030   \n",
       "4882            5.5             0.320         0.13            1.30      0.037   \n",
       "4883            4.9             0.470         0.17            1.90      0.035   \n",
       "4884            6.5             0.330         0.38            8.30      0.048   \n",
       "4885            6.6             0.340         0.40            8.10      0.046   \n",
       "4886            6.2             0.210         0.28            5.70      0.028   \n",
       "4887            6.2             0.410         0.22            1.90      0.023   \n",
       "4888            6.8             0.220         0.36            1.20      0.052   \n",
       "4889            4.9             0.235         0.27           11.75      0.030   \n",
       "4890            6.1             0.340         0.29            2.20      0.036   \n",
       "4891            5.7             0.210         0.32            0.90      0.038   \n",
       "4892            6.5             0.230         0.38            1.30      0.032   \n",
       "4893            6.2             0.210         0.29            1.60      0.039   \n",
       "4894            6.6             0.320         0.36            8.00      0.047   \n",
       "4895            6.5             0.240         0.19            1.20      0.041   \n",
       "4896            5.5             0.290         0.30            1.10      0.022   \n",
       "4897            6.0             0.210         0.38            0.80      0.020   \n",
       "\n",
       "      free sulfur dioxide  total sulfur dioxide  density    pH  sulphates  \\\n",
       "0                    11.0                  34.0  0.99780  3.51       0.56   \n",
       "1                    25.0                  67.0  0.99680  3.20       0.68   \n",
       "2                    15.0                  54.0  0.99700  3.26       0.65   \n",
       "3                    17.0                  60.0  0.99800  3.16       0.58   \n",
       "4                    11.0                  34.0  0.99780  3.51       0.56   \n",
       "5                    13.0                  40.0  0.99780  3.51       0.56   \n",
       "6                    15.0                  59.0  0.99640  3.30       0.46   \n",
       "7                    15.0                  21.0  0.99460  3.39       0.47   \n",
       "8                     9.0                  18.0  0.99680  3.36       0.57   \n",
       "9                    17.0                 102.0  0.99780  3.35       0.80   \n",
       "10                   15.0                  65.0  0.99590  3.28       0.54   \n",
       "11                   17.0                 102.0  0.99780  3.35       0.80   \n",
       "12                   16.0                  59.0  0.99430  3.58       0.52   \n",
       "13                    9.0                  29.0  0.99740  3.26       1.56   \n",
       "14                   52.0                 145.0  0.99860  3.16       0.88   \n",
       "15                   51.0                 148.0  0.99860  3.17       0.93   \n",
       "16                   35.0                 103.0  0.99690  3.30       0.75   \n",
       "17                   16.0                  56.0  0.99680  3.11       1.28   \n",
       "18                    6.0                  29.0  0.99740  3.38       0.50   \n",
       "19                   17.0                  56.0  0.99690  3.04       1.08   \n",
       "20                   29.0                  60.0  0.99680  3.39       0.53   \n",
       "21                   23.0                  71.0  0.99820  3.52       0.65   \n",
       "22                   10.0                  37.0  0.99660  3.17       0.91   \n",
       "23                    9.0                  67.0  0.99680  3.17       0.53   \n",
       "24                   21.0                  40.0  0.99680  3.43       0.63   \n",
       "25                   11.0                  23.0  0.99550  3.34       0.56   \n",
       "26                    4.0                  11.0  0.99620  3.28       0.59   \n",
       "27                   10.0                  37.0  0.99660  3.17       0.91   \n",
       "28                   14.0                  35.0  0.99720  3.47       0.55   \n",
       "29                    8.0                  16.0  0.99640  3.38       0.59   \n",
       "...                   ...                   ...      ...   ...        ...   \n",
       "4868                 42.0                 124.0  0.99324  3.31       0.64   \n",
       "4869                  8.0                  81.0  0.99626  3.19       0.51   \n",
       "4870                 29.0                 132.0  0.99188  3.15       0.36   \n",
       "4871                 20.0                  98.0  0.98970  3.37       0.55   \n",
       "4872                 50.0                 179.0  0.99622  3.14       0.60   \n",
       "4873                 33.0                 122.0  0.99044  3.33       0.52   \n",
       "4874                 16.0                 125.0  0.99282  3.49       0.49   \n",
       "4875                 18.0                  97.0  0.99245  3.12       0.41   \n",
       "4876                 34.0                 117.0  0.99132  3.36       0.59   \n",
       "4877                 12.0                  82.0  0.99286  3.25       0.36   \n",
       "4878                  6.0                  81.0  0.99234  3.24       0.35   \n",
       "4879                 68.0                 170.0  0.99494  3.15       0.50   \n",
       "4880                 68.0                 170.0  0.99494  3.15       0.50   \n",
       "4881                 34.0                 118.0  0.99540  3.07       0.50   \n",
       "4882                 45.0                 156.0  0.99184  3.26       0.38   \n",
       "4883                 60.0                 148.0  0.98964  3.27       0.35   \n",
       "4884                 68.0                 174.0  0.99492  3.14       0.50   \n",
       "4885                 68.0                 170.0  0.99494  3.15       0.50   \n",
       "4886                 45.0                 121.0  0.99168  3.21       1.08   \n",
       "4887                  5.0                  56.0  0.98928  3.04       0.79   \n",
       "4888                 38.0                 127.0  0.99330  3.04       0.54   \n",
       "4889                 34.0                 118.0  0.99540  3.07       0.50   \n",
       "4890                 25.0                 100.0  0.98938  3.06       0.44   \n",
       "4891                 38.0                 121.0  0.99074  3.24       0.46   \n",
       "4892                 29.0                 112.0  0.99298  3.29       0.54   \n",
       "4893                 24.0                  92.0  0.99114  3.27       0.50   \n",
       "4894                 57.0                 168.0  0.99490  3.15       0.46   \n",
       "4895                 30.0                 111.0  0.99254  2.99       0.46   \n",
       "4896                 20.0                 110.0  0.98869  3.34       0.38   \n",
       "4897                 22.0                  98.0  0.98941  3.26       0.32   \n",
       "\n",
       "        alcohol  quality  tipo  \n",
       "0      9.400000        5     1  \n",
       "1      9.800000        5     1  \n",
       "2      9.800000        5     1  \n",
       "3      9.800000        6     1  \n",
       "4      9.400000        5     1  \n",
       "5      9.400000        5     1  \n",
       "6      9.400000        5     1  \n",
       "7     10.000000        7     1  \n",
       "8      9.500000        7     1  \n",
       "9     10.500000        5     1  \n",
       "10     9.200000        5     1  \n",
       "11    10.500000        5     1  \n",
       "12     9.900000        5     1  \n",
       "13     9.100000        5     1  \n",
       "14     9.200000        5     1  \n",
       "15     9.200000        5     1  \n",
       "16    10.500000        7     1  \n",
       "17     9.300000        5     1  \n",
       "18     9.000000        4     1  \n",
       "19     9.200000        6     1  \n",
       "20     9.400000        6     1  \n",
       "21     9.700000        5     1  \n",
       "22     9.500000        5     1  \n",
       "23     9.400000        5     1  \n",
       "24     9.700000        6     1  \n",
       "25     9.300000        5     1  \n",
       "26     9.500000        5     1  \n",
       "27     9.500000        5     1  \n",
       "28     9.400000        5     1  \n",
       "29     9.800000        6     1  \n",
       "...         ...      ...   ...  \n",
       "4868  10.800000        6     0  \n",
       "4869   9.800000        6     0  \n",
       "4870  11.450000        7     0  \n",
       "4871  12.050000        6     0  \n",
       "4872   9.700000        5     0  \n",
       "4873  11.900000        6     0  \n",
       "4874  10.000000        6     0  \n",
       "4875   9.700000        6     0  \n",
       "4876  11.600000        7     0  \n",
       "4877   8.800000        5     0  \n",
       "4878   9.500000        4     0  \n",
       "4879   9.533333        6     0  \n",
       "4880   9.533333        6     0  \n",
       "4881   9.400000        6     0  \n",
       "4882  10.700000        5     0  \n",
       "4883  11.500000        6     0  \n",
       "4884   9.600000        5     0  \n",
       "4885   9.550000        6     0  \n",
       "4886  12.150000        7     0  \n",
       "4887  13.000000        7     0  \n",
       "4888   9.200000        5     0  \n",
       "4889   9.400000        6     0  \n",
       "4890  11.800000        6     0  \n",
       "4891  10.600000        6     0  \n",
       "4892   9.700000        5     0  \n",
       "4893  11.200000        6     0  \n",
       "4894   9.600000        5     0  \n",
       "4895   9.400000        6     0  \n",
       "4896  12.800000        7     0  \n",
       "4897  11.800000        6     0  \n",
       "\n",
       "[6497 rows x 13 columns]>"
      ]
     },
     "execution_count": 4,
     "metadata": {},
     "output_type": "execute_result"
    }
   ],
   "source": [
    "df.head"
   ]
  },
  {
   "cell_type": "markdown",
   "metadata": {},
   "source": [
    "Se observa que todas las variables son numericas con rangos propios, esta es una de la razón por las que se eligieron los valores 1 y 0 para respresentar vinos rojos de blancos, así posterirmente en el entrenamiento se enseñara solo con números."
   ]
  },
  {
   "cell_type": "markdown",
   "metadata": {},
   "source": [
    "> b) Aborde este problema como si fuera de clasificación con multiples clases para predecir el valor de calidad de un vino, es decir, utilice las distintas caracterı́sticas fisioquı́micas presentes en los datos para estimar la etiqueta ¿Cuántas clases son y cuántos ejemplos hay por clase? ¿Qué sucede con predecir si un vino tiene calidad mínima (0) o máxima(10)? Además para el propósito académico de esta actividad cree un conjunto de pruebas (20%) para evaluar la generalización final del modelo y otro de validación (20%) si estima conveniente. "
   ]
  },
  {
   "cell_type": "code",
   "execution_count": 5,
   "metadata": {},
   "outputs": [
    {
     "data": {
      "text/plain": [
       "6    2836\n",
       "5    2138\n",
       "7    1079\n",
       "4     216\n",
       "8     193\n",
       "3      30\n",
       "9       5\n",
       "Name: quality, dtype: int64"
      ]
     },
     "execution_count": 5,
     "metadata": {},
     "output_type": "execute_result"
    }
   ],
   "source": [
    "df['quality'].value_counts()"
   ]
  },
  {
   "cell_type": "markdown",
   "metadata": {},
   "source": [
    "Como se observa no existen valores de calidad extremos en 0, 1, 2 ni en 10, lo que indica que es la opinión de las personas es general buena y bajo el 3 que resulta una de las clases minoritarias. Al no existir valores extremos podría ocurrir que la máquina desde los ejemplos como si estos valores no existieran o no estuvieran considerados, por lo tanto no lo podría predecir."
   ]
  },
  {
   "cell_type": "code",
   "execution_count": 2,
   "metadata": {},
   "outputs": [],
   "source": [
    "from sklearn.model_selection import train_test_split\n",
    "y = list(df['quality'])\n",
    "df = df.drop('quality', 1)\n",
    "X_train,X_test,y_train,y_test = train_test_split(df, y, test_size=0.20)"
   ]
  },
  {
   "cell_type": "markdown",
   "metadata": {},
   "source": [
    "En este caso no estimamos conventiente un conjunto de validación dado que tenemos solo 6497 ejemplos, lo es relativamente poco. Además eliminamos la columna \"quality \"de los resultados de los conjuntos generados para que el entrenamiento no se vea  determinado por esta característica."
   ]
  },
  {
   "cell_type": "markdown",
   "metadata": {},
   "source": [
    "> c) Entrene un solo Árbol de Clasificación de múltiples niveles para resolver el problema. Defina un Árbol no regularizado (como el que no tiene límites en su profundidad) y otro Árbol regularizado (variando los hiper-parámetros que prefiera, por ejemplo, los más comunes como la profundidad, el número mínimo de datos para realizar split o el número mínimo de datos en cada hoja), recuerde que las decisiones no pueden ser basadas mirando el conjunto de pruebas. Debido al desbalanceo que se produce en las clases mida la métrica F1-score [2] sobre el conjunto de entrenamiento y de pruebas."
   ]
  },
  {
   "cell_type": "code",
   "execution_count": 3,
   "metadata": {},
   "outputs": [
    {
     "name": "stdout",
     "output_type": "stream",
     "text": [
      "1.0\n"
     ]
    },
    {
     "data": {
      "text/plain": [
       "0.6030911542724082"
      ]
     },
     "execution_count": 3,
     "metadata": {},
     "output_type": "execute_result"
    }
   ],
   "source": [
    "from sklearn.tree import DecisionTreeClassifier as Tree\n",
    "from sklearn.metrics import f1_score\n",
    "\n",
    "arbol_no_regularizado = Tree() \n",
    "arbol_no_regularizado.set_params(max_depth=None,criterion='gini',splitter='best')\n",
    "arbol_no_regularizado.fit(X_train,y_train)\n",
    "\n",
    "y_pred_train = arbol_no_regularizado.predict(X_train)\n",
    "print(f1_score(y_train, y_pred_train, average ='weighted'))\n",
    "\n",
    "y_pred = arbol_no_regularizado.predict(X_test)\n",
    "f1_score(y_test, y_pred, average ='weighted')"
   ]
  },
  {
   "cell_type": "markdown",
   "metadata": {},
   "source": [
    "Se selecciono la métrica 'weighted' donde calcula las métricas para cada etiqueta y encuentre su ponderación promedio por  número de instancias reales de cada clase, además toma  en cuenta el desequilibrio de clases.\n",
    "\n",
    "Notamos que se obtienen resultados ideales para el entrenamiento lo que tiene sentido por la forma como funcionan los árboles donde cada dato tiene una región definida, mientras que los resultados para las pruebas son buenos considerando que trabajamos con un problema multiclase."
   ]
  },
  {
   "cell_type": "markdown",
   "metadata": {},
   "source": [
    "> Árbol regularizado"
   ]
  },
  {
   "cell_type": "markdown",
   "metadata": {},
   "source": [
    "A continuación se regularizan las entradas para entrenamiento y pruebas y compararemos los resultados obtenidos con el árol regularizado."
   ]
  },
  {
   "cell_type": "code",
   "execution_count": 4,
   "metadata": {},
   "outputs": [
    {
     "name": "stdout",
     "output_type": "stream",
     "text": [
      "1.0\n"
     ]
    },
    {
     "data": {
      "text/plain": [
       "0.5987603163993713"
      ]
     },
     "execution_count": 4,
     "metadata": {},
     "output_type": "execute_result"
    }
   ],
   "source": [
    "from sklearn.preprocessing import StandardScaler\n",
    "std = StandardScaler()\n",
    "std.fit(X_train)\n",
    "X_train = std.transform(X_train)\n",
    "X_test = std.transform(X_test)\n",
    "\n",
    "\n",
    "arbol_regularizado = Tree() \n",
    "arbol_regularizado.set_params(max_depth=None,criterion='gini',splitter='best')\n",
    "arbol_regularizado.fit(X_train,y_train)\n",
    "\n",
    "y_pred_train = arbol_regularizado.predict(X_train)\n",
    "print(f1_score(y_train, y_pred_train, average ='weighted'))\n",
    "\n",
    "y_pred = arbol_regularizado.predict(X_test)\n",
    "f1_score(y_test, y_pred, average ='weighted')"
   ]
  },
  {
   "cell_type": "markdown",
   "metadata": {},
   "source": [
    "Los resultados son muy similares y no se observa ninguna diferenecia entre regularizar o no los datos de entrada en este ejemplo, lo que entrega información valiosa, puesto que indica que no es necesario regularizar las entradas en un problema multi clase usando árboles de decisiones, esto puede ocurrir ya que para cada variable al momento de hacer un split la división es la mejor posible, por lo que esta dividiendo probablemente en el mismo valor de una variable regularizado o no, es decir por ejemplo, en no regularizado divide una variable de rango 1-16 en el valor 8, y en regularizado lo divide en 0.5 en un rango 0-1."
   ]
  },
  {
   "cell_type": "markdown",
   "metadata": {},
   "source": [
    "> d) Entrene un ensamblado de árboles de múltiples niveles, mediante la técnica de Bagging, compare el Árbol no regularizado con el regularizado (seteando los hiper-parámetros en base a lo experimentado anteriormente en c)) ¿Qué debería suceder? ¿Se visualiza overfitting? Varíe la cantidad de árboles de decisión utilizados en el ensamblado (n estimators), realice un gráfico resumen del F1-score de entrenamiento y de pruebas en función de este hiper-parámetro."
   ]
  },
  {
   "cell_type": "markdown",
   "metadata": {},
   "source": [
    "En este caso como utilizaremos la técnica Bagging debiese ocurrir que el caso no regularizado debería entregar mejores resultados, ya que la variabiliadad de caracterísiticas y los valores de los datos debiese resultar beneficioso pues cada árbol sería entrenado con una muestra diferente para encontrar ensamblado ideal."
   ]
  },
  {
   "cell_type": "code",
   "execution_count": 27,
   "metadata": {},
   "outputs": [],
   "source": [
    "from sklearn.ensemble import BaggingClassifier\n",
    "def bagging(n, X_train, y_train, X_test, y_test ):\n",
    "    model = BaggingClassifier(base_estimator=Tree(max_depth=None), n_estimators=n, n_jobs=-1)\n",
    "    model.fit(X_train, y_train)\n",
    "    y_pred = model.predict(X_test)\n",
    "    return f1_score(y_test, y_pred, average ='weighted')"
   ]
  },
  {
   "cell_type": "code",
   "execution_count": 58,
   "metadata": {},
   "outputs": [],
   "source": [
    "results_test = list()\n",
    "results_train = list()\n",
    "X_train,X_test,y_train,y_test = train_test_split(df, y, test_size=0.20)\n",
    "    \n",
    "for n in range(1,200):\n",
    "    results_test.append(bagging(n, X_train, y_train, X_test, y_test))"
   ]
  },
  {
   "cell_type": "code",
   "execution_count": 59,
   "metadata": {},
   "outputs": [
    {
     "data": {
      "image/png": "[encoded data removed]",
      "text/plain": [
       "<Figure size 432x288 with 1 Axes>"
      ]
     },
     "metadata": {},
     "output_type": "display_data"
    }
   ],
   "source": [
    "import matplotlib.pyplot as plt\n",
    "plt.plot( range(1,200), results_test)\n",
    "plt.show()"
   ]
  },
  {
   "cell_type": "code",
   "execution_count": 60,
   "metadata": {},
   "outputs": [
    {
     "data": {
      "text/plain": [
       "0.6953382650542154"
      ]
     },
     "execution_count": 60,
     "metadata": {},
     "output_type": "execute_result"
    }
   ],
   "source": [
    "max(results_test)"
   ]
  },
  {
   "cell_type": "code",
   "execution_count": 64,
   "metadata": {},
   "outputs": [],
   "source": [
    "for n in range(1,200):\n",
    "    results_train.append(bagging(n, X_train, y_train, X_train, y_train))"
   ]
  },
  {
   "cell_type": "code",
   "execution_count": 66,
   "metadata": {},
   "outputs": [
    {
     "data": {
      "image/png": "[encoded data removed]",
      "text/plain": [
       "<Figure size 432x288 with 1 Axes>"
      ]
     },
     "metadata": {},
     "output_type": "display_data"
    }
   ],
   "source": [
    "plt.plot( range(1,200), results_train)\n",
    "plt.show()"
   ]
  },
  {
   "cell_type": "markdown",
   "metadata": {},
   "source": [
    "Se observa como los resultados para el entrenamiento son óptimos sobre los 25 árboles, no se obtienen resultados de 1 con menos pues la misma técnica altera los datos de entrada al utilizar bootstrap lo que modifica los datos de entrenamiento.\n",
    "\n",
    "En el caso no regularizado con el conjunto de test se obtienen mejores resultados que un solo árbol hasta 8 puntos de mejora en los resultados. Además es importante mencionar que esta técnica mejora sus resultados mientras mas variados son los datos por lo que no se observa overfiting.\n",
    "\n",
    "A continuación se realizan las mismas pruebas con entradas regularizadas."
   ]
  },
  {
   "cell_type": "code",
   "execution_count": 28,
   "metadata": {},
   "outputs": [],
   "source": [
    "results_test = list()\n",
    "results_train = list()\n",
    "X_train,X_test,y_train,y_test = train_test_split(df, y, test_size=0.20)\n",
    "std = StandardScaler()\n",
    "std.fit(X_train)\n",
    "X_train = std.transform(X_train)\n",
    "X_test = std.transform(X_test)\n",
    "\n",
    "for n in range(1,200):\n",
    "    results_test.append(bagging(n, X_train, y_train, X_test, y_test))\n"
   ]
  },
  {
   "cell_type": "code",
   "execution_count": 29,
   "metadata": {},
   "outputs": [
    {
     "data": {
      "image/png": "[encoded data removed]",
      "text/plain": [
       "<Figure size 432x288 with 1 Axes>"
      ]
     },
     "metadata": {},
     "output_type": "display_data"
    }
   ],
   "source": [
    "plt.plot( range(1,200), results_test)\n",
    "plt.show()"
   ]
  },
  {
   "cell_type": "code",
   "execution_count": 30,
   "metadata": {},
   "outputs": [
    {
     "data": {
      "text/plain": [
       "0.673550586329171"
      ]
     },
     "execution_count": 30,
     "metadata": {},
     "output_type": "execute_result"
    }
   ],
   "source": [
    "max(results_test)"
   ]
  },
  {
   "cell_type": "code",
   "execution_count": 69,
   "metadata": {},
   "outputs": [],
   "source": [
    "for n in range(1,200):\n",
    "    results_train.append(bagging(n, X_train, y_train, X_train, y_train))"
   ]
  },
  {
   "cell_type": "code",
   "execution_count": 70,
   "metadata": {},
   "outputs": [
    {
     "data": {
      "image/png": "[encoded data removed]",
      "text/plain": [
       "<Figure size 432x288 with 1 Axes>"
      ]
     },
     "metadata": {},
     "output_type": "display_data"
    }
   ],
   "source": [
    "plt.plot( range(1,200), results_train)\n",
    "plt.show()"
   ]
  },
  {
   "cell_type": "markdown",
   "metadata": {},
   "source": [
    "Se encuentran mejores resultados para el caso no regularizado, aunque no significativamente mejores, esto puede explicarse considerando que la variabiliadad de los datos es poca, es decir los rangos son bastante acotados, por lo tanto este ejemplo resulta poco útil para la implementación de bagging, que considera una alta varianza de los datos. Por esto los resultados obtenidos podrían mejorar o empeorar levemente implementando regularización, esto se adjudica a este conjunto de datos epecífico."
   ]
  },
  {
   "cell_type": "markdown",
   "metadata": {},
   "source": [
    "> e) Entrene un ensamblado de árboles de múltiples niveles, mediante la técnica de AdaBoost, compare el Árbol no regularizado con el regularizado (seteando los hiper-parámetros en base a lo experimentado anteriormente en c) ¿Se visualiza overfitting? ¿Qué técnica se utiliza, re-muestrear o pesar ejemplos? ¿Qué le parece más sensato?. Varíe la cantidad de árboles de decisión utilizados en el ensamblado (n estimators), realice un gráfico resumen del F1-score de entrenamiento y de pruebas en función de este hiper-parámetro. Compare y analice con la técnica utilizada en d)."
   ]
  },
  {
   "cell_type": "code",
   "execution_count": 6,
   "metadata": {},
   "outputs": [],
   "source": [
    "from sklearn.ensemble import AdaBoostClassifier\n",
    "\n",
    "def adaboost(n, X_train, y_train, X_test, y_test ):\n",
    "    model = AdaBoostClassifier(base_estimator=Tree(max_depth=None), n_estimators=n)\n",
    "    model.fit(X_train, y_train)\n",
    "    y_pred = model.predict(X_test)\n",
    "    return f1_score(y_test, y_pred, average ='weighted')"
   ]
  },
  {
   "cell_type": "markdown",
   "metadata": {},
   "source": [
    "En este caso se utiliza una técnica centrada en dar o quitar pesos a los a los ejemplos considerando si hubieron errores de clasificación, tambien cada clasificador tiene un peso asociado a un voto para clasificar un dato según su desempeño al entrenar. En este caso todos los clasificadores son árboles, la diferencia serán los pesos de los datos nuevo con los que se entrenan."
   ]
  },
  {
   "cell_type": "code",
   "execution_count": 11,
   "metadata": {},
   "outputs": [],
   "source": [
    "import warnings\n",
    "warnings.filterwarnings('ignore')\n",
    "\n",
    "results_test = list()\n",
    "results_train = list()\n",
    "X_train,X_test,y_train,y_test = train_test_split(df, y, test_size=0.20)\n",
    "\n",
    "for n in range(1,200):\n",
    "    results_test.append(adaboost(n, X_train, y_train, X_test, y_test))"
   ]
  },
  {
   "cell_type": "code",
   "execution_count": 12,
   "metadata": {},
   "outputs": [
    {
     "data": {
      "image/png": "[encoded data removed]",
      "text/plain": [
       "<Figure size 432x288 with 1 Axes>"
      ]
     },
     "metadata": {},
     "output_type": "display_data"
    }
   ],
   "source": [
    "import matplotlib.pyplot as plt\n",
    "plt.plot( range(1,200), results_test)\n",
    "plt.show()"
   ]
  },
  {
   "cell_type": "code",
   "execution_count": 13,
   "metadata": {},
   "outputs": [
    {
     "data": {
      "text/plain": [
       "0.6275499888582405"
      ]
     },
     "execution_count": 13,
     "metadata": {},
     "output_type": "execute_result"
    }
   ],
   "source": [
    "max(results_test)"
   ]
  },
  {
   "cell_type": "code",
   "execution_count": 19,
   "metadata": {},
   "outputs": [],
   "source": [
    "for n in range(1,200):\n",
    "    results_train.append(adaboost(n, X_train, y_train, X_train, y_train))"
   ]
  },
  {
   "cell_type": "code",
   "execution_count": 20,
   "metadata": {},
   "outputs": [
    {
     "data": {
      "image/png": "[encoded data removed]",
      "text/plain": [
       "<Figure size 432x288 with 1 Axes>"
      ]
     },
     "metadata": {},
     "output_type": "display_data"
    }
   ],
   "source": [
    "plt.plot( range(1,200), results_train)\n",
    "plt.show()"
   ]
  },
  {
   "cell_type": "markdown",
   "metadata": {},
   "source": [
    "Los resultados entregados en \"train\" son ideales, es decir se ajustan los learner a los datos de entrenamiento, no obstante tambien existen resultados positivos para \"test\" muy similares a los de boosting no regularizado, por lo que no hay overfiting.\n",
    "\n",
    "Se espera que los resultados no sean considerablemente mejores considerando que estamos ensamblando siempre el mismo árbol de clasificación, idealmente se usarían distintos learners con el fin de mejorar resultados guiandose por los votos del que tiene mejor desempeño.\n",
    "\n",
    "> A continuación probamos el caso regularizado de los datos con adaboost para ver si encontramos mejores resultados."
   ]
  },
  {
   "cell_type": "code",
   "execution_count": 14,
   "metadata": {},
   "outputs": [],
   "source": [
    "X_train,X_test,y_train,y_test = train_test_split(df, y, test_size=0.20)\n",
    "from sklearn.preprocessing import StandardScaler\n",
    "std = StandardScaler()\n",
    "std.fit(X_train)\n",
    "X_train = std.transform(X_train)\n",
    "X_test = std.transform(X_test)"
   ]
  },
  {
   "cell_type": "code",
   "execution_count": 15,
   "metadata": {},
   "outputs": [],
   "source": [
    "results_test = list()\n",
    "for n in range(1,200):\n",
    "    results_test.append(adaboost(n, X_train, y_train, X_test, y_test))"
   ]
  },
  {
   "cell_type": "code",
   "execution_count": 16,
   "metadata": {},
   "outputs": [
    {
     "data": {
      "image/png": "[encoded data removed]",
      "text/plain": [
       "<Figure size 432x288 with 1 Axes>"
      ]
     },
     "metadata": {},
     "output_type": "display_data"
    }
   ],
   "source": [
    "plt.plot( range(1,200), results_test)\n",
    "plt.show()"
   ]
  },
  {
   "cell_type": "code",
   "execution_count": 17,
   "metadata": {},
   "outputs": [
    {
     "data": {
      "text/plain": [
       "0.6408317930791924"
      ]
     },
     "execution_count": 17,
     "metadata": {},
     "output_type": "execute_result"
    }
   ],
   "source": [
    "max(results_test)"
   ]
  },
  {
   "cell_type": "markdown",
   "metadata": {},
   "source": [
    "Los resultados para el caso regularizado son muy similares independiente de la cantidad de árboles que se usan, en este caso la regularización no mejoró los resultados, aunque entregan una respuesta no demasiado mala y poco variable."
   ]
  },
  {
   "cell_type": "markdown",
   "metadata": {},
   "source": [
    "> f) Pruebe otra técnica de ensamblado dedicada a árboles de decisión, que combina el muestreo boostrap de Bagging con muestreo sobre las features: Random Forest, compare el Árbol no regularizado con el regularizado ¿Se visualiza overfitting?. Varíe la cantidad de árboles de decisión utilizados en el ensamblado (n estimators), realice un gráfico resumen el F1-score de entrenamiento y de pruebas en función de este hiper-parámetro."
   ]
  },
  {
   "cell_type": "markdown",
   "metadata": {},
   "source": [
    "Creamos la función random forest para n árboles, y seteamos la profundidad máxima como 1, es decir hasta que quede una hoja o dato en el nivel.\n",
    "\n",
    "La característica principal de random forest es que busca obtener mejores resultados variando las dimensiones cuando esta generando split distintos y aumentando el número de árboles."
   ]
  },
  {
   "cell_type": "code",
   "execution_count": 18,
   "metadata": {},
   "outputs": [],
   "source": [
    "from sklearn.ensemble import RandomForestClassifier\n",
    "\n",
    "def random_forest(n, X_train, y_train, X_test, y_test ):\n",
    "    model = RandomForestClassifier(n_estimators=n, max_depth=None,n_jobs=-1)\n",
    "    model.fit(X_train, y_train)\n",
    "    y_pred = model.predict(X_test)\n",
    "    return f1_score(y_test, y_pred, average ='weighted')\n"
   ]
  },
  {
   "cell_type": "code",
   "execution_count": 19,
   "metadata": {},
   "outputs": [],
   "source": [
    "results_test = list()\n",
    "results_train = list()\n",
    "X_train,X_test,y_train,y_test = train_test_split(df, y, test_size=0.20)\n",
    "\n",
    "for n in range(1,200):\n",
    "    results_test.append(random_forest(n, X_train, y_train, X_test, y_test))"
   ]
  },
  {
   "cell_type": "code",
   "execution_count": 21,
   "metadata": {},
   "outputs": [
    {
     "data": {
      "image/png": "[encoded data removed]",
      "text/plain": [
       "<Figure size 432x288 with 1 Axes>"
      ]
     },
     "metadata": {},
     "output_type": "display_data"
    }
   ],
   "source": [
    "plt.plot( range(1,200), results_test)\n",
    "plt.show()"
   ]
  },
  {
   "cell_type": "code",
   "execution_count": 20,
   "metadata": {},
   "outputs": [
    {
     "data": {
      "text/plain": [
       "0.6871535044967995"
      ]
     },
     "execution_count": 20,
     "metadata": {},
     "output_type": "execute_result"
    }
   ],
   "source": [
    "max(results_test)"
   ]
  },
  {
   "cell_type": "code",
   "execution_count": 13,
   "metadata": {},
   "outputs": [
    {
     "data": {
      "image/png": "[encoded data removed]",
      "text/plain": [
       "<Figure size 432x288 with 1 Axes>"
      ]
     },
     "metadata": {},
     "output_type": "display_data"
    }
   ],
   "source": [
    "for n in range(1,200):\n",
    "    results_train.append(random_forest(n, X_train, y_train, X_train, y_train))\n",
    "plt.plot( range(1,200), results_train)\n",
    "plt.show()"
   ]
  },
  {
   "cell_type": "markdown",
   "metadata": {},
   "source": [
    "Se obtienen buenos resultados para random forest, aunque no son significativamente mejores que en las técnicas anteriores, esto puede explicarse con el hecho que la cantidad de varables son solo 11 por lo que los árboles que se construyen son poco variados. Para entrenamientos se obtienen resultados óptimos sobre los 20 árboles."
   ]
  },
  {
   "cell_type": "markdown",
   "metadata": {},
   "source": [
    "> A continuación veremos el caso regularizado de random forest"
   ]
  },
  {
   "cell_type": "code",
   "execution_count": 22,
   "metadata": {},
   "outputs": [],
   "source": [
    "from sklearn.preprocessing import StandardScaler\n",
    "std = StandardScaler()\n",
    "std.fit(X_train)\n",
    "X_train = std.transform(X_train)\n",
    "X_test = std.transform(X_test)"
   ]
  },
  {
   "cell_type": "code",
   "execution_count": 23,
   "metadata": {},
   "outputs": [
    {
     "data": {
      "image/png": "[encoded data removed]",
      "text/plain": [
       "<Figure size 432x288 with 1 Axes>"
      ]
     },
     "metadata": {},
     "output_type": "display_data"
    }
   ],
   "source": [
    "results_test = list()\n",
    "for n in range(1,200):\n",
    "    results_test.append(random_forest(n, X_train, y_train, X_test, y_test))\n",
    "plt.plot( range(1,200), results_test)\n",
    "plt.show()"
   ]
  },
  {
   "cell_type": "code",
   "execution_count": 25,
   "metadata": {},
   "outputs": [
    {
     "data": {
      "text/plain": [
       "0.6850631136072399"
      ]
     },
     "execution_count": 25,
     "metadata": {},
     "output_type": "execute_result"
    }
   ],
   "source": [
    "max(results_test)"
   ]
  },
  {
   "cell_type": "code",
   "execution_count": 18,
   "metadata": {},
   "outputs": [
    {
     "data": {
      "image/png": "[encoded data removed]",
      "text/plain": [
       "<Figure size 432x288 with 1 Axes>"
      ]
     },
     "metadata": {},
     "output_type": "display_data"
    }
   ],
   "source": [
    "results_train = list()\n",
    "for n in range(1,200):\n",
    "    results_train.append(random_forest(n, X_train, y_train, X_train, y_train))\n",
    "plt.plot( range(1,200), results_train)\n",
    "plt.show()"
   ]
  },
  {
   "cell_type": "markdown",
   "metadata": {},
   "source": [
    "En el caso regularizado de random forest no se encuentran resultados significativamente mejores que en las técnicas anteriores, otra vez esta técnica depende de la convarianza de las características y no de la escala de los datos."
   ]
  },
  {
   "cell_type": "markdown",
   "metadata": {},
   "source": [
    "> g) Verifique que el OOB error (out of bag error) de los ensambladores que utilizan la técnica boostrap puede ser una alternativa como métrica de generalización, compárelo con el error calculado sobre el conjunto de pruebas y validación (o en su defecto cross validation)."
   ]
  },
  {
   "cell_type": "markdown",
   "metadata": {},
   "source": [
    "Como mencionamos inicialemente no trabajamos con un conjunto de validación dada la cantidad de datos, por lo que se omiten estos resultados, a continuación se  utiliza OOB sobre el modelo random forest ajustado a los datos de entrenamiento."
   ]
  },
  {
   "cell_type": "code",
   "execution_count": 25,
   "metadata": {},
   "outputs": [
    {
     "name": "stdout",
     "output_type": "stream",
     "text": [
      "OOB error:  0\n",
      "Test error:  0.2992307692307692\n"
     ]
    }
   ],
   "source": [
    "X_train,X_test,y_train,y_test = train_test_split(df, y, test_size=0.20)\n",
    "\n",
    "from sklearn.ensemble import RandomForestClassifier\n",
    "model = RandomForestClassifier(n_estimators=150, max_depth=None,n_jobs=-1, oob_score=True)\n",
    "model.fit(X_train, y_train)\n",
    "oob_error = 1 - model.oob_score\n",
    "test_error = 1- model.score(X_test,y_test)\n",
    "#val_error = 1- model.score(X_val,y_val)\n",
    "print(\"OOB error: \",oob_error)\n",
    "#print (\"Val error: \",val_error)\n",
    "print(\"Test error: \",test_error)"
   ]
  },
  {
   "cell_type": "markdown",
   "metadata": {},
   "source": [
    "Se oserva que los resultados para oob son muy buenos con un error de 0, mientras que la predicción normal arroja hasta un %30 de error sobre el conjunto de pruebas."
   ]
  },
  {
   "cell_type": "markdown",
   "metadata": {},
   "source": [
    "> h) Entrene alguna otra máquina de aprendizaje, elegida por usted de entre todas las vistas en el curso, para resolver el problema. Elija los hiper-parámetros que estime convenientes intentando aumentar el F1-score obtenido por los algoritmos anteriores ¿Se logra una mejora? ¿Por qué?"
   ]
  },
  {
   "cell_type": "markdown",
   "metadata": {},
   "source": [
    "Intentamos encontrar mejores resultados con una máquina SVM extendida a múltiples clases, variamos el hiperparámetro \"C\" con el fin de mejorar resultados."
   ]
  },
  {
   "cell_type": "code",
   "execution_count": 31,
   "metadata": {},
   "outputs": [],
   "source": [
    "from sklearn.svm import SVC as SVM #SVC is for classification\n",
    "from sklearn.multiclass import OneVsRestClassifier\n",
    "from sklearn.metrics import f1_score\n",
    "\n",
    "def svm( C, X_train, y_train, X_test, y_test ):\n",
    "    model = SVM()\n",
    "    model.set_params( C=C, kernel='rbf' )\n",
    "    meta_model = OneVsRestClassifier( model )\n",
    "    meta_model.fit( X_train, y_train )\n",
    "    y_pred = meta_model.predict( X_test )\n",
    "    return f1_score(y_test, y_pred, average ='weighted')\n"
   ]
  },
  {
   "cell_type": "code",
   "execution_count": 32,
   "metadata": {},
   "outputs": [],
   "source": [
    "results = list()\n",
    "cs = [0.001, 0.01, 0.1, 1, 10, 100, 1000, 10000, 100000]\n",
    "\n",
    "X_train,X_test,y_train,y_test = train_test_split(df, y, test_size=0.20)\n",
    "std = StandardScaler()\n",
    "std.fit(X_train)\n",
    "X_train = std.transform(X_train)\n",
    "X_test = std.transform(X_test)\n",
    "\n",
    "for c in cs:\n",
    "    results.append( svm(c, X_train, y_train, X_test, y_test) )"
   ]
  },
  {
   "cell_type": "code",
   "execution_count": 33,
   "metadata": {},
   "outputs": [
    {
     "data": {
      "image/png": "[encoded data removed]",
      "text/plain": [
       "<Figure size 432x288 with 1 Axes>"
      ]
     },
     "metadata": {},
     "output_type": "display_data"
    }
   ],
   "source": [
    "plt.plot( [\"0.001\", \"0.01\", \"0.1\", \"1\", \"10\", \"100\", \"1000\", \"10000\",\"100000\"], results)\n",
    "\n",
    "plt.show()"
   ]
  },
  {
   "cell_type": "code",
   "execution_count": 34,
   "metadata": {},
   "outputs": [
    {
     "data": {
      "text/plain": [
       "0.6273438213333417"
      ]
     },
     "execution_count": 34,
     "metadata": {},
     "output_type": "execute_result"
    }
   ],
   "source": [
    "max(results)"
   ]
  },
  {
   "cell_type": "markdown",
   "metadata": {},
   "source": [
    "Como resultado los valores entregadosn son iguales para c grandes e inferiores en los primeros C, y ninguno de ellos logra superar  ninguna de las técnicas de ensamblado."
   ]
  },
  {
   "cell_type": "markdown",
   "metadata": {},
   "source": [
    "> i) Compare y analice las distintas maneras con las que se resolvió el problema definido en b), por ejemplo incluya las decisiones que conlleva y los resultados que reflejan."
   ]
  },
  {
   "cell_type": "markdown",
   "metadata": {},
   "source": [
    "Como conclusion común para todas las técnicas se demuestra que los resultados mejoran considerablemente cuando se existe un \"consenso\" entre las máquinas sobre cuál es la clase de un dato, es análogo a pensar que muchas máquina piensan mejor que una. \n",
    "Ahora bien las principales decisiones que se deben tomar son, regularizar o no los datos de entrada, aunque las técnicas de boosting dependen de la varianza de estos, no se asegura que los resultados sean peores por regularizar, esto dependera del ejemplo. Es importante comprobar si la técnica produce  o no overfiting y nos encontramos con que aunque estas máquinas procesan una y otra vez los mismos datos, no se genera overfiting sino todo lo contrario, se mejorar los resultados para las pruebas.\n",
    "\n",
    "Como resultado mostramos los máximos valores encontrados al variar la cantidad de máquinas en las 3 técnicas de ensamblado utilizadas con la métrica F-score:\n",
    "\n",
    "          Bagging no regularizado: 0.6953382650542154                  Bagging regularizado: 0.6850631136072399\n",
    "         Adaboost no regularizado: 0.6275499888582405                 Adaboost regularizado: 0.6408317930791924\n",
    "    Random forest no regularizado: 0.6871535044967995            Random forest regularizado: 0.6850631136072399\n",
    "    \n",
    "El mejor fue bagging no regularizado, lo que tiene sentido ya que existe una vaierdad esperable de datos, adaboost entrena secuencialmente el mismo modelo que tiene un alcance limitado, por otro lado aunque random forest entrega buenos resultados, estos no son mejores considerando la poca variabilidad de la cantidad de características."
   ]
  },
  {
   "cell_type": "markdown",
   "metadata": {},
   "source": [
    "<a id=\"segundo\"></a>\n",
    "## 2. Redes Convolucionales sobre imágenes\n",
    "---\n",
    "Las redes neuronales hoy en día han sido extendidas a numerosas aplicaciones gracias a la arquitectura definida para cada tipo de problema. Las redes neuronales que aplican la operación de convolución [[3]](#refs) o convoluciones en sus capas son concidas como *CNN* o *ConvNets*, lo cual se especializa en trabajar en datos con forma matricial (ya sea bi-dimensional o tri-dimensional), lo cual se adecúa perfectamente a imágenes (matrices), ya que gracias a su conectividad local se especializan en reconocer patrones sobre los datos de manera espacial, como refleja la siguiente imagen:\n",
    "\n",
    "<img src=\"https://cdn-images-1.medium.com/max/1600/1*N4h1SgwbWNmtrRhszM9EJg.png\" title=\"Title text\" width=\"90%\" />\n",
    "\n",
    "\n",
    "En esta actividad trabajará con un extracto bastante pequeño del dataset conocido como **101-Food**[[4]](#refs), el cual consta de mil imágenes pertenecientes a 3 clases (*Hambuger, Hot Dog* y *Pizza*) separados en conjunto de entrenamiento y validación.  \n",
    "El extracto pequeño del dataset con el que se trabajará deberá ser descargado del siguiente __[link](https://www.dropbox.com/s/56xqazmhbh0doi7/food_data.zip?dl=0)__ a través de Dropbox."
   ]
  },
  {
   "cell_type": "markdown",
   "metadata": {},
   "source": [
    "> a) Construya funciones para leer los datos y cargarlos al momento de entrenar (durante cada *epoch*), para ésto utilice *Image Data Generator* de keras.\n",
    "```python\n",
    "from keras.preprocessing.image import ImageDataGenerator\n",
    "train_datagen = ImageDataGenerator(\n",
    "        rescale=1./255,\n",
    "        shear_range=0.2,\n",
    "        zoom_range=0.2,\n",
    "        horizontal_flip=True)\n",
    "test_datagen = ImageDataGenerator(rescale=1./255) #no transformation\n",
    "train_generator = train_datagen.flow_from_directory(\n",
    "        'food_data/train',\n",
    "        target_size=(150, 150),\n",
    "        color_mode='rgb',\n",
    "        batch_size=32)\n",
    "validation_generator = test_datagen.flow_from_directory(\n",
    "        'food_data/val',\n",
    "        target_size=(150, 150),\n",
    "        color_mode='rgb',\n",
    "        batch_size=32)\n",
    "```"
   ]
  },
  {
   "cell_type": "code",
   "execution_count": 1,
   "metadata": {},
   "outputs": [
    {
     "name": "stderr",
     "output_type": "stream",
     "text": [
      "C:\\Users\\Palomo\\Anaconda3\\envs\\py36\\lib\\site-packages\\h5py\\__init__.py:36: FutureWarning: Conversion of the second argument of issubdtype from `float` to `np.floating` is deprecated. In future, it will be treated as `np.float64 == np.dtype(float).type`.\n",
      "  from ._conv import register_converters as _register_converters\n",
      "Using TensorFlow backend.\n"
     ]
    },
    {
     "name": "stdout",
     "output_type": "stream",
     "text": [
      "Found 2400 images belonging to 3 classes.\n",
      "Found 600 images belonging to 3 classes.\n"
     ]
    }
   ],
   "source": [
    "from keras.preprocessing.image import ImageDataGenerator\n",
    "train_datagen = ImageDataGenerator(\n",
    "        rescale=1./255,\n",
    "        shear_range=0.2,\n",
    "        zoom_range=0.2,\n",
    "        horizontal_flip=True)\n",
    "test_datagen = ImageDataGenerator(rescale=1./255) #no transformation\n",
    "train_generator = train_datagen.flow_from_directory(\n",
    "        'food_data/train',\n",
    "        target_size=(150, 150),\n",
    "        color_mode='rgb',\n",
    "        batch_size=32)\n",
    "validation_generator = test_datagen.flow_from_directory(\n",
    "        'food_data/val',\n",
    "        target_size=(150, 150),\n",
    "        color_mode='rgb',\n",
    "        batch_size=32)"
   ]
  },
  {
   "cell_type": "markdown",
   "metadata": {},
   "source": [
    "Los datos se guardan en la forma de tuplas (x,y), donde x contiene la información de la foto (pixeles, en este caso las fotos son reducidas a 150x150 pixeles de 3 canales, es decir RGB) e y contiene el label apropiado, para este caso y tiene tres labels (clases): \"hamburger\", \"hot_dog\" y \"pizza\". En el dataset original hay imágenes que contienen cierta cantidad de ruido, es decir hay algunos pixeles con colores mas intensos o imágenes mal clasificadas. Al mirar el dataset hot_dog reducido se encuentra una imagen que es solo una persona sin contener ningún tipo de comida, por lo que se asume que los dataset reducidos tambien tienen cierta cantidad de ruido. "
   ]
  },
  {
   "cell_type": "markdown",
   "metadata": {},
   "source": [
    "> b) Utilice la red tradicional (*Feed Forward*) entregada en el código para ser entrenada sobre los datos vectorizados, esto es que cada imagen queda representada como un vector gigante, y las 3 clases a las que se enfrenta. Evalúe el modelo con la métrica *accuracy* sobre el conjunto de validación.\n",
    "```python\n",
    "from keras.models import Sequential\n",
    "from keras.layers import *\n",
    "model = Sequential()\n",
    "model.add(Flatten(input_shape=train_generator.image_shape)) #full dense\n",
    "model.add(BatchNormalization()) #to normalize the input..\n",
    "model.add(Dense(256,activation='relu'))\n",
    "model.add(Dropout(0.25))\n",
    "model.add(Dense(128,activation='relu')) #128\n",
    "model.add(Dropout(0.25))\n",
    "model.add(Dense(3,activation='softmax'))\n",
    "model.compile(loss='categorical_crossentropy', optimizer='rmsprop', metrics=['accuracy']) # Let's train the model using RMSprop\n",
    "model.summary()\n",
    "model.fit_generator(\n",
    "        train_generator,\n",
    "        steps_per_epoch=len(train_generator.classes)//train_generator.batch_size, #samples//batch_size\n",
    "        epochs=25,\n",
    "        validation_data=validation_generator,\n",
    "        validation_steps=len(validation_generator.classes)//validation_generator.batch_size)\n",
    "print(\"Accuracy validation: \",model.evaluate_generator(generator=validation_generator)[1])\n",
    "```"
   ]
  },
  {
   "cell_type": "code",
   "execution_count": 3,
   "metadata": {
    "scrolled": true
   },
   "outputs": [
    {
     "name": "stdout",
     "output_type": "stream",
     "text": [
      "_________________________________________________________________\n",
      "Layer (type)                 Output Shape              Param #   \n",
      "=================================================================\n",
      "flatten_1 (Flatten)          (None, 67500)             0         \n",
      "_________________________________________________________________\n",
      "batch_normalization_1 (Batch (None, 67500)             270000    \n",
      "_________________________________________________________________\n",
      "dense_1 (Dense)              (None, 256)               17280256  \n",
      "_________________________________________________________________\n",
      "dropout_1 (Dropout)          (None, 256)               0         \n",
      "_________________________________________________________________\n",
      "dense_2 (Dense)              (None, 128)               32896     \n",
      "_________________________________________________________________\n",
      "dropout_2 (Dropout)          (None, 128)               0         \n",
      "_________________________________________________________________\n",
      "dense_3 (Dense)              (None, 3)                 387       \n",
      "=================================================================\n",
      "Total params: 17,583,539\n",
      "Trainable params: 17,448,539\n",
      "Non-trainable params: 135,000\n",
      "_________________________________________________________________\n",
      "Epoch 1/25\n",
      "75/75 [==============================] - 74s 986ms/step - loss: 9.6819 - acc: 0.3717 - val_loss: 9.0122 - val_acc: 0.4288\n",
      "Epoch 2/25\n",
      "75/75 [==============================] - 55s 739ms/step - loss: 9.4947 - acc: 0.4017 - val_loss: 9.7201 - val_acc: 0.3926\n",
      "Epoch 3/25\n",
      "75/75 [==============================] - 55s 728ms/step - loss: 8.7252 - acc: 0.4537 - val_loss: 9.0487 - val_acc: 0.4331\n",
      "Epoch 4/25\n",
      "75/75 [==============================] - 54s 725ms/step - loss: 8.9262 - acc: 0.4392 - val_loss: 10.0771 - val_acc: 0.3732\n",
      "Epoch 5/25\n",
      "36/75 [=============>................] - ETA: 27s - loss: 9.2417 - acc: 0.4236"
     ]
    },
    {
     "ename": "KeyboardInterrupt",
     "evalue": "",
     "output_type": "error",
     "traceback": [
      "\u001b[1;31m---------------------------------------------------------------------------\u001b[0m",
      "\u001b[1;31mKeyboardInterrupt\u001b[0m                         Traceback (most recent call last)",
      "\u001b[1;32m<ipython-input-3-6cc90452b32c>\u001b[0m in \u001b[0;36m<module>\u001b[1;34m()\u001b[0m\n\u001b[0;32m     16\u001b[0m         \u001b[0mepochs\u001b[0m\u001b[1;33m=\u001b[0m\u001b[1;36m25\u001b[0m\u001b[1;33m,\u001b[0m\u001b[1;33m\u001b[0m\u001b[0m\n\u001b[0;32m     17\u001b[0m         \u001b[0mvalidation_data\u001b[0m\u001b[1;33m=\u001b[0m\u001b[0mvalidation_generator\u001b[0m\u001b[1;33m,\u001b[0m\u001b[1;33m\u001b[0m\u001b[0m\n\u001b[1;32m---> 18\u001b[1;33m         validation_steps=len(validation_generator.classes)//validation_generator.batch_size)\n\u001b[0m\u001b[0;32m     19\u001b[0m \u001b[0mprint\u001b[0m\u001b[1;33m(\u001b[0m\u001b[1;34m\"Accuracy validation: \"\u001b[0m\u001b[1;33m,\u001b[0m\u001b[0mmodel\u001b[0m\u001b[1;33m.\u001b[0m\u001b[0mevaluate_generator\u001b[0m\u001b[1;33m(\u001b[0m\u001b[0mgenerator\u001b[0m\u001b[1;33m=\u001b[0m\u001b[0mvalidation_generator\u001b[0m\u001b[1;33m,\u001b[0m \u001b[0msteps\u001b[0m \u001b[1;33m=\u001b[0m \u001b[0mlen\u001b[0m\u001b[1;33m(\u001b[0m\u001b[0mvalidation_generator\u001b[0m\u001b[1;33m.\u001b[0m\u001b[0mclasses\u001b[0m\u001b[1;33m)\u001b[0m\u001b[1;33m//\u001b[0m\u001b[0mvalidation_generator\u001b[0m\u001b[1;33m.\u001b[0m\u001b[0mbatch_size\u001b[0m\u001b[1;33m)\u001b[0m\u001b[1;33m[\u001b[0m\u001b[1;36m1\u001b[0m\u001b[1;33m]\u001b[0m\u001b[1;33m)\u001b[0m\u001b[1;33m\u001b[0m\u001b[0m\n",
      "\u001b[1;32m~\\Anaconda3\\envs\\py36\\lib\\site-packages\\keras\\legacy\\interfaces.py\u001b[0m in \u001b[0;36mwrapper\u001b[1;34m(*args, **kwargs)\u001b[0m\n\u001b[0;32m     89\u001b[0m                 warnings.warn('Update your `' + object_name + '` call to the ' +\n\u001b[0;32m     90\u001b[0m                               'Keras 2 API: ' + signature, stacklevel=2)\n\u001b[1;32m---> 91\u001b[1;33m             \u001b[1;32mreturn\u001b[0m \u001b[0mfunc\u001b[0m\u001b[1;33m(\u001b[0m\u001b[1;33m*\u001b[0m\u001b[0margs\u001b[0m\u001b[1;33m,\u001b[0m \u001b[1;33m**\u001b[0m\u001b[0mkwargs\u001b[0m\u001b[1;33m)\u001b[0m\u001b[1;33m\u001b[0m\u001b[0m\n\u001b[0m\u001b[0;32m     92\u001b[0m         \u001b[0mwrapper\u001b[0m\u001b[1;33m.\u001b[0m\u001b[0m_original_function\u001b[0m \u001b[1;33m=\u001b[0m \u001b[0mfunc\u001b[0m\u001b[1;33m\u001b[0m\u001b[0m\n\u001b[0;32m     93\u001b[0m         \u001b[1;32mreturn\u001b[0m \u001b[0mwrapper\u001b[0m\u001b[1;33m\u001b[0m\u001b[0m\n",
      "\u001b[1;32m~\\Anaconda3\\envs\\py36\\lib\\site-packages\\keras\\engine\\training.py\u001b[0m in \u001b[0;36mfit_generator\u001b[1;34m(self, generator, steps_per_epoch, epochs, verbose, callbacks, validation_data, validation_steps, class_weight, max_queue_size, workers, use_multiprocessing, shuffle, initial_epoch)\u001b[0m\n\u001b[0;32m   1416\u001b[0m             \u001b[0muse_multiprocessing\u001b[0m\u001b[1;33m=\u001b[0m\u001b[0muse_multiprocessing\u001b[0m\u001b[1;33m,\u001b[0m\u001b[1;33m\u001b[0m\u001b[0m\n\u001b[0;32m   1417\u001b[0m             \u001b[0mshuffle\u001b[0m\u001b[1;33m=\u001b[0m\u001b[0mshuffle\u001b[0m\u001b[1;33m,\u001b[0m\u001b[1;33m\u001b[0m\u001b[0m\n\u001b[1;32m-> 1418\u001b[1;33m             initial_epoch=initial_epoch)\n\u001b[0m\u001b[0;32m   1419\u001b[0m \u001b[1;33m\u001b[0m\u001b[0m\n\u001b[0;32m   1420\u001b[0m     \u001b[1;33m@\u001b[0m\u001b[0minterfaces\u001b[0m\u001b[1;33m.\u001b[0m\u001b[0mlegacy_generator_methods_support\u001b[0m\u001b[1;33m\u001b[0m\u001b[0m\n",
      "\u001b[1;32m~\\Anaconda3\\envs\\py36\\lib\\site-packages\\keras\\engine\\training_generator.py\u001b[0m in \u001b[0;36mfit_generator\u001b[1;34m(model, generator, steps_per_epoch, epochs, verbose, callbacks, validation_data, validation_steps, class_weight, max_queue_size, workers, use_multiprocessing, shuffle, initial_epoch)\u001b[0m\n\u001b[0;32m    215\u001b[0m                 outs = model.train_on_batch(x, y,\n\u001b[0;32m    216\u001b[0m                                             \u001b[0msample_weight\u001b[0m\u001b[1;33m=\u001b[0m\u001b[0msample_weight\u001b[0m\u001b[1;33m,\u001b[0m\u001b[1;33m\u001b[0m\u001b[0m\n\u001b[1;32m--> 217\u001b[1;33m                                             class_weight=class_weight)\n\u001b[0m\u001b[0;32m    218\u001b[0m \u001b[1;33m\u001b[0m\u001b[0m\n\u001b[0;32m    219\u001b[0m                 \u001b[0mouts\u001b[0m \u001b[1;33m=\u001b[0m \u001b[0mto_list\u001b[0m\u001b[1;33m(\u001b[0m\u001b[0mouts\u001b[0m\u001b[1;33m)\u001b[0m\u001b[1;33m\u001b[0m\u001b[0m\n",
      "\u001b[1;32m~\\Anaconda3\\envs\\py36\\lib\\site-packages\\keras\\engine\\training.py\u001b[0m in \u001b[0;36mtrain_on_batch\u001b[1;34m(self, x, y, sample_weight, class_weight)\u001b[0m\n\u001b[0;32m   1215\u001b[0m             \u001b[0mins\u001b[0m \u001b[1;33m=\u001b[0m \u001b[0mx\u001b[0m \u001b[1;33m+\u001b[0m \u001b[0my\u001b[0m \u001b[1;33m+\u001b[0m \u001b[0msample_weights\u001b[0m\u001b[1;33m\u001b[0m\u001b[0m\n\u001b[0;32m   1216\u001b[0m         \u001b[0mself\u001b[0m\u001b[1;33m.\u001b[0m\u001b[0m_make_train_function\u001b[0m\u001b[1;33m(\u001b[0m\u001b[1;33m)\u001b[0m\u001b[1;33m\u001b[0m\u001b[0m\n\u001b[1;32m-> 1217\u001b[1;33m         \u001b[0moutputs\u001b[0m \u001b[1;33m=\u001b[0m \u001b[0mself\u001b[0m\u001b[1;33m.\u001b[0m\u001b[0mtrain_function\u001b[0m\u001b[1;33m(\u001b[0m\u001b[0mins\u001b[0m\u001b[1;33m)\u001b[0m\u001b[1;33m\u001b[0m\u001b[0m\n\u001b[0m\u001b[0;32m   1218\u001b[0m         \u001b[1;32mreturn\u001b[0m \u001b[0munpack_singleton\u001b[0m\u001b[1;33m(\u001b[0m\u001b[0moutputs\u001b[0m\u001b[1;33m)\u001b[0m\u001b[1;33m\u001b[0m\u001b[0m\n\u001b[0;32m   1219\u001b[0m \u001b[1;33m\u001b[0m\u001b[0m\n",
      "\u001b[1;32m~\\Anaconda3\\envs\\py36\\lib\\site-packages\\keras\\backend\\tensorflow_backend.py\u001b[0m in \u001b[0;36m__call__\u001b[1;34m(self, inputs)\u001b[0m\n\u001b[0;32m   2713\u001b[0m                 \u001b[1;32mreturn\u001b[0m \u001b[0mself\u001b[0m\u001b[1;33m.\u001b[0m\u001b[0m_legacy_call\u001b[0m\u001b[1;33m(\u001b[0m\u001b[0minputs\u001b[0m\u001b[1;33m)\u001b[0m\u001b[1;33m\u001b[0m\u001b[0m\n\u001b[0;32m   2714\u001b[0m \u001b[1;33m\u001b[0m\u001b[0m\n\u001b[1;32m-> 2715\u001b[1;33m             \u001b[1;32mreturn\u001b[0m \u001b[0mself\u001b[0m\u001b[1;33m.\u001b[0m\u001b[0m_call\u001b[0m\u001b[1;33m(\u001b[0m\u001b[0minputs\u001b[0m\u001b[1;33m)\u001b[0m\u001b[1;33m\u001b[0m\u001b[0m\n\u001b[0m\u001b[0;32m   2716\u001b[0m         \u001b[1;32melse\u001b[0m\u001b[1;33m:\u001b[0m\u001b[1;33m\u001b[0m\u001b[0m\n\u001b[0;32m   2717\u001b[0m             \u001b[1;32mif\u001b[0m \u001b[0mpy_any\u001b[0m\u001b[1;33m(\u001b[0m\u001b[0mis_tensor\u001b[0m\u001b[1;33m(\u001b[0m\u001b[0mx\u001b[0m\u001b[1;33m)\u001b[0m \u001b[1;32mfor\u001b[0m \u001b[0mx\u001b[0m \u001b[1;32min\u001b[0m \u001b[0minputs\u001b[0m\u001b[1;33m)\u001b[0m\u001b[1;33m:\u001b[0m\u001b[1;33m\u001b[0m\u001b[0m\n",
      "\u001b[1;32m~\\Anaconda3\\envs\\py36\\lib\\site-packages\\keras\\backend\\tensorflow_backend.py\u001b[0m in \u001b[0;36m_call\u001b[1;34m(self, inputs)\u001b[0m\n\u001b[0;32m   2673\u001b[0m             \u001b[0mfetched\u001b[0m \u001b[1;33m=\u001b[0m \u001b[0mself\u001b[0m\u001b[1;33m.\u001b[0m\u001b[0m_callable_fn\u001b[0m\u001b[1;33m(\u001b[0m\u001b[1;33m*\u001b[0m\u001b[0marray_vals\u001b[0m\u001b[1;33m,\u001b[0m \u001b[0mrun_metadata\u001b[0m\u001b[1;33m=\u001b[0m\u001b[0mself\u001b[0m\u001b[1;33m.\u001b[0m\u001b[0mrun_metadata\u001b[0m\u001b[1;33m)\u001b[0m\u001b[1;33m\u001b[0m\u001b[0m\n\u001b[0;32m   2674\u001b[0m         \u001b[1;32melse\u001b[0m\u001b[1;33m:\u001b[0m\u001b[1;33m\u001b[0m\u001b[0m\n\u001b[1;32m-> 2675\u001b[1;33m             \u001b[0mfetched\u001b[0m \u001b[1;33m=\u001b[0m \u001b[0mself\u001b[0m\u001b[1;33m.\u001b[0m\u001b[0m_callable_fn\u001b[0m\u001b[1;33m(\u001b[0m\u001b[1;33m*\u001b[0m\u001b[0marray_vals\u001b[0m\u001b[1;33m)\u001b[0m\u001b[1;33m\u001b[0m\u001b[0m\n\u001b[0m\u001b[0;32m   2676\u001b[0m         \u001b[1;32mreturn\u001b[0m \u001b[0mfetched\u001b[0m\u001b[1;33m[\u001b[0m\u001b[1;33m:\u001b[0m\u001b[0mlen\u001b[0m\u001b[1;33m(\u001b[0m\u001b[0mself\u001b[0m\u001b[1;33m.\u001b[0m\u001b[0moutputs\u001b[0m\u001b[1;33m)\u001b[0m\u001b[1;33m]\u001b[0m\u001b[1;33m\u001b[0m\u001b[0m\n\u001b[0;32m   2677\u001b[0m \u001b[1;33m\u001b[0m\u001b[0m\n",
      "\u001b[1;32m~\\Anaconda3\\envs\\py36\\lib\\site-packages\\tensorflow\\python\\client\\session.py\u001b[0m in \u001b[0;36m__call__\u001b[1;34m(self, *args, **kwargs)\u001b[0m\n\u001b[0;32m   1437\u001b[0m           ret = tf_session.TF_SessionRunCallable(\n\u001b[0;32m   1438\u001b[0m               \u001b[0mself\u001b[0m\u001b[1;33m.\u001b[0m\u001b[0m_session\u001b[0m\u001b[1;33m.\u001b[0m\u001b[0m_session\u001b[0m\u001b[1;33m,\u001b[0m \u001b[0mself\u001b[0m\u001b[1;33m.\u001b[0m\u001b[0m_handle\u001b[0m\u001b[1;33m,\u001b[0m \u001b[0margs\u001b[0m\u001b[1;33m,\u001b[0m \u001b[0mstatus\u001b[0m\u001b[1;33m,\u001b[0m\u001b[1;33m\u001b[0m\u001b[0m\n\u001b[1;32m-> 1439\u001b[1;33m               run_metadata_ptr)\n\u001b[0m\u001b[0;32m   1440\u001b[0m         \u001b[1;32mif\u001b[0m \u001b[0mrun_metadata\u001b[0m\u001b[1;33m:\u001b[0m\u001b[1;33m\u001b[0m\u001b[0m\n\u001b[0;32m   1441\u001b[0m           \u001b[0mproto_data\u001b[0m \u001b[1;33m=\u001b[0m \u001b[0mtf_session\u001b[0m\u001b[1;33m.\u001b[0m\u001b[0mTF_GetBuffer\u001b[0m\u001b[1;33m(\u001b[0m\u001b[0mrun_metadata_ptr\u001b[0m\u001b[1;33m)\u001b[0m\u001b[1;33m\u001b[0m\u001b[0m\n",
      "\u001b[1;31mKeyboardInterrupt\u001b[0m: "
     ]
    }
   ],
   "source": [
    "from keras.models import Sequential\n",
    "from keras.layers import *\n",
    "model = Sequential()\n",
    "model.add(Flatten(input_shape=train_generator.image_shape)) #full dense\n",
    "model.add(BatchNormalization()) #to normalize the input..\n",
    "model.add(Dense(256,activation='relu'))\n",
    "model.add(Dropout(0.25))\n",
    "model.add(Dense(128,activation='relu')) #128\n",
    "model.add(Dropout(0.25))\n",
    "model.add(Dense(3,activation='softmax'))\n",
    "model.compile(loss='categorical_crossentropy', optimizer='rmsprop', metrics=['accuracy']) # Let's train the model using RMSprop\n",
    "model.summary()\n",
    "model.fit_generator(\n",
    "        train_generator,\n",
    "        steps_per_epoch=len(train_generator.classes)//train_generator.batch_size, #samples//batch_size\n",
    "        epochs=25,\n",
    "        validation_data=validation_generator,\n",
    "        validation_steps=len(validation_generator.classes)//validation_generator.batch_size)\n",
    "print(\"Accuracy validation: \",model.evaluate_generator(generator=validation_generator, steps = len(validation_generator.classes)//validation_generator.batch_size)[1])"
   ]
  },
  {
   "cell_type": "markdown",
   "metadata": {},
   "source": [
    "Accuracy validation:  0.4876760571775302"
   ]
  },
  {
   "cell_type": "markdown",
   "metadata": {},
   "source": [
    "La red feed forward creada consta de varias capas:\n",
    "- Primero se usa una capa Flatten porque la entrada son matrices que contienen los pixeles de la imagen, una red feed forward no puede recibir un input en forma de matriz, debe ser en forma de vectores, por lo tanto Flatten se encarga transformar la matriz de entrada de dimensiones 150x150 (cada entrada de la matriz es de 3 canales para representar los pixeles, es decir RGB), en un vector de tamaño 150x150x3 = 67500.\n",
    "- BatchNormalization se encarga de normalizar el input de la forma clasica (mean = 0, std = 1).\n",
    "- Capa densa de 256 neuronas.\n",
    "- Dropout \"apaga\" un % de neuronas durante el entrenamiento para evitar overfitting.\n",
    "- Otra capa densa de 128 neuronas.\n",
    "- Otro dropout.\n",
    "- La ultima capa densa contiene 3 neuronas debido a que hay 3 clases en el modelo, además su activación es la función softmax que se usa generalmente en problemas de clasificación.\n",
    "\n",
    "La función de pérdida utilizada es categorical crossentropy (usada para problemas de clasificación), y el optimizador usado es rmsprop, que según la documentación de keras es mejor para redes neuronales recurrentes."
   ]
  },
  {
   "cell_type": "markdown",
   "metadata": {},
   "source": [
    "> c) Utilice la red convolucional (**CNN**) entregada en el código para ser entrenada sobre los datos brutos, matrices RGB de píxeles, y las 3 clases a las que se enfrenta. Evalúe el modelo con la métrica *accuracy* sobre el conjunto de validación. Compare.\n",
    "```python\n",
    "model = Sequential()\n",
    "model.add(Conv2D(32, (3, 3), padding='same',input_shape=train_generator.image_shape,activation='relu'))\n",
    "model.add(Conv2D(32, (3, 3),activation='relu'))\n",
    "model.add(MaxPool2D(pool_size=(2, 2)))\n",
    "model.add(Dropout(0.25))\n",
    "model.add(Conv2D(64, (3, 3), padding='same',activation='relu'))\n",
    "model.add(Conv2D(64, (3, 3),activation='relu'))\n",
    "model.add(MaxPool2D(pool_size=(2, 2)))\n",
    "model.add(Dropout(0.25))\n",
    "model.add(Flatten())\n",
    "model.add(Dense(128,activation='relu'))\n",
    "model.add(Dropout(0.5)) \n",
    "model.add(Dense(len(train_generator.class_indices),activation='softmax'))\n",
    "model.compile(loss='categorical_crossentropy', optimizer='rmsprop', metrics=['accuracy']) # Let's train the model using RMSprop\n",
    "model.summary()\n",
    "model.fit_generator(\n",
    "        train_generator,\n",
    "        steps_per_epoch=len(train_generator.classes)//train_generator.batch_size, #samples//batch_size\n",
    "        epochs=25,\n",
    "        validation_data=validation_generator,\n",
    "        validation_steps=len(validation_generator.classes)//validation_generator.batch_size)\n",
    "```"
   ]
  },
  {
   "cell_type": "code",
   "execution_count": 7,
   "metadata": {},
   "outputs": [
    {
     "name": "stdout",
     "output_type": "stream",
     "text": [
      "_________________________________________________________________\n",
      "Layer (type)                 Output Shape              Param #   \n",
      "=================================================================\n",
      "conv2d_5 (Conv2D)            (None, 150, 150, 32)      896       \n",
      "_________________________________________________________________\n",
      "conv2d_6 (Conv2D)            (None, 148, 148, 32)      9248      \n",
      "_________________________________________________________________\n",
      "max_pooling2d_3 (MaxPooling2 (None, 74, 74, 32)        0         \n",
      "_________________________________________________________________\n",
      "dropout_6 (Dropout)          (None, 74, 74, 32)        0         \n",
      "_________________________________________________________________\n",
      "conv2d_7 (Conv2D)            (None, 74, 74, 64)        18496     \n",
      "_________________________________________________________________\n",
      "conv2d_8 (Conv2D)            (None, 72, 72, 64)        36928     \n",
      "_________________________________________________________________\n",
      "max_pooling2d_4 (MaxPooling2 (None, 36, 36, 64)        0         \n",
      "_________________________________________________________________\n",
      "dropout_7 (Dropout)          (None, 36, 36, 64)        0         \n",
      "_________________________________________________________________\n",
      "flatten_3 (Flatten)          (None, 82944)             0         \n",
      "_________________________________________________________________\n",
      "dense_6 (Dense)              (None, 128)               10616960  \n",
      "_________________________________________________________________\n",
      "dropout_8 (Dropout)          (None, 128)               0         \n",
      "_________________________________________________________________\n",
      "dense_7 (Dense)              (None, 3)                 387       \n",
      "=================================================================\n",
      "Total params: 10,682,915\n",
      "Trainable params: 10,682,915\n",
      "Non-trainable params: 0\n",
      "_________________________________________________________________\n",
      "Epoch 1/25\n",
      "75/75 [==============================] - 431s 6s/step - loss: 1.2327 - acc: 0.3479 - val_loss: 1.0939 - val_acc: 0.4102\n",
      "Epoch 2/25\n",
      "75/75 [==============================] - 429s 6s/step - loss: 1.1006 - acc: 0.4163 - val_loss: 1.0002 - val_acc: 0.5000\n",
      "Epoch 3/25\n",
      "75/75 [==============================] - 430s 6s/step - loss: 1.0503 - acc: 0.4625 - val_loss: 1.0088 - val_acc: 0.4613\n",
      "Epoch 4/25\n",
      "75/75 [==============================] - 463s 6s/step - loss: 0.9943 - acc: 0.5029 - val_loss: 0.9820 - val_acc: 0.5387\n",
      "Epoch 5/25\n",
      "75/75 [==============================] - 446s 6s/step - loss: 0.9900 - acc: 0.5183 - val_loss: 0.9435 - val_acc: 0.5458\n",
      "Epoch 6/25\n",
      "75/75 [==============================] - 437s 6s/step - loss: 0.9605 - acc: 0.5317 - val_loss: 0.9214 - val_acc: 0.5722\n",
      "Epoch 7/25\n",
      "75/75 [==============================] - 432s 6s/step - loss: 0.9386 - acc: 0.5458 - val_loss: 0.8860 - val_acc: 0.5863\n",
      "Epoch 8/25\n",
      "75/75 [==============================] - 430s 6s/step - loss: 0.9031 - acc: 0.5596 - val_loss: 0.8173 - val_acc: 0.6163\n",
      "Epoch 9/25\n",
      "75/75 [==============================] - 429s 6s/step - loss: 0.8698 - acc: 0.5858 - val_loss: 0.7985 - val_acc: 0.6338\n",
      "Epoch 10/25\n",
      "75/75 [==============================] - 429s 6s/step - loss: 0.8706 - acc: 0.5783 - val_loss: 0.8067 - val_acc: 0.6127\n",
      "Epoch 11/25\n",
      "75/75 [==============================] - 431s 6s/step - loss: 0.8335 - acc: 0.6133 - val_loss: 0.7877 - val_acc: 0.6426\n",
      "Epoch 12/25\n",
      "75/75 [==============================] - 430s 6s/step - loss: 0.8260 - acc: 0.6254 - val_loss: 0.7534 - val_acc: 0.6708\n",
      "Epoch 13/25\n",
      "75/75 [==============================] - 430s 6s/step - loss: 0.8092 - acc: 0.6233 - val_loss: 0.7598 - val_acc: 0.6444\n",
      "Epoch 14/25\n",
      "75/75 [==============================] - 429s 6s/step - loss: 0.7819 - acc: 0.6433 - val_loss: 0.7569 - val_acc: 0.6620\n",
      "Epoch 15/25\n",
      "75/75 [==============================] - 431s 6s/step - loss: 0.7926 - acc: 0.6392 - val_loss: 0.7667 - val_acc: 0.6391\n",
      "Epoch 16/25\n",
      "75/75 [==============================] - 429s 6s/step - loss: 0.7515 - acc: 0.6621 - val_loss: 0.6990 - val_acc: 0.6919\n",
      "Epoch 17/25\n",
      "75/75 [==============================] - 429s 6s/step - loss: 0.7718 - acc: 0.6450 - val_loss: 0.7431 - val_acc: 0.6725\n",
      "Epoch 18/25\n",
      "75/75 [==============================] - 429s 6s/step - loss: 0.7307 - acc: 0.6596 - val_loss: 0.9076 - val_acc: 0.5704\n",
      "Epoch 19/25\n",
      "75/75 [==============================] - 436s 6s/step - loss: 0.7286 - acc: 0.6717 - val_loss: 0.7300 - val_acc: 0.6708\n",
      "Epoch 20/25\n",
      "75/75 [==============================] - 428s 6s/step - loss: 0.7238 - acc: 0.6733 - val_loss: 0.7694 - val_acc: 0.6426\n",
      "Epoch 21/25\n",
      "75/75 [==============================] - 429s 6s/step - loss: 0.7087 - acc: 0.6829 - val_loss: 0.7488 - val_acc: 0.6849\n",
      "Epoch 22/25\n",
      "75/75 [==============================] - 429s 6s/step - loss: 0.7081 - acc: 0.6858 - val_loss: 0.7812 - val_acc: 0.6338\n",
      "Epoch 23/25\n",
      "75/75 [==============================] - 435s 6s/step - loss: 0.6908 - acc: 0.6929 - val_loss: 0.7760 - val_acc: 0.6901\n",
      "Epoch 24/25\n",
      "75/75 [==============================] - 444s 6s/step - loss: 0.6975 - acc: 0.6858 - val_loss: 0.6624 - val_acc: 0.7148\n",
      "Epoch 25/25\n",
      "75/75 [==============================] - 436s 6s/step - loss: 0.6736 - acc: 0.7117 - val_loss: 0.6725 - val_acc: 0.7148\n",
      "Accuracy validation:  0.7007042261916148\n"
     ]
    }
   ],
   "source": [
    "model = Sequential()\n",
    "model.add(Conv2D(32, (3, 3), padding='same',input_shape=train_generator.image_shape,activation='relu'))\n",
    "model.add(Conv2D(32, (3, 3),activation='relu'))\n",
    "model.add(MaxPool2D(pool_size=(2, 2)))\n",
    "model.add(Dropout(0.25))\n",
    "model.add(Conv2D(64, (3, 3), padding='same',activation='relu'))\n",
    "model.add(Conv2D(64, (3, 3),activation='relu'))\n",
    "model.add(MaxPool2D(pool_size=(2, 2)))\n",
    "model.add(Dropout(0.25))\n",
    "model.add(Flatten())\n",
    "model.add(Dense(128,activation='relu'))\n",
    "model.add(Dropout(0.5)) \n",
    "model.add(Dense(len(train_generator.class_indices),activation='softmax'))\n",
    "model.compile(loss='categorical_crossentropy', optimizer='rmsprop', metrics=['accuracy']) # Let's train the model using RMSprop\n",
    "model.summary()\n",
    "model.fit_generator(\n",
    "        train_generator,\n",
    "        steps_per_epoch=len(train_generator.classes)//train_generator.batch_size, #samples//batch_size\n",
    "        epochs=25,\n",
    "        validation_data=validation_generator,\n",
    "        validation_steps=len(validation_generator.classes)//validation_generator.batch_size)\n",
    "print(\"Accuracy validation: \",model.evaluate_generator(generator=validation_generator, steps = len(validation_generator.classes)//validation_generator.batch_size)[1])"
   ]
  },
  {
   "cell_type": "code",
   "execution_count": 8,
   "metadata": {},
   "outputs": [
    {
     "name": "stdout",
     "output_type": "stream",
     "text": [
      "[[60 78 62]\n",
      " [67 63 70]\n",
      " [68 68 64]]\n"
     ]
    }
   ],
   "source": [
    "from sklearn.metrics import confusion_matrix \n",
    "Y_pred = model.predict_generator(validation_generator,len(validation_generator.classes)//validation_generator.batch_size+1)\n",
    "y_pred = np.argmax(Y_pred, axis=1)\n",
    "confusion_matrix = confusion_matrix(validation_generator.classes, y_pred)\n",
    "print(confusion_matrix)"
   ]
  },
  {
   "cell_type": "markdown",
   "metadata": {},
   "source": [
    "Accuracy validation:  0.6883802816901409\n",
    "\n",
    "La red convolucional puede recibir matrices de entrada, luego puede obtener features de la imagen, para finalmente funcionar como una red feed forward que asigna una clase a la imagen, debido a esto la red convolucional es mejor para reconocimiento de imagenes. En la red creada, la fase de feature extraction esta en las capas Conv2D y MaxPool2D, luego se usa Flatten y Dense para la fase de clasificación (FFN), siempre usando Dropout para evitar overfit."
   ]
  },
  {
   "cell_type": "markdown",
   "metadata": {},
   "source": [
    "> d) Genere un conjunto datos con incorrecta etiquetación de manera manual y vea si el modelo convolucional se sigue comportando de la misma manera. Para esto tome 100 imágenes aleatorias de entrenamiento de la carpeta *hot dog* y 100 imágenes aleatorias de entrenamiento de la carpeta *hamburger* e intercambielas, sin manipular las imágenes de la carpeta *pizza* y con el conjunto de validación intacto. Genere las matrices de confusión en el conjunto de validación para visualizar cómo afectó al modelo la corrupción realizada a los datos.\n",
    "```python\n",
    "from sklearn.metrics import confusion_matrix \n",
    "Y_pred = model.predict_generator(validation_generator,len(validation_generator.classes)//validation_generator.batch_size+1)\n",
    "y_pred = np.argmax(Y_pred, axis=1)\n",
    "confusion_matrix = confusion_matrix(validation_generator.classes, y_pred)\n",
    "```"
   ]
  },
  {
   "cell_type": "code",
   "execution_count": 4,
   "metadata": {},
   "outputs": [
    {
     "name": "stdout",
     "output_type": "stream",
     "text": [
      "Found 2400 images belonging to 3 classes.\n",
      "_________________________________________________________________\n",
      "Layer (type)                 Output Shape              Param #   \n",
      "=================================================================\n",
      "conv2d_1 (Conv2D)            (None, 150, 150, 32)      896       \n",
      "_________________________________________________________________\n",
      "conv2d_2 (Conv2D)            (None, 148, 148, 32)      9248      \n",
      "_________________________________________________________________\n",
      "max_pooling2d_1 (MaxPooling2 (None, 74, 74, 32)        0         \n",
      "_________________________________________________________________\n",
      "dropout_3 (Dropout)          (None, 74, 74, 32)        0         \n",
      "_________________________________________________________________\n",
      "conv2d_3 (Conv2D)            (None, 74, 74, 64)        18496     \n",
      "_________________________________________________________________\n",
      "conv2d_4 (Conv2D)            (None, 72, 72, 64)        36928     \n",
      "_________________________________________________________________\n",
      "max_pooling2d_2 (MaxPooling2 (None, 36, 36, 64)        0         \n",
      "_________________________________________________________________\n",
      "dropout_4 (Dropout)          (None, 36, 36, 64)        0         \n",
      "_________________________________________________________________\n",
      "flatten_2 (Flatten)          (None, 82944)             0         \n",
      "_________________________________________________________________\n",
      "dense_4 (Dense)              (None, 128)               10616960  \n",
      "_________________________________________________________________\n",
      "dropout_5 (Dropout)          (None, 128)               0         \n",
      "_________________________________________________________________\n",
      "dense_5 (Dense)              (None, 3)                 387       \n",
      "=================================================================\n",
      "Total params: 10,682,915\n",
      "Trainable params: 10,682,915\n",
      "Non-trainable params: 0\n",
      "_________________________________________________________________\n",
      "Epoch 1/25\n",
      "75/75 [==============================] - 431s 6s/step - loss: 1.2785 - acc: 0.3683 - val_loss: 1.0750 - val_acc: 0.3944\n",
      "Epoch 2/25\n",
      "75/75 [==============================] - 431s 6s/step - loss: 1.0711 - acc: 0.4537 - val_loss: 1.0570 - val_acc: 0.4067\n",
      "Epoch 3/25\n",
      "75/75 [==============================] - 429s 6s/step - loss: 1.0424 - acc: 0.4754 - val_loss: 0.9853 - val_acc: 0.5370\n",
      "Epoch 4/25\n",
      "75/75 [==============================] - 429s 6s/step - loss: 1.0156 - acc: 0.4946 - val_loss: 0.9955 - val_acc: 0.5317\n",
      "Epoch 5/25\n",
      "75/75 [==============================] - 430s 6s/step - loss: 0.9738 - acc: 0.5271 - val_loss: 0.9101 - val_acc: 0.5687\n",
      "Epoch 6/25\n",
      "75/75 [==============================] - 427s 6s/step - loss: 0.9852 - acc: 0.5387 - val_loss: 0.9144 - val_acc: 0.5704\n",
      "Epoch 7/25\n",
      "75/75 [==============================] - 431s 6s/step - loss: 0.9317 - acc: 0.5575 - val_loss: 0.9143 - val_acc: 0.5775\n",
      "Epoch 8/25\n",
      "75/75 [==============================] - 428s 6s/step - loss: 0.9113 - acc: 0.5650 - val_loss: 0.8587 - val_acc: 0.6146\n",
      "Epoch 9/25\n",
      "75/75 [==============================] - 432s 6s/step - loss: 0.8634 - acc: 0.5933 - val_loss: 0.8217 - val_acc: 0.6250\n",
      "Epoch 10/25\n",
      "75/75 [==============================] - 476s 6s/step - loss: 0.8568 - acc: 0.5950 - val_loss: 0.8834 - val_acc: 0.6021\n",
      "Epoch 11/25\n",
      "75/75 [==============================] - 508s 7s/step - loss: 0.8663 - acc: 0.5983 - val_loss: 0.7911 - val_acc: 0.6303\n",
      "Epoch 12/25\n",
      "75/75 [==============================] - 510s 7s/step - loss: 0.8124 - acc: 0.6213 - val_loss: 0.7941 - val_acc: 0.6285\n",
      "Epoch 13/25\n",
      "75/75 [==============================] - 510s 7s/step - loss: 0.8028 - acc: 0.6312 - val_loss: 0.8280 - val_acc: 0.6250\n",
      "Epoch 14/25\n",
      "75/75 [==============================] - 514s 7s/step - loss: 0.7956 - acc: 0.6275 - val_loss: 0.7986 - val_acc: 0.6303\n",
      "Epoch 15/25\n",
      "75/75 [==============================] - 510s 7s/step - loss: 0.7718 - acc: 0.6575 - val_loss: 0.7775 - val_acc: 0.6320\n",
      "Epoch 16/25\n",
      "75/75 [==============================] - 466s 6s/step - loss: 0.7516 - acc: 0.6587 - val_loss: 0.8462 - val_acc: 0.6232\n",
      "Epoch 17/25\n",
      "75/75 [==============================] - 435s 6s/step - loss: 0.7447 - acc: 0.6663 - val_loss: 0.7480 - val_acc: 0.6444\n",
      "Epoch 18/25\n",
      "75/75 [==============================] - 429s 6s/step - loss: 0.7433 - acc: 0.6608 - val_loss: 0.7388 - val_acc: 0.6761\n",
      "Epoch 19/25\n",
      "75/75 [==============================] - 430s 6s/step - loss: 0.7100 - acc: 0.6758 - val_loss: 0.7246 - val_acc: 0.6849\n",
      "Epoch 20/25\n",
      "75/75 [==============================] - 431s 6s/step - loss: 0.7116 - acc: 0.6721 - val_loss: 0.8109 - val_acc: 0.6567\n",
      "Epoch 21/25\n",
      "75/75 [==============================] - 429s 6s/step - loss: 0.7028 - acc: 0.6892 - val_loss: 0.7079 - val_acc: 0.6655\n",
      "Epoch 22/25\n",
      "75/75 [==============================] - 427s 6s/step - loss: 0.6765 - acc: 0.7021 - val_loss: 0.7240 - val_acc: 0.6866\n",
      "Epoch 23/25\n",
      "75/75 [==============================] - 430s 6s/step - loss: 0.6713 - acc: 0.6879 - val_loss: 0.8925 - val_acc: 0.6232\n",
      "Epoch 24/25\n",
      "75/75 [==============================] - 431s 6s/step - loss: 0.6948 - acc: 0.7033 - val_loss: 0.8471 - val_acc: 0.5968\n",
      "Epoch 25/25\n",
      "75/75 [==============================] - 429s 6s/step - loss: 0.6779 - acc: 0.7050 - val_loss: 0.6550 - val_acc: 0.7201\n",
      "Accuracy validation:  0.6778169005689486\n"
     ]
    }
   ],
   "source": [
    "train_generator = train_datagen.flow_from_directory(\n",
    "        'food_data/train_incorrect',\n",
    "        target_size=(150, 150),\n",
    "        color_mode='rgb',\n",
    "        batch_size=32)\n",
    "\n",
    "model2 = Sequential()\n",
    "model2.add(Conv2D(32, (3, 3), padding='same',input_shape=train_generator.image_shape,activation='relu'))\n",
    "model2.add(Conv2D(32, (3, 3),activation='relu'))\n",
    "model2.add(MaxPool2D(pool_size=(2, 2)))\n",
    "model2.add(Dropout(0.25))\n",
    "model2.add(Conv2D(64, (3, 3), padding='same',activation='relu'))\n",
    "model2.add(Conv2D(64, (3, 3),activation='relu'))\n",
    "model2.add(MaxPool2D(pool_size=(2, 2)))\n",
    "model2.add(Dropout(0.25))\n",
    "model2.add(Flatten())\n",
    "model2.add(Dense(128,activation='relu'))\n",
    "model2.add(Dropout(0.5)) \n",
    "model2.add(Dense(len(train_generator.class_indices),activation='softmax'))\n",
    "model2.compile(loss='categorical_crossentropy', optimizer='rmsprop', metrics=['accuracy']) # Let's train the model using RMSprop\n",
    "model2.summary()\n",
    "model2.fit_generator(\n",
    "        train_generator,\n",
    "        steps_per_epoch=len(train_generator.classes)//train_generator.batch_size, #samples//batch_size\n",
    "        epochs=25,\n",
    "        validation_data=validation_generator,\n",
    "        validation_steps=len(validation_generator.classes)//validation_generator.batch_size)\n",
    "print(\"Accuracy validation: \",model2.evaluate_generator(generator=validation_generator, steps = len(validation_generator.classes)//validation_generator.batch_size)[1])\n",
    "\n",
    "from sklearn.metrics import confusion_matrix \n",
    "Y_pred = model2.predict_generator(validation_generator,len(validation_generator.classes)//validation_generator.batch_size+1)\n",
    "y_pred = np.argmax(Y_pred, axis=1)\n",
    "confusion_matrix = confusion_matrix(validation_generator.classes, y_pred)"
   ]
  },
  {
   "cell_type": "markdown",
   "metadata": {},
   "source": [
    "Accuracy validation:  0.6778169005689486"
   ]
  },
  {
   "cell_type": "code",
   "execution_count": 5,
   "metadata": {},
   "outputs": [
    {
     "name": "stdout",
     "output_type": "stream",
     "text": [
      "[[61 54 85]\n",
      " [59 59 82]\n",
      " [67 62 71]]\n"
     ]
    }
   ],
   "source": [
    "from sklearn.metrics import confusion_matrix \n",
    "Y_pred = model2.predict_generator(validation_generator,len(validation_generator.classes)//validation_generator.batch_size+1)\n",
    "y_pred = np.argmax(Y_pred, axis=1)\n",
    "confusion_matrix = confusion_matrix(validation_generator.classes, y_pred)\n",
    "print(confusion_matrix)"
   ]
  },
  {
   "cell_type": "markdown",
   "metadata": {},
   "source": [
    "Al revisar ambas matrices de confusion, no pareciera haber una gran diferencia al comportamiento de la CNN, el mayor cambio pareciera ser que ahora la CNN es más propensa a predecir que la imagen sea pizza, probablemente debido a que encontro más features coincidentes en esa clase que en las demás, pero en general se mantuvo con la misma precisión."
   ]
  },
  {
   "cell_type": "markdown",
   "metadata": {},
   "source": [
    "<a id=\"refs\"></a>\n",
    "## Referencias\n",
    "[1] http://archive.ics.uci.edu/ml/datasets/Wine+Quality  \n",
    "[2] http://scikit-learn.org/stable/modules/generated/sklearn.metrics.f1_score.html  \n",
    "[3] http://deeplearning.net/software/theano/tutorial/conv_arithmetic.html, http://colah.github.io/posts/2014-07-Understanding-Convolutions/    \n",
    "[4] https://www.vision.ee.ethz.ch/datasets_extra/food-101/  \n",
    "[5] Box, G. E. P., Jenkins, G. M. and Reinsel, G. C. (1976), *Time Series Analysis, Forecasting and Control*. Third Edition. Holden-Day. Series G.  "
   ]
  }
 ],
 "metadata": {
  "kernelspec": {
   "display_name": "Python 3",
   "language": "python",
   "name": "python3"
  },
  "language_info": {
   "codemirror_mode": {
    "name": "ipython",
    "version": 3
   },
   "file_extension": ".py",
   "mimetype": "text/x-python",
   "name": "python",
   "nbconvert_exporter": "python",
   "pygments_lexer": "ipython3",
   "version": "3.6.5"
  }
 },
 "nbformat": 4,
 "nbformat_minor": 2
}
